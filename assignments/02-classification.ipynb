{
 "cells": [
  {
   "cell_type": "markdown",
   "metadata": {},
   "source": [
    " ## Assignment 2\n",
    "\n",
    " This assignment is aimed to give you some practice using Jupyter Notebooks, R, and interpretting statistical output using real-world data. The notebook below will be used to generate the statistical output and you will also write up answers to specific questions related to the statistical output. The assignment will be guided and much of the R code will be provided for you, but specific aspects of the R code you will be asked to interact with and ultimately make a decision about appropriate values to include. The notebook should be run from the first code cell in sequential order, this means that you must run the beginning cells in order to be able to have access to the R packages needed for the assignment and that the data are read in appropriately.\n",
    "\n",
    " You may work in groups of up to 3 to complete the assignment. In these situations, please turn in one assignment in ICON with all group members names on the submission.\n",
    "\n",
    " *Assignment 2 Due*: **Sunday, March 21, by 11:59 pm**"
   ]
  },
  {
   "cell_type": "markdown",
   "metadata": {},
   "source": [
    " ## Description of the Data\n",
    "\n",
    " These data are weather data from Australia weather stations between 2007 and 2017.\n",
    "\n",
    " + **Date**: The date of weather observation.\n",
    " + **Location**: Location of weather observation.\n",
    " + **MinTemp**: Minimum temperature.\n",
    " + **MaxTemp**: Maximum temperature.\n",
    " + **Rainfall**: Daily rainfall (in mm).\n",
    " + **WindGustDir**: Wind gust direction\n",
    " + **WindGustSpeed**: Wind gust speed (in km/h)\n",
    " + **WindGustDir9am**: Wind gust direction at 9am.\n",
    " + **WindGustDir3pm**: Wind gust direction at 3pm.\n",
    " + **WindGustSpeed9am**: Wind gust speed (in km/h) at 9am\n",
    " + **WindGustSpeed3pm**: Wind gust speed (in km/h) at 3pm\n",
    " + **Humidity9am**: Humidity (percent) at 9am\n",
    " + **Humidity3pm**: Humidity (percent) at 3pm\n",
    " + **Pressure9am**: Atmospheric pressure (hpa) at 9am\n",
    " + **Pressure3pm**: Atmospheric pressure (hpa) at 3pm\n",
    " + **Temp9am**: Temperature (in Celsius) at 9am\n",
    " + **Temp3pm**: Temperature (in Celsius) at 3 pm\n",
    " + **RainToday**: Boolean: 1 if precipitation (mm) in the 24 hours to 9am exceeds 1mm, otherwise 0\n",
    " + **RainTomorrow**: The target variable. Did it rain tomorrow? Yes/No\n",
    " + **year**: The year of observation\n",
    " + **month**: The month of observation, represented as text labels\n",
    " + **day**: The day of the observation within each month\n",
    " + **day_labels**: The day of the week, (e.g. Sun = Sunday)\n",
    "\n",
    " Please don't hesitate to reach out with any data questions about the structure and interpretation of the variables in the data."
   ]
  },
  {
   "cell_type": "markdown",
   "metadata": {},
   "source": [
    " ## Assignment Setup"
   ]
  },
  {
   "cell_type": "markdown",
   "metadata": {},
   "source": [
    " **Run this cell first upon opening the notebook everytime** This cell loads the R packages and prepares the data for you."
   ]
  },
  {
   "cell_type": "code",
   "execution_count": null,
   "metadata": {},
   "outputs": [],
   "source": [
    "library(tidyverse)\n",
    "library(ggformula)\n",
    "library(mosaic)\n",
    "library(rpart)\n",
    "library(rpart.plot)\n",
    "library(rsample)\n",
    "library(lubridate)\n",
    "\n",
    "theme_set(theme_bw(base_size = 14))\n",
    "\n",
    "aus_weather <- read_csv(\"https://raw.githubusercontent.com/lebebr01/statthink/master/data-raw/weatherAUS.csv\",\n",
    "                        guess_max = 100000) %>%\n",
    "                        select(-Evaporation, -Sunshine, -Cloud9am, -Cloud3pm, -RISK_MM) %>%\n",
    "                        na.omit() %>%\n",
    "                        mutate(year = year(Date),\n",
    "                               month = month(Date, label = TRUE),\n",
    "                               day = day(Date),\n",
    "                               day_labels = wday(Date, label = TRUE),\n",
    "                               RainTomorrow_num = ifelse(RainTomorrow == 'Yes', 1, 0))\n",
    "\n",
    "head(aus_weather)"
   ]
  },
  {
   "cell_type": "markdown",
   "metadata": {},
   "source": [
    " ## Question 1\n",
    " Explore the `MaxTemp` distribution visually using the code provided below.\n",
    "\n",
    " Complete the code by filling in the appropriate variable where the \"^^\" are and fill in the visualization type you are most comfortable with where \"??\" are located. Finally, replace the \"$$\" with an appropriate plot title and x-axis label that are descriptive. **1 pt**"
   ]
  },
  {
   "cell_type": "code",
   "execution_count": null,
   "metadata": {},
   "outputs": [],
   "source": [
    "gf_??(~ ^^, data = aus_weather) %>%\n",
    "  gf_labs(title = \"$$\", \n",
    "          x = \"$$\") \n"
   ]
  },
  {
   "cell_type": "markdown",
   "metadata": {},
   "source": [
    " ## Question 2\n",
    " Based on the figure created in question 2 above, estimate the mean and median from the figure. Provide a sentence rationale for why you think the mean and median are approximately what you estimated. Be as specific as you can about features in the figure that you considered when picking values for the mean and median. Note, no need to be exact or compute the statistics yet (this will come later), rather provide your best guess solely from the figure create in question 2. **1 pt**"
   ]
  },
  {
   "cell_type": "markdown",
   "metadata": {},
   "source": [
    " *Write your response in this cell by double clicking on this text. When finished typing your response, hit control + enter to convert the text.*"
   ]
  },
  {
   "cell_type": "markdown",
   "metadata": {},
   "source": [
    " ## Question 3\n",
    " Use the following code to compute descriptive statistics that summarize the center and variability for the `MaxTemp` variable.\n",
    "\n",
    " Complete the code by filling in the appropriate descriptive functions where the \"&&\" are located in the code below. Functions that may be useful here could include: `mean`, `median`, `sd`, `var`, `IQR`, `min`, `max`, `length`. **1 pt**"
   ]
  },
  {
   "cell_type": "code",
   "execution_count": null,
   "metadata": {},
   "outputs": [],
   "source": [
    "aus_weather %>%\n",
    "  df_stats(~ MaxTemp, &&)\n"
   ]
  },
  {
   "cell_type": "markdown",
   "metadata": {},
   "source": [
    " ## Question 4a\n",
    " For each of the statistics related to the **center of the distribution** calculated in question 3 above, provide a one or two sentence discussion of what the measures of **center** tell about the `MaxTemp` attribute. More specifically, interpret the statistics in the context of this particular data. **1 pt**"
   ]
  },
  {
   "cell_type": "markdown",
   "metadata": {},
   "source": [
    " *Write your response in this cell by double clicking on this text. When finished typing your response, hit control + enter to convert the text.*"
   ]
  },
  {
   "cell_type": "markdown",
   "metadata": {},
   "source": [
    " ## Question 4b\n",
    " For each of the statistics related to the **variation of the distribution** calculated in question3 above, provide a one or two sentence discussion of what the measures of **variation** tell about the `MaxTemp` attribute. More specifically, interpret the statistics in the context of this particular data. **1 pt**"
   ]
  },
  {
   "cell_type": "markdown",
   "metadata": {},
   "source": [
    " *Write your response in this cell by double clicking on this text. When finished typing your response, hit control + enter to convert the text.*"
   ]
  },
  {
   "cell_type": "markdown",
   "metadata": {},
   "source": [
    " ## Question 4c\n",
    " Using the statistics calculated in question 3 above, provide a one or two sentence discussion of what the statistics tell about the **shape** of the `MaxTemp` attribute. More specifically, what do the statistics suggest about the shape of the distribution? **1 pt**"
   ]
  },
  {
   "cell_type": "markdown",
   "metadata": {},
   "source": [
    " *Write your response in this cell by double clicking on this text. When finished typing your response, hit control + enter to convert the text.*"
   ]
  },
  {
   "cell_type": "markdown",
   "metadata": {},
   "source": [
    " ## Question 5\n",
    " Hypothesize which variables may help to explain variation in the `MaxTemp` variable. Put another way, what are some important variables that may account for differences in the maximum temperature for that day. These may include variables that are in the data or other variables that are not in the data, think big picture here about other things that may the home sale price. **1 pt**"
   ]
  },
  {
   "cell_type": "markdown",
   "metadata": {},
   "source": [
    " *Write your response in this cell by double clicking on this text. When finished typing your response, hit control + enter to convert the text.*"
   ]
  },
  {
   "cell_type": "markdown",
   "metadata": {},
   "source": [
    " ## Question 6\n",
    " Compute conditional multivariate descriptive statistics for the `MaxTemp` variable based on a variable you think may help to explain differences in the maximum temperature for that day. This may include variables you discussed in question 5 above.\n",
    "\n",
    " Complete the code by filling in the appropriate outcome variable in place of \"^^\", the variable(s) of interest in place of \"$$\", and the descriptive functions where the \"&&\" are located in the code below. Functions that may be useful here could include: `mean`, `median`, `sd`, `var`, `IQR`, `min`, `max`, `length`. **1 pt**"
   ]
  },
  {
   "cell_type": "code",
   "execution_count": null,
   "metadata": {},
   "outputs": [],
   "source": [
    "aus_weather %>%\n",
    "  df_stats(^^ ~ $$, &&)\n"
   ]
  },
  {
   "cell_type": "markdown",
   "metadata": {},
   "source": [
    " ## Question 7\n",
    " Based on the descriptive statistics computed in question 6 above, interpret important differences in the descriptive statistics by the attribute(s) that you explored in question 6. Be as specific as possible about the differences and interpret the differences in the context of the data. **2 pts**"
   ]
  },
  {
   "cell_type": "markdown",
   "metadata": {},
   "source": [
    " *Write your response in this cell by double clicking on this text. When finished typing your response, hit control + enter to convert the text.*"
   ]
  },
  {
   "cell_type": "markdown",
   "metadata": {},
   "source": [
    " ## Question 8\n",
    "  Before predicting weather it is going to rain tomorrow based on the weather observations from the previous day, let's first explore how often it rains tomorrow.\n",
    "  Complete the code below to generate descriptive statistics on the numeric `RainTomorrow_num` attribute by filling in the descriptive functions where the \"&&\" are located in the code below. Functions that may be useful here could include: `mean`, `median`, `sd`, `var`, `IQR`, `min`, `max`, `length`. **1 pt**"
   ]
  },
  {
   "cell_type": "code",
   "execution_count": null,
   "metadata": {},
   "outputs": [],
   "source": [
    "aus_weather %>%\n",
    "  df_stats(~ RainTomorrow_num, &&)\n"
   ]
  },
  {
   "cell_type": "markdown",
   "metadata": {},
   "source": [
    "  ## Question 9\n",
    "  Discuss how often it rains compared to not raining, citing specific evidence from question 8. How will the number of times it rains tomorrow impact the classification model that will be fitted next? Be as specific in your discussion of the impacts as possible. **1 pt**."
   ]
  },
  {
   "cell_type": "markdown",
   "metadata": {},
   "source": [
    " *Write your response in this cell by double clicking on this text. When finished typing your response, hit control + enter to convert the text.*"
   ]
  },
  {
   "cell_type": "markdown",
   "metadata": {},
   "source": [
    "  ## Question 10\n",
    "  We are now going to explore which data attributes (i.e. weather observations) that are most important in predicting if it is going to rain tomorrow based on the weather observations from the previous day. To see which attributes are important, we will fit a classification tree to these data using the `rpart()` function.\n",
    "  \n",
    "  Complete the code within the `rpart()` function below by replacing \"$$\" with variables included in the data that you think would be important in days in which it will rain tomorrow. Note, separate variables with a `+` symbol and I recommend not using the location attribute. **1 pt**"
   ]
  },
  {
   "cell_type": "code",
   "execution_count": null,
   "metadata": {},
   "outputs": [],
   "source": [
    "set.seed(2020)\n",
    "aus_weather_split <- initial_split(aus_weather, prop = .7)\n",
    "aus_weather_train <- training(aus_weather_split)\n",
    "aus_weather_test <- testing(aus_weather_split)\n",
    "\n",
    "\n",
    "# Fit classification tree\n",
    "aus_weather_class <- rpart(RainTomorrow ~ $$, \n",
    "                    method = 'class', data = aus_weather_train)\n",
    "\n",
    "rpart.plot(aus_weather_class, roundint = FALSE, type = 3, branch = .3)\n"
   ]
  },
  {
   "cell_type": "markdown",
   "metadata": {},
   "source": [
    "  ## Question 11\n",
    "  Based on the classification tree figure created from question 10 above, what are the most important variables that help to predict whether it will rain tomorrow? Which variable was the most important? **1 pt**"
   ]
  },
  {
   "cell_type": "markdown",
   "metadata": {},
   "source": [
    "  *Write your response in this cell by double clicking on this text. When finished typing your response, hit control + enter to convert the text.*"
   ]
  },
  {
   "cell_type": "markdown",
   "metadata": {},
   "source": [
    "  ## Question 12\n",
    "  The code below will use the model fitted above and produce predicted values for the withheld test data. "
   ]
  },
  {
   "cell_type": "code",
   "execution_count": null,
   "metadata": {},
   "outputs": [],
   "source": [
    "aus_weather_test <- aus_weather_test %>%\n",
    "  mutate(rain_tomorrow_predict = predict(aus_weather_class, \n",
    "                                    newdata = aus_weather_test, \n",
    "                                    type = 'class'))\n",
    "\n",
    "aus_weather_test %>%\n",
    "  mutate(same_class = ifelse(RainTomorrow == rain_tomorrow_predict, 1, 0)) %>%\n",
    "  df_stats(~ same_class, mean, sum, length)\n"
   ]
  },
  {
   "cell_type": "markdown",
   "metadata": {},
   "source": [
    " Do you feel the classification tree did a good job at accurately predicting whether it will rain tomorrow? Be as specific as possible citing the descriptive statistics computed above. **1 pt**"
   ]
  },
  {
   "cell_type": "markdown",
   "metadata": {},
   "source": [
    " *Write your response in this cell by double clicking on this text. When finished typing your response, hit control + enter to convert the text.*"
   ]
  },
  {
   "cell_type": "markdown",
   "metadata": {},
   "source": [
    "  ## Question 13\n",
    "  The code below will create a bar chart is created that shows the accuracy of the predictions compared to the actual observed data."
   ]
  },
  {
   "cell_type": "code",
   "execution_count": null,
   "metadata": {},
   "outputs": [],
   "source": [
    "gf_bar(~ RainTomorrow, fill = ~rain_tomorrow_predict, data = aus_weather_test, \n",
    "       position = 'fill') %>% \n",
    "       gf_labs(y = \"Proportion\", \n",
    "       x = \"Did it really rain tomorrow?\", \n",
    "       fill = \"Model Predicted Rainfall\")\n"
   ]
  },
  {
   "cell_type": "markdown",
   "metadata": {},
   "source": [
    " Do you feel the classification tree still did a good job at accurately predicting whether it will rain tomorrow when looking at the bar chart compared to only the descriptive statistics? Be as specific as possible citing the bar chart created above. **1 pt**"
   ]
  },
  {
   "cell_type": "markdown",
   "metadata": {},
   "source": [
    " *Write your response in this cell by double clicking on this text. When finished typing your response, hit control + enter to convert the text.*"
   ]
  }
 ],
 "metadata": {
  "language_info": {
   "codemirror_mode": "r",
   "file_extension": ".r",
   "mimetype": "text/x-r-source",
   "name": "R",
   "pygments_lexer": "r",
   "version": "3.6.1"
  },
  "orig_nbformat": 2,
  "file_extension": ".py",
  "kernelspec": {
   "display_name": "R",
   "language": "R",
   "name": "ir"
  },
  "mimetype": "text/x-python",
  "name": "python",
  "npconvert_exporter": "python",
  "pygments_lexer": "ipython3",
  "version": 3
 },
 "nbformat": 4,
 "nbformat_minor": 2
}