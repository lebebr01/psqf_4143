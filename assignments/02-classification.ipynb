{
 "cells": [
  {
   "cell_type": "markdown",
   "metadata": {},
   "source": [
    " ## Assignment 2\n",
    "\n",
    " This assignment is aimed to give you some practice using Jupyter Notebooks, R, and interpretting statistical output using real-world data. The notebook below will be used to generate the statistical output and you will also write up answers to specific questions related to the statistical output. The assignment will be guided and much of the R code will be provided for you, but specific aspects of the R code you will be asked to interact with and ultimately make a decision about appropriate values to include. The notebook should be run from the first code cell in sequential order, this means that you must run the beginning cells in order to be able to have access to the R packages needed for the assignment and that the data are read in appropriately.\n",
    "\n",
    " If you have an error and want to reset any code chunks to how this document was submitted to the IDAS, you can view this file on [GitHub](https://github.com/lebebr01/psqf_4143/tree/main/assignments). *Note: The same file name is found on the GitHub link.*\n",
    "\n",
    "Upon completion of generating the statistical code, you will be asked to submit answers to questions on a Microsoft Forms quiz. These questions will be focused on interpreting the statistical output generated from this notebook.\n",
    "\n",
    " You may work in groups of up to 3 to complete the assignment. In these situations, please turn in one assignment in ICON with all group members names on the submission.\n",
    "\n",
    " *Assignment 2 Due*: **Monday, October 10th, by 11:59 pm**"
   ]
  },
  {
   "cell_type": "markdown",
   "metadata": {},
   "source": [
    " ## Description of the Data\n",
    "\n",
    " These data are weather data from Australia weather stations between 2007 and 2017.\n",
    "\n",
    " + **Date**: The date of weather observation.\n",
    " + **Location**: Location of weather observation.\n",
    " + **MinTemp**: Minimum temperature.\n",
    " + **MaxTemp**: Maximum temperature.\n",
    " + **Rainfall**: Daily rainfall (in mm).\n",
    " + **WindGustDir**: Wind gust direction\n",
    " + **WindGustSpeed**: Wind gust speed (in km/h)\n",
    " + **WindDir9am**: Wind gust direction at 9am.\n",
    " + **WindDir3pm**: Wind gust direction at 3pm.\n",
    " + **WindSpeed9am**: Wind gust speed (in km/h) at 9am\n",
    " + **WindSpeed3pm**: Wind gust speed (in km/h) at 3pm\n",
    " + **Humidity9am**: Humidity (percent) at 9am\n",
    " + **Humidity3pm**: Humidity (percent) at 3pm\n",
    " + **Pressure9am**: Atmospheric pressure (hpa) at 9am\n",
    " + **Pressure3pm**: Atmospheric pressure (hpa) at 3pm\n",
    " + **Temp9am**: Temperature (in Celsius) at 9am\n",
    " + **Temp3pm**: Temperature (in Celsius) at 3 pm\n",
    " + **RainToday**: Boolean: 1 if precipitation (mm) in the 24 hours to 9am exceeds 1mm, otherwise 0\n",
    " + **RainTomorrow**: The target attribute. Did it rain tomorrow? Yes/No\n",
    " + **year**: The year of observation\n",
    " + **month**: The month of observation, represented as text labels\n",
    " + **day**: The day of the observation within each month\n",
    " + **day_labels**: The day of the week, (e.g. Sun = Sunday)\n",
    " + **year_char**: A character version of the year of observation, useful for plotting or descriptive stats.\n",
    "\n",
    " Please don't hesitate to reach out with any data questions about the structure and interpretation of the attributes in the data."
   ]
  },
  {
   "cell_type": "markdown",
   "metadata": {},
   "source": [
    " ## Assignment Setup"
   ]
  },
  {
   "cell_type": "markdown",
   "metadata": {},
   "source": [
    " **Run this cell first upon opening the notebook everytime** This cell loads the R packages and prepares the data for you."
   ]
  },
  {
   "cell_type": "code",
   "execution_count": null,
   "metadata": {
    "vscode": {
     "languageId": "r"
    }
   },
   "outputs": [],
   "source": [
    "library(tidyverse)\n",
    "library(ggformula)\n",
    "library(mosaic)\n",
    "library(rpart)\n",
    "library(rpart.plot)\n",
    "library(rsample)\n",
    "library(lubridate)\n",
    "\n",
    "theme_set(theme_bw(base_size = 14))\n",
    "\n",
    "aus_weather <- read_csv(\"https://raw.githubusercontent.com/lebebr01/statthink/master/data-raw/weatherAUS.csv\",\n",
    "                        guess_max = 100000) %>%\n",
    "                        select(-Evaporation, -Sunshine, -Cloud9am, -Cloud3pm, -RISK_MM) %>%\n",
    "                        na.omit() %>%\n",
    "                        mutate(year = year(Date),\n",
    "                               month = month(Date, label = TRUE),\n",
    "                               day = day(Date),\n",
    "                               day_labels = wday(Date, label = TRUE),\n",
    "                               RainTomorrow_num = ifelse(RainTomorrow == 'Yes', 1, 0),\n",
    "                               year_char = as.character(year)) %>%\n",
    "                       filter(Location %in% c('Perth', 'Sale', 'Wollongong', 'GoldCoast'))\n",
    "\n",
    "head(aus_weather)"
   ]
  },
  {
   "cell_type": "markdown",
   "metadata": {},
   "source": [
    " ## Question 1\n",
    " Explore the `MaxTemp` distribution visually using the code provided below.\n",
    "\n",
    " Complete the code by filling in the appropriate attribute in place of \"^^\". Then, fill in the visualization type you are most comfortable with where \"??\" are located (either density of histogram). Finally, replace the \"$$\" with an appropriate plot title and x-axis label that are descriptive of what the plot is showing."
   ]
  },
  {
   "cell_type": "code",
   "execution_count": null,
   "metadata": {
    "vscode": {
     "languageId": "r"
    }
   },
   "outputs": [],
   "source": [
    "gf_??(~ ^^, data = aus_weather) %>%\n",
    "  gf_labs(title = \"$$\", \n",
    "          x = \"$$\") "
   ]
  },
  {
   "cell_type": "markdown",
   "metadata": {},
   "source": [
    " ## Question 2\n",
    " Compute conditional multivariate descriptive statistics for the `MaxTemp` attribute based on an attribute you think may help to explain differences in the maximum temperature for that day. Pick one of the following attributes to explore if the maximum temperature varies by: `Location`, `month`, `year_char`, or `day_labels`.\n",
    "\n",
    " Complete the code by filling in the appropriate outcome attribute in place of \"^^\", select an attribute of interest in place of \"$$\" from one of the 4 attributes identified above, and the descriptive functions where the \"&&\" are located in the code below. Functions that may be useful here could include: `mean`, `median`, `sd`, `var`, `IQR`, `min`, `max`, `length`."
   ]
  },
  {
   "cell_type": "code",
   "execution_count": null,
   "metadata": {
    "vscode": {
     "languageId": "r"
    }
   },
   "outputs": [],
   "source": [
    "aus_weather %>%\n",
    "  df_stats(^^ ~ $$, &&)"
   ]
  },
  {
   "cell_type": "markdown",
   "metadata": {},
   "source": [
    "## Question 3\n",
    "Before predicting whether it is going to rain tomorrow based on the weather observations from the previous day, let's first explore how often it rains tomorrow.\n",
    "\n",
    "Complete the code below to generate descriptive statistics on the numeric `RainTomorrow_num` attribute by filling in the descriptive functions where the \"&&\" are located in the code below. Functions that may be useful here could include: `mean`, `median`, `sd`, `var`, `IQR`, `min`, `max`, `length`."
   ]
  },
  {
   "cell_type": "code",
   "execution_count": null,
   "metadata": {
    "vscode": {
     "languageId": "r"
    }
   },
   "outputs": [],
   "source": [
    "aus_weather %>%\n",
    "  df_stats(~ RainTomorrow_num, &&)"
   ]
  },
  {
   "cell_type": "markdown",
   "metadata": {},
   "source": [
    "  ## Question 4\n",
    "  We are now going to explore which data attributes (i.e. weather observations) that are most important in predicting if it is going to rain tomorrow based on the weather observations from the previous day. To see which attributes are important, we will fit a classification tree to these data using the `rpart()` function. \n",
    "  \n",
    "  ### Attributes to include \n",
    "  Select one attribute from each of the following groups of attribute to include in the classification tree: \n",
    "\n",
    "  + temperature: `MinTemp` or `MaxTemp`\n",
    "  + humidity: `Humidity9am` or `Humidity3pm`\n",
    "  + pressure: `Pressure9am` or `Pressure3pm`\n",
    "  + month: `month`\n",
    "  + day: `day_labels`\n",
    "  + location: `Location`\n",
    "\n",
    "  *Note*: You should have a total of 6 attributes in the classification tree equation to the right of the `~` sign below.\n",
    "  \n",
    "  Complete the code within the `rpart()` function below by replacing \"$$\" with attributes included in the data that you think would be important in days in which it will rain tomorrow. These attributes are shown in the list above in this question, again, please pick one attribute from each element of the list. \n",
    "  \n",
    "  *Note*, separate attributes with a `+` symbol and I recommend not using the location attribute."
   ]
  },
  {
   "cell_type": "code",
   "execution_count": null,
   "metadata": {
    "vscode": {
     "languageId": "r"
    }
   },
   "outputs": [],
   "source": [
    "set.seed(202)\n",
    "aus_weather_split <- initial_split(aus_weather, prop = .7)\n",
    "aus_weather_train <- training(aus_weather_split)\n",
    "aus_weather_test <- testing(aus_weather_split)\n",
    "\n",
    "\n",
    "# Fit classification tree\n",
    "aus_weather_class <- rpart(RainTomorrow ~ $$, \n",
    "                    method = 'class', data = aus_weather_train)\n",
    "\n",
    "rpart.plot(aus_weather_class, roundint = FALSE, type = 3, branch = .3)"
   ]
  },
  {
   "cell_type": "markdown",
   "metadata": {},
   "source": [
    "  ## Question 5\n",
    "  The code below will use the model fitted above and produce predicted values for the withheld test data. "
   ]
  },
  {
   "cell_type": "code",
   "execution_count": null,
   "metadata": {
    "vscode": {
     "languageId": "r"
    }
   },
   "outputs": [],
   "source": [
    "aus_weather_test <- aus_weather_test %>%\n",
    "  mutate(rain_tomorrow_predict = predict(aus_weather_class, \n",
    "                                    newdata = aus_weather_test, \n",
    "                                    type = 'class'))\n",
    "\n",
    "aus_weather_test %>%\n",
    "  mutate(same_class = ifelse(RainTomorrow == rain_tomorrow_predict, 1, 0)) %>%\n",
    "  df_stats(~ same_class, mean, sum, length)"
   ]
  },
  {
   "cell_type": "markdown",
   "metadata": {},
   "source": [
    "  ## Question 6\n",
    "  The code below will create a bar chart is created that shows the accuracy of the predictions compared to the actual observed data."
   ]
  },
  {
   "cell_type": "code",
   "execution_count": null,
   "metadata": {
    "vscode": {
     "languageId": "r"
    }
   },
   "outputs": [],
   "source": [
    "gf_bar(~ RainTomorrow, fill = ~rain_tomorrow_predict, data = aus_weather_test, \n",
    "       position = 'fill') %>% \n",
    "       gf_labs(y = \"Proportion\", \n",
    "       x = \"Did it really rain tomorrow?\", \n",
    "       fill = \"Model Predicted Rainfall\")"
   ]
  }
 ],
 "metadata": {
  "file_extension": ".py",
  "kernelspec": {
   "display_name": "R",
   "language": "R",
   "name": "ir"
  },
  "language_info": {
   "codemirror_mode": "r",
   "file_extension": ".r",
   "mimetype": "text/x-r-source",
   "name": "R",
   "pygments_lexer": "r",
   "version": "4.1.2"
  },
  "mimetype": "text/x-python",
  "name": "python",
  "npconvert_exporter": "python",
  "orig_nbformat": 2,
  "pygments_lexer": "ipython3",
  "version": 3
 },
 "nbformat": 4,
 "nbformat_minor": 2
}
