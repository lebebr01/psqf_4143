{
 "cells": [
  {
   "cell_type": "markdown",
   "metadata": {},
   "source": [
    "   ## Assignment 1\n",
    "\n",
    "   This assignment is aimed to give you some practice using Jupyter Notebooks, R, and interpretting statistical output using real-world data. The notebook below will be used to generate the statistical output. The assignment will be guided and much of the R code will be provided for you, but specific aspects of the R code you will be asked to interact with and ultimately make a decision about appropriate values to include. The notebook should be run from the first code cell in sequential order, this means that you must run the beginning cells in order to be able to have access to the R packages needed for the assignment and that the data are read in appropriately.\n",
    "\n",
    "   Upon completion of generating the statistical code, you will be asked to submit answers to questions on ICON. These questions will be focused on interpreting the statistical output generated from this notebook.\n",
    "\n",
    "   You may work in groups of up to 3 to complete the assignment. In these situations, please turn in one assignment in ICON with all group members names on the submission.\n",
    "\n",
    "   *Assignment 1 Due*: **Sunday, October 3rd, by 11:59 pm**"
   ]
  },
  {
   "cell_type": "markdown",
   "metadata": {},
   "source": [
    "  ## Description of the Data\n",
    "\n",
    "The data used for this assignment are about board games. The data are board games published (i.e., released) between 2010 and 2016 that can be played with fewer than 5 players and have a maximum number of 8 players. The data are also for games that tend to be completed in less than 120 minutes. \n",
    "\n",
    "   The data were part of a [tidy tuesday](https://github.com/rfordatascience/tidytuesday/tree/master/data/2019/2019-03-12) example and came from the [Board Game Geek](http://boardgamegeek.com/) database. The database crowd sources game ratings and contains more than 90,000 games. The following subsetted version contains data on 3,664 games of those games. The following are the attributes in the data used for the assignment.\n",
    "\n",
    "   + **game_id**: The unique ID of the game\n",
    "   + **max_players**: The maximum number of players for the game\n",
    "   + **min_playtime**: Minimum playtime for the game\n",
    "   + **min_age**: Minimum age for playing the game\n",
    "   + **min_players**: Minimum number of players needed to play the game\n",
    "   + **name**: Name of the game\n",
    "   + **playing_time**: Playing time of the game\n",
    "   + **year_published**: Year the game was published (i.e., able to be purchased or released)\n",
    "   + **average_rating**: Average rating of the game from the crowd-source database.\n",
    "   + **play_time_groups**: The average play time split into 3 groups, less than 30 minutes, between 30 and 60 minutes, greater than 60 minutes.\n",
    "   + **category_group**: The primary category of the game, as 6 groups, Abstract Strategy, Adventure, Bluffing, Card Game, Dice Game, or Other category.\n",
    "   + **year_pub_char**: A character version of when the game was published, useful for visualization.\n",
    "   + **min_players_char**: A character version of the minimum number of players, useful for visualization.\n",
    "   + **max_players_char**: A character version of the maximum number of players, useful for visualization.\n",
    "\n",
    "\n",
    "Please don't hesitate to reach out with any data questions about the structure and interpretation of the variables in the data."
   ]
  },
  {
   "cell_type": "markdown",
   "metadata": {},
   "source": [
    "   ## Assignment Setup\n",
    "   **Run this cell first upon opening the notebook. You will need to run this cell everytime you leave and come back to the notebook.**"
   ]
  },
  {
   "cell_type": "code",
   "execution_count": null,
   "metadata": {},
   "outputs": [],
   "source": [
    "library(tidyverse)\n",
    "library(ggformula)\n",
    "library(mosaic)\n",
    "\n",
    "theme_set(theme_bw(base_size = 16))\n",
    "\n",
    "board_games <- readr::read_csv(\"https://raw.githubusercontent.com/rfordatascience/tidytuesday/master/data/2019/2019-03-12/board_games.csv\") %>%\n",
    "  filter(year_published > 2009 & min_players < 4 & max_players < 8 & playing_time < 121) %>%\n",
    "  select(game_id, max_players, min_playtime, min_age, min_players,\n",
    "         min_playtime, name, playing_time, year_published, \n",
    "         category, average_rating) %>%\n",
    "  mutate(play_time_groups = ifelse(playing_time < 30, 'less than 30 minutes',\n",
    "                                   ifelse(playing_time >= 30 & playing_time < 60, \n",
    "                                          '30 to 60 minutes', 'greater than 60 minutes')),\n",
    "         category_group = gsub(\",.+$\", \"\", category),\n",
    "         category_group = fct_lump_n(category_group, n = 5),\n",
    "         year_pub_char = as.character(year_published),\n",
    "         min_players_char = as.character(min_players),\n",
    "         max_players_char = as.character(max_players)) %>%\n",
    "  select(-category)\n",
    "\n",
    "  head(board_games)\n"
   ]
  },
  {
   "cell_type": "markdown",
   "metadata": {},
   "source": [
    "   ## Question 1\n",
    "   Explore the distribution of the `average_rating` attribute visually using the code provided below.\n",
    "\n",
    "   Complete the code by filling in the appropriate attribute where the \"^^\" are and fill in the visualization type you are most comfortable with where \"??\" are located. Finally, replace the \"$$\" with an appropriate plot title and x-axis label that are descriptive."
   ]
  },
  {
   "cell_type": "code",
   "execution_count": null,
   "metadata": {},
   "outputs": [],
   "source": [
    "gf_??(~ ^^, data = board_games) %>%\n",
    "  gf_labs(title = \"$$\", \n",
    "          x = \"$$\") \n"
   ]
  },
  {
   "cell_type": "markdown",
   "metadata": {},
   "source": [
    "  ## Question 2\n",
    "   Create a violin plot that explores the distribution of the `average_rating` attribute for any **one** of the following four attributes: `category_group`,`year_pub_char`, `min_players_char`, or `max_players_char`.\n",
    "\n",
    "   Complete the code by filling in the attributes in the formula notation in place of \"%%\" and \"^^\", and finally include descriptive labels for the plot title, y-axis, and x-axis in place of the \"$$\"."
   ]
  },
  {
   "cell_type": "code",
   "execution_count": null,
   "metadata": {},
   "outputs": [],
   "source": [
    "p <- gf_violin(%% ~ ^^, data = board_games, fill = 'gray85', draw_quantiles = c(.1, .5, .9)) %>%\n",
    "  gf_labs(y = '$$',\n",
    "          x = '$$',\n",
    "          title = '$$') %>%\n",
    "  gf_refine(coord_flip())\n",
    "p\n"
   ]
  },
  {
   "cell_type": "markdown",
   "metadata": {},
   "source": [
    "   ## Question 3\n",
    "   Create another violin plot that builds on top of your figure in question 2 above by the `play_time_groups`.\n",
    "   \n",
    "   **Note**, the cell in question 2 must be run prior to the creation of this cell as this cell depends on the code running successfully in question 2."
   ]
  },
  {
   "cell_type": "code",
   "execution_count": null,
   "metadata": {},
   "outputs": [],
   "source": [
    "p %>%\n",
    "  gf_facet_wrap(~ play_time_groups)\n"
   ]
  }
 ],
 "metadata": {
  "file_extension": ".py",
  "kernelspec": {
   "display_name": "R",
   "language": "R",
   "name": "ir"
  },
  "language_info": {
   "codemirror_mode": "r",
   "file_extension": ".r",
   "mimetype": "text/x-r-source",
   "name": "R",
   "pygments_lexer": "r",
   "version": "4.1.0"
  },
  "mimetype": "text/x-python",
  "name": "python",
  "npconvert_exporter": "python",
  "orig_nbformat": 2,
  "pygments_lexer": "ipython3",
  "version": 3
 },
 "nbformat": 4,
 "nbformat_minor": 2
}
