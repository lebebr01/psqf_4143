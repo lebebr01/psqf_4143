{
 "cells": [
  {
   "cell_type": "markdown",
   "metadata": {},
   "source": [
    "   ## Assignment 1\n",
    "\n",
    "   This assignment is aimed to give you some practice using Jupyter Notebooks, R, and interpretting statistical output using real-world data. The notebook below will be used to generate the statistical output and you will also write up answers to specific questions related to the statistical output. The assignment will be guided and much of the R code will be provided for you, but specific aspects of the R code you will be asked to interact with and ultimately make a decision about appropriate values to include. The notebook should be run from the first code cell in sequential order, this means that you must run the beginning cells in order to be able to have access to the R packages needed for the assignment and that the data are read in appropriately.\n",
    "\n",
    "   You may work in groups of up to 3 to complete the assignment. In these situations, please turn in one assignment in ICON with all group members names on the submission.\n",
    "\n",
    "   *Assignment 1 Due*: **Tuesday, September 29th, by 11:59 pm**"
   ]
  },
  {
   "cell_type": "markdown",
   "metadata": {},
   "source": [
    "  ## Description of the Data\n",
    "\n",
    "  These data are from a bike share program in Minneapolis Minnesota called [Nice Ride](https://www.niceridemn.com/). These programs have become popular in larger metros and allow individuals to rent a bike for a short period of time at specified stations. Users return the bikes to the same station or another station in a different part of the city and are charged per ride based on how long the bike was rented for. The pricing structure for this program can be found here: https://www.niceridemn.com/pricing. The gist of the pricing structure is that users can pay for each individual ride where every 30 minutes of bike renting time costs 2 dollars or you can buy a day pass for unlimited 30 minute rides for 24 hours. There is also an option for locals to buy an annual membership which comes with unlimited 60 minute rides for an entire year. Nice Ride also offers electric bicycles for an extra 15 cents per minute of the ride. Also, if you are interested, a real time map of the bike stations and bikes that are available can be seen here: https://member.niceridemn.com/map/.\n",
    "\n",
    "   The data was downloaded directly from the Nice Ride website and contain individual trip data for the month of June 2020. Nice Ride releases trips that are longer than 60 seconds and some additional processing was done to remove rides that were longer than 4 hours (240 minutes). The data contain the following variables, note the variable name is in bold with a short description of what the variable represents:\n",
    "   + **ride_id**: The unique ID of the ride\n",
    "   + **rideable_type**: The type of bike rented, \"docked_bike\" is the bike from a station; \"electric_bike\" is a bike that floats around and does not need to start or return from a station.\n",
    "   + **started_at**: Date and time the bike ride started.\n",
    "   + **ended_at**: Date and time the bike ride ended.\n",
    "   + **member_casual**: The type of rental user, \"casual\" is a per bike rental with no subscription, \"member\" is an annual Nice Ride subscriber\n",
    "   + **tripduration_seconds**: The length the bike was rented in seconds.\n",
    "   + **tripduration_minutes**: The length the bike was rented in minutes, i.e. the variable tripduration / 60.  \n",
    "   + **hour**: The hour the bike was rented.\n",
    "   + **morning**: If the ride was during the morning, defined as between 5 am and 11:59 am. \n",
    "   + **evening**: If the ride was during the evening, defined as between 4 pm and 10:59 pm. \n",
    "\n",
    "\n",
    "Please don't hesitate to reach out with any data questions about the structure and interpretation of the variables in the data."
   ]
  },
  {
   "cell_type": "markdown",
   "metadata": {},
   "source": [
    "   ## Assignment Setup\n",
    "   **Run this cell first upon opening the notebook everytime**"
   ]
  },
  {
   "cell_type": "code",
   "execution_count": null,
   "metadata": {},
   "outputs": [],
   "source": [
    "library(tidyverse)\n",
    "library(ggformula)\n",
    "library(mosaic)\n",
    "\n",
    "theme_set(theme_bw(base_size = 16))\n",
    "\n",
    "nice_ride <- read_csv(\"https://raw.githubusercontent.com/lebebr01/statthink/master/data-raw/nice_ride_2020_June.csv\", guess_max = 40000)\n"
   ]
  },
  {
   "cell_type": "markdown",
   "metadata": {},
   "source": [
    "   ## Question 1\n",
    "   View the first few rows of the data by completing the code chunk below by replacing the \"??\" with the name of the object the data are stored into in the assignment setup step above. **1 pt**"
   ]
  },
  {
   "cell_type": "code",
   "execution_count": null,
   "metadata": {},
   "outputs": [],
   "source": [
    "head(??)\n",
    ""
   ]
  },
  {
   "cell_type": "markdown",
   "metadata": {},
   "source": [
    "   ## Question 2\n",
    "   Explore the distribution of the `tripduration_minutes` variable visually using the code provided below.\n",
    "\n",
    "   Complete the code by filling in the appropriate variable where the \"^^\" are and fill in the visualization type you are most comfortable with where \"??\" are located. Finally, replace the \"$$\" with an appropriate plot title and x-axis label that are descriptive. **1 pt**"
   ]
  },
  {
   "cell_type": "code",
   "execution_count": null,
   "metadata": {},
   "outputs": [],
   "source": [
    "gf_??(~ ^^, data = nice_ride) %>%\n",
    "  gf_labs(title = \"$$\", \n",
    "          x = \"$$\") \n",
    ""
   ]
  },
  {
   "cell_type": "markdown",
   "metadata": {},
   "source": [
    "   ## Question 3\n",
    "   Provide a discussion in a few sentences that summarizes the key features of the `tripduration_minutes` variable based on the figure created in Question 2. In this description, you may want to discuss elements of shape, center, spread/variation, and extreme values or common values. **3 pts**"
   ]
  },
  {
   "cell_type": "markdown",
   "metadata": {},
   "source": [
    "   *Write your response in this cell by double clicking on this text. When finished typing your response, hit control/command + enter to convert the text.*"
   ]
  },
  {
   "cell_type": "markdown",
   "metadata": {},
   "source": [
    "   ## Question 4\n",
    "   Hypothesize which variables may help to explain variation in the `tripduration_minutes` variable. Put another way, what are some important variables that may account for differences in the bike rental. These may include variables that are in the data or other variables that are not in the data, think big picture here about other things that may impact bike rental time. **2 pts**"
   ]
  },
  {
   "cell_type": "markdown",
   "metadata": {},
   "source": [
    "   *Write your response in this cell by double clicking on this text. When finished typing your response, hit control/command + enter to convert the text.*"
   ]
  },
  {
   "cell_type": "markdown",
   "metadata": {},
   "source": [
    "  ## Question 5\n",
    "   Create a violin plot that explores the distribution of the `tripduration_minutes` variable by another variable that you think may help to explain why trip durations differ. You may refer back to your answer for question 4 here and you are able to pick any of the variables in the data that you think would be informative. I would recommend picking a variable that has only a few values in it for easier interpretation.\n",
    "\n",
    "   Complete the code by filling in the appropriate function name in place of the \"??\", include the variables in the formula notation in place of \"%%\" and \"^^\", and finally include descriptive labels for the plot title, y-axis, and x-axis in place of the \"$$\". **1 pts**"
   ]
  },
  {
   "cell_type": "code",
   "execution_count": null,
   "metadata": {},
   "outputs": [],
   "source": [
    "p <- gf_??(%% ~ ^^, data = nice_ride, fill = 'gray85', draw_quantiles = c(.1, .5, .9)) %>%\n",
    "  gf_labs(y = '$$',\n",
    "          x = '$$',\n",
    "          title = '$$') %>%\n",
    "  gf_refine(coord_flip())\n",
    "p\n",
    ""
   ]
  },
  {
   "cell_type": "markdown",
   "metadata": {},
   "source": [
    "   ## Question 6\n",
    "   Provide a description about key differences found in the figure created in question 5 above. You may wish to discuss things about differences in center of the distributions, differences in amount of spread, differences in shapes, or data that are more similar/different across the groups. In particular, you want to provide some answer to the question, does the variable you picked in question 5 highlight differences in the length of time the bike was rented? Make sure to highlight specific features about the figure in question 5 that provide evidence for the similarities/differences you are noting. **3 pts**"
   ]
  },
  {
   "cell_type": "markdown",
   "metadata": {},
   "source": [
    "   *Write your response in this cell by double clicking on this text. When finished typing your response, hit control/command + enter to convert the text.*"
   ]
  },
  {
   "cell_type": "markdown",
   "metadata": {},
   "source": [
    "## Question 7\n",
    "\n",
    "Interpret the 10th, 50th, and 90th percentiles from the violin plots shown in question 5, what do they mean in the context of the attribute, trip duration in minutes? **2 pts**\n",
    "\n",
    "*Note, estimating the locations of the percentiles is completely fine for this question, no need to have the exact values correct, the interpretation is more important in tandem with values close to the actual percentile values*"
   ]
  },
  {
   "cell_type": "markdown",
   "metadata": {},
   "source": [
    "   *Write your response in this cell by double clicking on this text. When finished typing your response, hit control/command + enter to convert the text.*"
   ]
  },
  {
   "cell_type": "markdown",
   "metadata": {},
   "source": [
    "   ## Question 8\n",
    "   Create another violin plot that builds on top of your figure in question 5 above by including another variable that my be influential in explaining differences in trip duration. Add this second variable as a facet variable in place of the \"&&\" in the code below. Note, the cell in question 5 must be run prior to the creation of this cell as this cell depends on the code running successfully in question 5. **1 pt**"
   ]
  },
  {
   "cell_type": "code",
   "execution_count": null,
   "metadata": {},
   "outputs": [],
   "source": [
    "p %>%\n",
    "  gf_facet_wrap(~ &&)\n",
    ""
   ]
  },
  {
   "cell_type": "markdown",
   "metadata": {},
   "source": [
    "   ## Question 9\n",
    "   Provide a description about key differences found in the figure created in question 7 above. You may wish to discuss things about differences in center of the distributions, differences in amount of spread, differences in shapes, or data that are more similar in one of the groups. In particular, you want to provide some answer to the question, does the variable you picked in question 7 highlight differences in the length of time the bike was rented? Make sure to highlight specific features about the figure in question 7 that provide evidence for the similarities/differences you are noting. **3 pts**"
   ]
  },
  {
   "cell_type": "markdown",
   "metadata": {},
   "source": [
    "   *Write your response in this cell by double clicking on this text. When finished typing your response, hit control/command + enter to convert the text.*"
   ]
  }
 ],
 "nbformat": 4,
 "nbformat_minor": 2,
 "metadata": {
  "language_info": {
   "codemirror_mode": "r",
   "file_extension": ".r",
   "mimetype": "text/x-r-source",
   "name": "R",
   "pygments_lexer": "r",
   "version": "3.6.1"
  },
  "orig_nbformat": 2,
  "file_extension": ".py",
  "kernelspec": {
   "display_name": "R",
   "language": "R",
   "name": "ir"
  },
  "mimetype": "text/x-python",
  "name": "python",
  "npconvert_exporter": "python",
  "pygments_lexer": "ipython3",
  "version": 3
 }
}