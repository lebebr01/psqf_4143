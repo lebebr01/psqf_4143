{
 "cells": [
  {
   "cell_type": "markdown",
   "metadata": {},
   "source": [
    "   ## Assignment 1\n",
    "\n",
    "   This assignment is aimed to give you some practice using Jupyter Notebooks, R, and interpretting statistical output using real-world data. The notebook below will be used to generate the statistical output and you will also write up answers to specific questions related to the statistical output. The assignment will be guided and much of the R code will be provided for you, but specific aspects of the R code you will be asked to interact with and ultimately make a decision about appropriate values to include. The notebook should be run from the first code cell in sequential order, this means that you must run the beginning cells in order to be able to have access to the R packages needed for the assignment and that the data are read in appropriately.\n",
    "\n",
    "   You may work in groups of up to 3 to complete the assignment. In these situations, please turn in one assignment in ICON with all group members names on the submission.\n",
    "\n",
    "   *Assignment 1 Due*: **Sunday February 28th, by 11:59 pm**"
   ]
  },
  {
   "cell_type": "markdown",
   "metadata": {},
   "source": [
    "  ## Description of the Data\n",
    "\n",
    "The data used for this assignment are about board games. The data are board games published (i.e., released) between 2010 and 2016 that can be played with fewer than 5 players and have a maximum number of 8 players. The data are also for games that tend to be completed in less than 120 minutes. \n",
    "\n",
    "   The data were part of a [tidy tuesday](https://github.com/rfordatascience/tidytuesday/tree/master/data/2019/2019-03-12) example and came from the [Board Game Geek](http://boardgamegeek.com/) database. The database crowd sources game ratings and contains more than 90,000 games. The following subsetted version contains data on 3,664 games of those games. The following are the attributes in the data used for the assignment.\n",
    "\n",
    "   + **game_id**: The unique ID of the game\n",
    "   + **max_players**: The maximum number of players for the game\n",
    "   + **min_playtime**: Minimum playtime for the game\n",
    "   + **min_age**: Minimum age for playing the game\n",
    "   + **min_players**: Minimum number of players needed to play the game\n",
    "   + **name**: Name of the game\n",
    "   + **playing_time**: Playing time of the game\n",
    "   + **year_published**: Year the game was published (i.e., able to be purchased or released)\n",
    "   + **average_rating**: Average rating of the game from the crowd-source database.\n",
    "   + **play_time_groups**: The average play time split into 3 groups, less than 30 minutes, between 30 and 60 minutes, greater than 60 minutes.\n",
    "   + **category_group**: The primary category of the game, as 6 groups, Abstract Strategy, Adventure, Bluffing, Card Game, Dice Game, or Other category.\n",
    "\n",
    "\n",
    "Please don't hesitate to reach out with any data questions about the structure and interpretation of the variables in the data."
   ]
  },
  {
   "cell_type": "markdown",
   "metadata": {},
   "source": [
    "   ## Assignment Setup\n",
    "   **Run this cell first upon opening the notebook. You will need to run this cell everytime you leave and come back to the notebook.**"
   ]
  },
  {
   "cell_type": "code",
   "execution_count": null,
   "metadata": {},
   "outputs": [],
   "source": [
    "library(tidyverse)\n",
    "library(ggformula)\n",
    "library(mosaic)\n",
    "\n",
    "theme_set(theme_bw(base_size = 16))\n",
    "\n",
    "board_games <- readr::read_csv(\"https://raw.githubusercontent.com/rfordatascience/tidytuesday/master/data/2019/2019-03-12/board_games.csv\") %>%\n",
    "  filter(year_published > 2009 & min_players < 4 & max_players < 8 & playing_time < 121) %>%\n",
    "  select(game_id, max_players, min_playtime, min_age, min_players,\n",
    "         min_playtime, name, playing_time, year_published, \n",
    "         category, average_rating) %>%\n",
    "  mutate(play_time_groups = ifelse(playing_time < 30, 'less than 30 minutes',\n",
    "                                   ifelse(playing_time >= 30 & playing_time < 60, \n",
    "                                          '30 to 60 minutes', 'greater than 60 minutes')),\n",
    "         category_group = gsub(\",.+$\", \"\", category),\n",
    "         category_group = fct_lump_n(category_group, n = 5)) %>%\n",
    "  select(-category)\n"
   ]
  },
  {
   "cell_type": "markdown",
   "metadata": {},
   "source": [
    "   ## Question 1\n",
    "   View the first few rows of the data by completing the code chunk below by replacing the \"??\" with the name of the object the data are stored into in the assignment setup step above. **1 pt**"
   ]
  },
  {
   "cell_type": "code",
   "execution_count": null,
   "metadata": {},
   "outputs": [],
   "source": [
    "head(??)\n"
   ]
  },
  {
   "cell_type": "markdown",
   "metadata": {},
   "source": [
    "   ## Question 2\n",
    "   Explore the distribution of the `average_rating` variable visually using the code provided below.\n",
    "\n",
    "   Complete the code by filling in the appropriate variable where the \"^^\" are and fill in the visualization type you are most comfortable with where \"??\" are located. Finally, replace the \"$$\" with an appropriate plot title and x-axis label that are descriptive. **1 pt**"
   ]
  },
  {
   "cell_type": "code",
   "execution_count": null,
   "metadata": {},
   "outputs": [],
   "source": [
    "gf_??(~ ^^, data = board_games) %>%\n",
    "  gf_labs(title = \"$$\", \n",
    "          x = \"$$\") \n"
   ]
  },
  {
   "cell_type": "markdown",
   "metadata": {},
   "source": [
    "   ## Question 3a\n",
    " Given the distribution of the `average_rating` attribute, in a few sentences describe the shape of the distribution. Justify your answer with characteristics of the distribution from the figure in question 2. **1 pt**"
   ]
  },
  {
   "cell_type": "markdown",
   "metadata": {},
   "source": [
    "   *Write your response in this cell by double clicking on this text. When finished typing your response, hit control/command + enter to convert the text.*"
   ]
  },
  {
   "source": [
    "   ## Question 3b\n",
    " Given the distribution of the `average_rating` attribute, in a few sentences describe the center of the distribution. Justify your answer with characteristics of the distribution from the figure in question 2. **1 pt**"
   ],
   "cell_type": "markdown",
   "metadata": {}
  },
  {
   "source": [
    "   *Write your response in this cell by double clicking on this text. When finished typing your response, hit control/command + enter to convert the text.*"
   ],
   "cell_type": "markdown",
   "metadata": {}
  },
  {
   "source": [
    "   ## Question 3c\n",
    " Given the distribution of the `average_rating` attribute, in a few sentences describe the variation of the distribution. Justify your answer with characteristics of the distribution from the figure in question 2. **1 pt**"
   ],
   "cell_type": "markdown",
   "metadata": {}
  },
  {
   "source": [
    "   *Write your response in this cell by double clicking on this text. When finished typing your response, hit control/command + enter to convert the text.*"
   ],
   "cell_type": "markdown",
   "metadata": {}
  },
  {
   "cell_type": "markdown",
   "metadata": {},
   "source": [
    "   ## Question 4\n",
    "   Hypothesize which variables may help to explain variation in the `average_rating` variable. Put another way, what are some important variables that may account for differences in the average board game rental. These may include variables that are in the data or other variables that are not in the data, think big picture here about other things that may impact the average board game rating. **1 pt**"
   ]
  },
  {
   "cell_type": "markdown",
   "metadata": {},
   "source": [
    "   *Write your response in this cell by double clicking on this text. When finished typing your response, hit control/command + enter to convert the text.*"
   ]
  },
  {
   "cell_type": "markdown",
   "metadata": {},
   "source": [
    "  ## Question 5\n",
    "   Create a violin plot that explores the distribution of the `average_rating` variable by another variable that you think may help to explain why board game ratings differ. You may refer back to your answer for question 4 here and you are able to pick any of the variables in the data that you think would be informative. I would recommend picking a variable that has only a few values in it for easier interpretation.\n",
    "\n",
    "   Complete the code by filling in the appropriate function name in place of the \"??\", include the variables in the formula notation in place of \"%%\" and \"^^\", and finally include descriptive labels for the plot title, y-axis, and x-axis in place of the \"$$\". **1 pts**"
   ]
  },
  {
   "cell_type": "code",
   "execution_count": null,
   "metadata": {},
   "outputs": [],
   "source": [
    "p <- gf_??(%% ~ ^^, data = board_games, fill = 'gray85', draw_quantiles = c(.1, .5, .9)) %>%\n",
    "  gf_labs(y = '$$',\n",
    "          x = '$$',\n",
    "          title = '$$') %>%\n",
    "  gf_refine(coord_flip())\n",
    "p\n"
   ]
  },
  {
   "cell_type": "markdown",
   "metadata": {},
   "source": [
    "   ## Question 6a\n",
    "   Provide a description about key differences found in the figure created in question 5 above in terms of **shape** of the average board game ratings across the different groups.  In particular, you want to provide some answer to the question, does the variable you picked in question 5 highlight differences in the average board game rating with respect to **shape**? Make sure to highlight specific features about the figure in question 5 that provide evidence for the similarities/differences in **shape** you are noting. **1 pt**"
   ]
  },
  {
   "cell_type": "markdown",
   "metadata": {},
   "source": [
    "   *Write your response in this cell by double clicking on this text. When finished typing your response, hit control/command + enter to convert the text.*"
   ]
  },
  {
   "source": [
    "   ## Question 6b\n",
    "   Provide a description about key differences found in the figure created in question 5 above in terms of **center** of the average board game ratings across the different groups.  In particular, you want to provide some answer to the question, does the variable you picked in question 5 highlight differences in the average board game rating with respect to **center**? Make sure to highlight specific features about the figure in question 5 that provide evidence for the similarities/differences in **center** you are noting. **1 pt**"
   ],
   "cell_type": "markdown",
   "metadata": {}
  },
  {
   "source": [
    "Write your response in this cell by double clicking on this text. When finished typing your response, hit control/command + enter to convert the text."
   ],
   "cell_type": "markdown",
   "metadata": {}
  },
  {
   "source": [
    "   ## Question 6c\n",
    "   Provide a description about key differences found in the figure created in question 5 above in terms of **variation** of the average board game ratings across the different groups.  In particular, you want to provide some answer to the question, does the variable you picked in question 5 highlight differences in the average board game rating with respect to **variation**? Make sure to highlight specific features about the figure in question 5 that provide evidence for the similarities/differences in **variation** you are noting. **1 pt**"
   ],
   "cell_type": "markdown",
   "metadata": {}
  },
  {
   "source": [
    "Write your response in this cell by double clicking on this text. When finished typing your response, hit control/command + enter to convert the text."
   ],
   "cell_type": "markdown",
   "metadata": {}
  },
  {
   "cell_type": "markdown",
   "metadata": {},
   "source": [
    "## Question 7\n",
    "\n",
    "Interpret the 10th, 50th, and 90th percentiles from the violin plots shown in question 5, what do they mean in the context of the attribute, board game ratings? **2 pts**\n",
    "\n",
    "*Note, estimating the locations of the percentiles is completely fine for this question, no need to have the exact values correct, the interpretation is more important in tandem with values close to the actual percentile values*"
   ]
  },
  {
   "cell_type": "markdown",
   "metadata": {},
   "source": [
    "   *Write your response in this cell by double clicking on this text. When finished typing your response, hit control/command + enter to convert the text.*"
   ]
  },
  {
   "cell_type": "markdown",
   "metadata": {},
   "source": [
    "   ## Question 8\n",
    "   Create another violin plot that builds on top of your figure in question 5 above by including another variable that my be influential in explaining differences in board game rating. Add this second variable as a facet variable in place of the \"&&\" in the code below. Note, the cell in question 5 must be run prior to the creation of this cell as this cell depends on the code running successfully in question 5. I also recommend finding an attribute that takes on a few values rather than many different values. **1 pt**"
   ]
  },
  {
   "cell_type": "code",
   "execution_count": null,
   "metadata": {},
   "outputs": [],
   "source": [
    "p %>%\n",
    "  gf_facet_wrap(~ &&)\n"
   ]
  },
  {
   "cell_type": "markdown",
   "metadata": {},
   "source": [
    "   ## Question 9\n",
    "   Provide a description about key differences found in the figure created in question 8 above. You may wish to discuss things about differences in center of the distributions, differences in amount of spread, differences in shapes, or data that are more similar in one of the groups. In particular, you want to provide some answer to the question, does the variable you picked in question 8 highlight differences in the board game ratings? Make sure to highlight specific features about the figure in question 8 that provide evidence for the similarities/differences you are noting. **3 pts**"
   ]
  },
  {
   "cell_type": "markdown",
   "metadata": {},
   "source": [
    "   *Write your response in this cell by double clicking on this text. When finished typing your response, hit control/command + enter to convert the text.*"
   ]
  }
 ],
 "nbformat": 4,
 "nbformat_minor": 2,
 "metadata": {
  "language_info": {
   "codemirror_mode": "r",
   "file_extension": ".r",
   "mimetype": "text/x-r-source",
   "name": "R",
   "pygments_lexer": "r",
   "version": "4.0.2"
  },
  "orig_nbformat": 2,
  "file_extension": ".py",
  "kernelspec": {
   "display_name": "R",
   "language": "R",
   "name": "ir"
  },
  "mimetype": "text/x-python",
  "name": "python",
  "npconvert_exporter": "python",
  "pygments_lexer": "ipython3",
  "version": 3
 }
}