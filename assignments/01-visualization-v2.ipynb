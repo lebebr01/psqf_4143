{
 "cells": [
  {
   "attachments": {},
   "cell_type": "markdown",
   "metadata": {},
   "source": [
    "   ## Assignment 1\n",
    "\n",
    "   This assignment is aimed to give you some practice using Jupyter Notebooks, R, and interpretting statistical output using real-world data. The notebook below will be used to generate the statistical output. The assignment will be guided and much of the R code will be provided for you, but specific aspects of the R code you will be asked to interact with and ultimately make a decision about appropriate values to include. The notebook should be run from the first code cell in sequential order, this means that you must run the beginning cells in order to be able to have access to the R packages needed for the assignment and that the data are read in appropriately.\n",
    "\n",
    "   Upon completion of generating the statistical code, you will be asked to submit answers to questions on a Microsoft Form quiz. These questions will be focused on interpreting the statistical output generated from this notebook. The link to this Microsoft Form quiz will be given in the ICON assignment submission. *Note: you do not need to upload anything to ICON*.\n",
    "\n",
    "   You may work in groups of up to 3 to complete the assignment. In these situations, please turn in one assignment in ICON with all group members names on the submission.\n",
    "\n",
    "   *Assignment 1 Due*: **Monday, February 20th, by 11:59 pm**\n",
    "\n",
    "\n",
    "If you want to view the code as the assignment was sent to you, you can use the version that is found on the [public course repository](https://github.com/lebebr01/psqf_4143/blob/main/assignments/01-visualization.ipynb)."
   ]
  },
  {
   "attachments": {},
   "cell_type": "markdown",
   "metadata": {},
   "source": [
    "  ## Description of the Data\n",
    "\n",
    "The data used for this assignment are about cats, specifically data collected via GPS sensors that were attached to the cat's collar. The data are collected from 2013 and 2017 from volunteers in the US, UK, Australia, and New Zealand. \n",
    "\n",
    "This is the original article the data was used in:\n",
    "  Kays R, Dunn RR, Parsons AW, Mcdonald B, Perkins T, Powers S, Shell L, McDonald JL, Cole H, Kikillus H, Woods L, Tindle H, Roetman P (2020) The small home ranges and large local ecological impacts of pet cats. Animal Conservation. doi:10.1111/acv.12563\n",
    "\n",
    "  Additionally, please cite the Movebank data package:\n",
    "\n",
    "  McDonald JL, Cole H (2020) Data from: The small home ranges and large local ecological impacts of pet cats [United Kingdom]. Movebank Data Repository. doi:10.5441/001/1.pf315732\n",
    "\n",
    "\n",
    "The data were part of a [tidy tuesday](https://github.com/rfordatascience/tidytuesday/tree/master/data/2023/2023-01-31). The following are the attributes in the data used for the assignment.\n",
    "\n",
    "|attribute                      |class     |description                   |\n",
    "|:-----------------------------|:---------|:-----------------------------|\n",
    "|tag_id                        |character |A unique identifier for the tag, provided by the data owner. If the data owner does not provide a tag ID, an internal Movebank tag identifier may sometimes be shown. |\n",
    "|animal_id                     |character |An individual identifier for the animal, provided by the data owner. If the data owner does not provide an Animal ID, an internal Movebank animal identifier is sometimes shown. |\n",
    "| ground_speed                 |double    |The estimated ground speed of the cat from GPS sensor. Measured in meters per second |\n",
    "|hrs_indoors                   |double    |The average number of hours which the animal was indoors per day. |\n",
    "|primary_indoor                |character |Yes = primary indoors (more than 12.5 hours indoors), No = primary outdoots (12.5 hours indoors or fewer). |\n",
    "|num_cats                        |double    |The number of cats in the house.|\n",
    "|hunt                          |logical   |Whether the animal was allowed to hunt. TRUE = allowed to hunt, FALSE = not allowed to hunt |\n",
    "|age_years                     |double    |The age of the animal at the beginning of the deployment, in years. \"0\" indicates that the animal was < 1 year old.|\n",
    "|age_group                     |character |The age of the animal in groups, Kitten = less than 2 years old, Middle age = between 2 and 8 years old, Older = 8 years or older. |\n",
    "|animal_sex                    |character |The sex of the animal, as \"m\" = male or \"f\" = female.|\n",
    "|food_wet                      |logical   |Whether the cat was fed wet food. TRUE = Yes, FALSE = No |\n",
    "\n",
    "\n",
    "\n",
    "Please don't hesitate to reach out with any data questions about the structure and interpretation of the variables in the data."
   ]
  },
  {
   "cell_type": "markdown",
   "metadata": {},
   "source": [
    "   ## Assignment Setup\n",
    "   **Run this cell first upon opening the notebook. You will need to run this cell everytime you leave and come back to the notebook.**"
   ]
  },
  {
   "cell_type": "code",
   "execution_count": null,
   "metadata": {
    "vscode": {
     "languageId": "r"
    }
   },
   "outputs": [],
   "source": [
    "library(tidyverse)\n",
    "library(ggformula)\n",
    "library(mosaic)\n",
    "\n",
    "theme_set(theme_bw(base_size = 16))\n",
    "\n",
    "cats <- readr::read_csv('https://raw.githubusercontent.com/rfordatascience/tidytuesday/master/data/2023/2023-01-31/cats_uk.csv')\n",
    "cats_demo <- readr::read_csv('https://raw.githubusercontent.com/rfordatascience/tidytuesday/master/data/2023/2023-01-31/cats_uk_reference.csv')\n",
    "\n",
    "cats <- cats |> \n",
    "   left_join(cats_demo, by = 'tag_id') |> \n",
    "   mutate(ground_speed = ground_speed / 1000,\n",
    "          num_cats = as.character(n_cats),\n",
    "          age_group = ifelse(age_years < 2, 'Kitten (young)', \n",
    "          ifelse(age_years < 8 & age_years > 2, 'Middle Age', 'Older')),\n",
    "          primary_indoor = ifelse(hrs_indoors > 12.5, 'Yes', 'No')\n",
    "   ) |> \n",
    "   filter(ground_speed < 10) |> \n",
    "   drop_na(hunt, age_years) |>\n",
    "   select(tag_id, animal_id, ground_speed, hrs_indoors, primary_indoor, num_cats, hunt, age_years, age_group, animal_sex, food_wet)\n",
    "\n",
    "head(cats)"
   ]
  },
  {
   "attachments": {},
   "cell_type": "markdown",
   "metadata": {},
   "source": [
    "## Question 1\n",
    "Explore the distribution of the `ground_speed` attribute visually using the code provided below.\n",
    "\n",
    "Complete the code by filling in the appropriate attribute where the \"^^\" is located and fill in the visualization type to explore a univariate distribution you are most comfortable with where \"??\" are located. Finally, replace the \"$$\" with an appropriate plot title and x-axis label that are descriptive.\n",
    "\n",
    "*Hint:* The distribution type would likely be best with a histogram or density figure. The names to use in place of \"??\" would be the name of the figure. "
   ]
  },
  {
   "cell_type": "code",
   "execution_count": null,
   "metadata": {
    "vscode": {
     "languageId": "r"
    }
   },
   "outputs": [],
   "source": [
    "gf_??(~ ^^, data = cats) |>\n",
    "  gf_labs(title = \"$$\", \n",
    "          x = \"$$\") "
   ]
  },
  {
   "attachments": {},
   "cell_type": "markdown",
   "metadata": {},
   "source": [
    "## Question 2\n",
    "Create a violin plot that explores the distribution of the `ground_speed` attribute for any **one** of the following three attributes: `food_wet`, `hunt`, `age_group`, or `animal_sex`.\n",
    "\n",
    "Complete the code by filling in the attributes in the formula notation in place of \"%%\" and \"^^\". Place the outcome of interest in place of \"%%\" and the another attribute in place of \"^^\". Finally include descriptive labels for the plot title, y-axis, and x-axis in place of the \"$$\".\n",
    "\n",
    "The violin plot shows the 10th, 50th, and 90th percentiles as vertical lines.\n",
    "  "
   ]
  },
  {
   "cell_type": "code",
   "execution_count": null,
   "metadata": {
    "vscode": {
     "languageId": "r"
    }
   },
   "outputs": [],
   "source": [
    "p <- gf_violin(%% ~ ^^, data = cats, fill = 'gray85', draw_quantiles = c(.1, .5, .9)) |>\n",
    "  gf_labs(y = '$$',\n",
    "          x = '$$',\n",
    "          title = '$$') |>\n",
    "  gf_refine(coord_flip())\n",
    "p"
   ]
  },
  {
   "attachments": {},
   "cell_type": "markdown",
   "metadata": {},
   "source": [
    "   ## Question 3\n",
    "   Create another violin plot that builds on top of your figure in question 2 above by the `primary_indoor`.\n",
    "   \n",
    "   **Note**, the cell in question 2 must be run prior to the creation of this cell as this cell depends on the code running successfully in question 2."
   ]
  },
  {
   "cell_type": "code",
   "execution_count": null,
   "metadata": {
    "vscode": {
     "languageId": "r"
    }
   },
   "outputs": [],
   "source": [
    "p |>\n",
    "  gf_facet_wrap(~ primary_indoor)"
   ]
  }
 ],
 "metadata": {
  "file_extension": ".py",
  "kernelspec": {
   "display_name": "R",
   "language": "R",
   "name": "ir"
  },
  "language_info": {
   "codemirror_mode": "r",
   "file_extension": ".r",
   "mimetype": "text/x-r-source",
   "name": "R",
   "pygments_lexer": "r",
   "version": "4.2.0"
  },
  "mimetype": "text/x-python",
  "name": "python",
  "npconvert_exporter": "python",
  "orig_nbformat": 2,
  "pygments_lexer": "ipython3",
  "version": 3
 },
 "nbformat": 4,
 "nbformat_minor": 2
}
