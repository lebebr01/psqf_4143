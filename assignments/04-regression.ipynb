{
 "cells": [
  {
   "cell_type": "markdown",
   "metadata": {},
   "source": [
    "   ## Assignment 4\n",
    "\n",
    "   This assignment is aimed to give you some practice using Jupyter Notebooks, R, and interpretting statistical output using real-world data. The notebook below will be used to generate the statistical output and you will also write up answers to specific questions related to the statistical output. The assignment will be guided and much of the R code will be provided for you, but specific aspects of the R code you will be asked to interact with and ultimately make a decision about appropriate values to include. The notebook should be run from the first code cell in sequential order, this means that you must run the beginning cells in order to be able to have access to the R packages needed for the assignment and that the data are read in appropriately.\n",
    "\n",
    "   You may work in groups of up to 3 to complete the assignment. In these situations, please turn in one assignment in ICON with all group members names on the submission.\n",
    "\n",
    "   *Assignment 4 Due*: **Friday, December 11th, by 11:59 pm**"
   ]
  },
  {
   "cell_type": "markdown",
   "metadata": {},
   "source": [
    "   ## Description of the Data\n",
    "\n",
    "   Data on penguins will be used for this assignment. These data were collected by Dr. Kristen Gorman from real penguins in Antarctica. Citation for data: Horst AM, Hill AP, Gorman KB (2020). palmerpenguins: Palmer Archipelago (Antarctica) penguin data. R package version 0.1.0. https://allisonhorst.github.io/palmerpenguins/. doi: 10.5281/zenodo.3960218.\n",
    "\n",
    "   The description of the columns of the data are shown below.\n",
    "\n",
    "   + **species**: One of three species of penguins, Adelie, Chinstrap, or Gentoo\n",
    "   + **island**: The island the penguin lives on, Torgersen, Biscoe, or Dream\n",
    "   + **bill_length_mm**: The bill length, in mm, of the penguin\n",
    "   + **bill_depth_mm**: The bill depth, in mm, of the penguin\n",
    "   + **flipper_length_mm**: The flipper length, in mm, of the penguin\n",
    "   + **body_mass_g**: The body mass, in grams, of the penguin\n",
    "   + **sex**: The sex of the penguin, female or male\n",
    "   + **year**: The year of data collection, 2007, 2008, or 2009.\n",
    "   \n",
    "\n",
    "   Please don't hesitate to reach out with any data questions about the structure and interpretation of the variables in the data. More information about the penguins and the measurements can be seen on this page: https://github.com/allisonhorst/palmerpenguins. The penguins and measurements are toward the bottom of this web page."
   ]
  },
  {
   "cell_type": "markdown",
   "metadata": {},
   "source": [
    "   ## Assignment Setup\n",
    "   **Run this cell first upon opening the notebook everytime** This cell loads the R packages and prepares the data for you."
   ]
  },
  {
   "cell_type": "code",
   "execution_count": null,
   "metadata": {},
   "outputs": [],
   "source": [
    "library(tidyverse)\n",
    "library(ggformula)\n",
    "library(mosaic)\n",
    "library(broom)\n",
    "\n",
    "options(scipen = 999)\n",
    "\n",
    "theme_set(theme_bw(base_size = 14))\n",
    "\n",
    "penguins <- read_csv(\"https://raw.githubusercontent.com/allisonhorst/palmerpenguins/master/inst/extdata/penguins.csv\")\n",
    "\n",
    "head(penguins)\n",
    ""
   ]
  },
  {
   "cell_type": "markdown",
   "metadata": {},
   "source": [
    "   ## Question 1\n",
    "   Explore the bivariate relationship between the bill length and the body mass of the penguins\n",
    "   Complete the code below by replacing \"$$\" with the appropriate function to create a scatterplot. Replace \"%%\" with the outcome of interest here and \"@@\" with the primary attribute to predict the outcome of interest. Finally, replace \"^^\" to provide descriptive axis labels for the data attributes. **1 pt**"
   ]
  },
  {
   "cell_type": "code",
   "execution_count": null,
   "metadata": {},
   "outputs": [],
   "source": [
    "gf_$$(%% ~ @@, data = penguins, size = 4) %>%\n",
    "  gf_labs(x = \"^^\",\n",
    "          y = \"^^\")\n",
    ""
   ]
  },
  {
   "cell_type": "markdown",
   "metadata": {},
   "source": [
    "   ## Question 2\n",
    "   Summarize in a couple sentences the relationship between the attributes shown in the figure above. Provide some discussion about the strength of the relationship and the form of the relationship in your discussion. **1 pt**"
   ]
  },
  {
   "cell_type": "markdown",
   "metadata": {},
   "source": [
    "   *Write your response in this cell by double clicking on this text. When finished typing your response, hit control + enter to convert the text.*"
   ]
  },
  {
   "cell_type": "markdown",
   "metadata": {},
   "source": [
    "   ## Question 2b\n",
    "   Estimate the correlation between these two attributes. Support why you estimated the correlation as you did using evidence from the figure in #1. **1 pt**"
   ]
  },
  {
   "cell_type": "markdown",
   "metadata": {},
   "source": [
    "   *Write your response in this cell by double clicking on this text. When finished typing your response, hit control + enter to convert the text.*"
   ]
  },
  {
   "cell_type": "markdown",
   "metadata": {},
   "source": [
    "   ## Question 3\n",
    "   Using the same attributes from #1, fit a linear model to explore the relationship between the two attributes.\n",
    "   Complete the code below by replacing \"$$\" with the appropriate function to fit a linear model. Replace \"%%\" with the outcome of interest here and \"@@\" with the primary attribute to predict the outcome of interest. **1 pt**"
   ]
  },
  {
   "cell_type": "code",
   "execution_count": null,
   "metadata": {},
   "outputs": [],
   "source": [
    "penguin_reg <- $$(%% ~ @@, data = penguins)\n",
    "coef(penguin_reg)\n",
    ""
   ]
  },
  {
   "cell_type": "markdown",
   "metadata": {},
   "source": [
    "   ## Question 4\n",
    "   Interpret the intercept and slope in the context of the data. More specifically, what do these estimated paramters mean in this situation. **1 pt**"
   ]
  },
  {
   "cell_type": "markdown",
   "metadata": {},
   "source": [
    "   *Write your response in this cell by double clicking on this text. When finished typing your response, hit control + enter to convert the text.*"
   ]
  },
  {
   "cell_type": "markdown",
   "metadata": {},
   "source": [
    "   ## Question 5\n",
    "   Building off your answer to question 4, is the intercept an interesting statistic in this situation? Why or why not? Hint, think about the range of the x-values when thinking about this answer. Be as specific as possible to discuss why the intercept is interesting or not. **1 pt**"
   ]
  },
  {
   "cell_type": "markdown",
   "metadata": {},
   "source": [
    "   *Write your response in this cell by double clicking on this text. When finished typing your response, hit control + enter to convert the text.*"
   ]
  },
  {
   "cell_type": "markdown",
   "metadata": {},
   "source": [
    "   ## Question 6\n",
    "   Explore the distributions of penguin bill length by the species of penguins using violin plots.\n",
    "   Complete the code below by replacing \"$$\" with the appropriate function to create a violin plot. Replace \"%%\" with the outcome of interest here and \"@@\" with the primary attribute to predict the outcome of interest. Finally, replace \"^^\" to provide descriptive axis labels for the data attributes. **1 pt**"
   ]
  },
  {
   "cell_type": "code",
   "execution_count": null,
   "metadata": {},
   "outputs": [],
   "source": [
    "gf_$$(%% ~ @@, data = penguins, fill = 'gray85', draw_quantiles = c(0.1, 0.5, 0.9)) %>%\n",
    "  gf_refine(coord_flip()) %>%\n",
    "  gf_labs(x = \"^^\",\n",
    "          y = \"^^\")\n"
   ]
  },
  {
   "cell_type": "markdown",
   "metadata": {},
   "source": [
    "   ## Question 7\n",
    "   Summarize similarities and differences between the bill length across the penguin species from the figure created in question 6. Be as specific as you can about similarities and differences in the figure. Note, the 10th, 50th and 90th percentiles are shown as lines in the figure from question 6. **1 pt**"
   ]
  },
  {
   "cell_type": "markdown",
   "metadata": {},
   "source": [
    "   *Write your response in this cell by double clicking on this text. When finished typing your response, hit control + enter to convert the text.*"
   ]
  },
  {
   "cell_type": "markdown",
   "metadata": {},
   "source": [
    "   ## Question 8\n",
    "   A linear regression model will be fitted next using the attributes from the figure in question 6, but will the results be the same as that which are depicted in question 6 when fitting the linear model? Why or why not? Hint, think about the statistics that are shown in the figure from question 6 and what statistic is used when fitting the linear regression model. **1 pt**"
   ]
  },
  {
   "cell_type": "markdown",
   "metadata": {},
   "source": [
    "   *Write your response in this cell by double clicking on this text. When finished typing your response, hit control + enter to convert the text.*"
   ]
  },
  {
   "cell_type": "markdown",
   "metadata": {},
   "source": [
    "   ## Question 9\n",
    "   Using the same attributes from #6, fit a linear model to explore the relationship between the two attributes..\n",
    "   Complete the code below by replacing \"$$\" with the appropriate function to fit a linear model. Replace \"%%\" with the outcome of interest here and \"@@\" with the primary attribute to predict the outcome of interest. **1 pt**"
   ]
  },
  {
   "cell_type": "code",
   "execution_count": null,
   "metadata": {},
   "outputs": [],
   "source": [
    "penguin_reg_species <- $$(%% ~ @@, data = penguins)\n",
    "coef(penguin_reg_species)\n",
    ""
   ]
  },
  {
   "cell_type": "markdown",
   "metadata": {},
   "source": [
    "   ## Question 10\n",
    "   Interpret the intercept and slope(s) in the context of the data. More specifically, what do these estimated paramters mean in this situation. **1 pt**"
   ]
  },
  {
   "cell_type": "markdown",
   "metadata": {},
   "source": [
    "   *Write your response in this cell by double clicking on this text. When finished typing your response, hit control + enter to convert the text.*"
   ]
  },
  {
   "cell_type": "markdown",
   "metadata": {},
   "source": [
    "   ## Question 11\n",
    "   Suppose we assume there is no mean difference between the three species of penguins. More specifically, this reflects that the three species means are equal in the population. Does the figure produced with the code below (running 10000 resampled estimates) provide evidence for or against this hypothesis that the three means are equal in the population? Why?\n",
    "\n",
    "   Note, this code will take a few seconds to run. The figure is plotting as a density curve the slope estimate that was initially explored in the model from question 9 above. **1 pt**"
   ]
  },
  {
   "cell_type": "code",
   "execution_count": null,
   "metadata": {},
   "outputs": [],
   "source": [
    "resample_penguin <- function(...) {\n",
    "  penguin_resample <- penguins %>%\n",
    "    sample_n(nrow(penguins), replace = TRUE)\n",
    "\n",
    " penguin_resample %>%\n",
    "    lm(bill_length_mm ~ species, data = .) %>%\n",
    "    tidy(.) %>%\n",
    "    select(term, estimate)\n",
    "}\n",
    "penguin_coef <- map(1:10000, resample_penguin) %>%\n",
    "  bind_rows()\n",
    "\n",
    " penguin_coef %>%\n",
    "    gf_density(~ estimate) %>%\n",
    "    gf_facet_wrap(~ term, scale = 'free_x')\n",
    ""
   ]
  },
  {
   "cell_type": "markdown",
   "metadata": {},
   "source": [
    "   *Write your response in this cell by double clicking on this text. When finished typing your response, hit control + enter to convert the text.*"
   ]
  },
  {
   "cell_type": "markdown",
   "metadata": {},
   "source": [
    "   ## Question 12\n",
    "   If the analysis is done using the median instead of the mean, hypothesize if your answer to question 11 may change? Hint, looking at the figures from question 6 and 11 may be helpful to think about this question. Be as specific as possible, citing evidence from the figures if possible, in answering this question. **1 pt**"
   ]
  },
  {
   "cell_type": "markdown",
   "metadata": {},
   "source": [
    "   *Write your response in this cell by double clicking on this text. When finished typing your response, hit control + enter to convert the text.*"
   ]
  },
  {
   "cell_type": "markdown",
   "metadata": {},
   "source": [
    "   ## Question 13\n",
    "   The following code creates a resampled distribution of median differences between the three penguin species on their bill length. Is there evidence that the medians are the same for the three species in the population? Why or why not?\n",
    "\n",
    "   Note, this code may take up to a minute to run. The figure is plotting as a density curve the estimated median salary difference between the two divisions. **1 pt**"
   ]
  },
  {
   "cell_type": "code",
   "execution_count": null,
   "metadata": {},
   "outputs": [],
   "source": [
    "r_penguin_med <- function(...) {\n",
    "  penguin_resample <- penguins %>%\n",
    "    drop_na() %>%\n",
    "    sample_n(nrow(penguins), replace = TRUE)\n",
    "\n",
    "  penguin_resample %>%\n",
    "    df_stats(bill_length_mm ~ species, median) %>%\n",
    "    pivot_wider(names_from = species, values_from = median) %>%\n",
    "    mutate(chinstrap_adelie = Chinstrap - Adelie,\n",
    "                   gentoo_adelie = Gentoo - Adelie) %>%\n",
    "    select(Adelie, chinstrap_adelie, gentoo_adelie) %>% \n",
    "    pivot_longer(everything(), names_to = \"group\", values_to = \"median\")\n",
    "}\n",
    "median_coef <- map(1:10000, r_penguin_med) %>%\n",
    "  bind_rows()\n",
    "\n",
    "median_coef %>%\n",
    "   gf_density(~ median, data = median_coef) %>%\n",
    "   gf_facet_wrap(~ group, scales = 'free_x')\n",
    ""
   ]
  },
  {
   "cell_type": "markdown",
   "metadata": {},
   "source": [
    "   *Write your response in this cell by double clicking on this text. When finished typing your response, hit control + enter to convert the text.*"
   ]
  },
  {
   "cell_type": "markdown",
   "metadata": {},
   "source": [
    "   ## Question 14\n",
    "   Discuss in a few sentences which analysis, the one with the mean or the one with the median, is most appropriate here. Be as specific as possible citing evidence from any of the figures/statistics created in this assignment where possible. **1 pt**"
   ]
  },
  {
   "cell_type": "markdown",
   "metadata": {},
   "source": [
    "   *Write your response in this cell by double clicking on this text. When finished typing your response, hit control + enter to convert the text.*"
   ]
  }
 ],
 "nbformat": 4,
 "nbformat_minor": 2,
 "metadata": {
  "language_info": {
   "codemirror_mode": "r",
   "file_extension": ".r",
   "mimetype": "text/x-r-source",
   "name": "R",
   "pygments_lexer": "r",
   "version": "4.0.2"
  },
  "orig_nbformat": 2,
  "file_extension": ".py",
  "kernelspec": {
   "display_name": "R",
   "language": "R",
   "name": "ir"
  },
  "mimetype": "text/x-python",
  "name": "python",
  "npconvert_exporter": "python",
  "pygments_lexer": "ipython3",
  "version": 3
 }
}