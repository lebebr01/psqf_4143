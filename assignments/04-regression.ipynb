{
 "cells": [
  {
   "attachments": {},
   "cell_type": "markdown",
   "metadata": {},
   "source": [
    "   ## Assignment 4\n",
    "\n",
    "   This assignment is aimed to give you some practice using Jupyter Notebooks, R, and interpretting statistical output using real-world data. The notebook below will be used to generate the statistical output and you will also write up answers to specific questions related to the statistical output. The assignment will be guided and much of the R code will be provided for you, but specific aspects of the R code you will be asked to interact with and ultimately make a decision about appropriate values to include. The notebook should be run from the first code cell in sequential order, this means that you must run the beginning cells in order to be able to have access to the R packages needed for the assignment and that the data are read in appropriately.\n",
    "\n",
    "   You may work in groups of up to 3 to complete the assignment. In these situations, please turn in one assignment in ICON with all group members names on the submission.\n",
    "\n",
    "   *Assignment 4 Due*: **Monday, May 5th, by 11:59 pm**"
   ]
  },
  {
   "cell_type": "markdown",
   "metadata": {},
   "source": [
    "   ## Description of the Data\n",
    "\n",
    "   Data on penguins will be used for this assignment. These data were collected by Dr. Kristen Gorman from real penguins in Antarctica. \n",
    "   \n",
    "   *Citation for data*: Horst AM, Hill AP, Gorman KB (2020). palmerpenguins: Palmer Archipelago (Antarctica) penguin data. R package version 0.1.0. https://allisonhorst.github.io/palmerpenguins/. doi: 10.5281/zenodo.3960218.\n",
    "\n",
    "   The description of the columns of the data are shown below.\n",
    "\n",
    "   + **species**: One of three species of penguins, Adelie, Chinstrap, or Gentoo\n",
    "   + **island**: The island the penguin lives on, Torgersen, Biscoe, or Dream\n",
    "   + **bill_length_mm**: The bill length, in mm, of the penguin\n",
    "   + **bill_depth_mm**: The bill depth, in mm, of the penguin\n",
    "   + **flipper_length_mm**: The flipper length, in mm, of the penguin\n",
    "   + **body_mass_g**: The body mass, in grams, of the penguin\n",
    "   + **sex**: The sex of the penguin, female or male\n",
    "   + **year**: The year of data collection, 2007, 2008, or 2009.\n",
    "   \n",
    "\n",
    "   Please don't hesitate to reach out with any data questions about the structure and interpretation of the variables in the data. More information about the penguins and the measurements can be seen on this page: https://github.com/allisonhorst/palmerpenguins. The penguins and measurements are toward the bottom of this web page."
   ]
  },
  {
   "cell_type": "markdown",
   "metadata": {},
   "source": [
    "   ## Assignment Setup\n",
    "   **Run this cell first upon opening the notebook everytime** This cell loads the R packages and prepares the data for you."
   ]
  },
  {
   "cell_type": "code",
   "execution_count": null,
   "metadata": {
    "vscode": {
     "languageId": "r"
    }
   },
   "outputs": [],
   "source": [
    "library(tidyverse)\n",
    "library(ggformula)\n",
    "library(mosaic)\n",
    "library(broom)\n",
    "\n",
    "options(scipen = 999)\n",
    "\n",
    "theme_set(theme_bw(base_size = 16))\n",
    "\n",
    "penguins <- read_csv(\"https://raw.githubusercontent.com/allisonhorst/palmerpenguins/master/inst/extdata/penguins.csv\")\n",
    "\n",
    "head(penguins)"
   ]
  },
  {
   "attachments": {},
   "cell_type": "markdown",
   "metadata": {},
   "source": [
    "## Question 1\n",
    "Explore the bivariate relationship between the **flipper length** and the **body mass** of the penguins. That is, the research question would want to explore if the flipper length of a penguin helps to explain variation in the body mass of the penguin.\n",
    "\n",
    "Replace \"%%\" with the outcome of interest and \"@@\" with the primary attribute to predict the outcome of interest. Finally, replace \"^^\" to provide descriptive axis labels for the data attributes."
   ]
  },
  {
   "cell_type": "code",
   "execution_count": null,
   "metadata": {
    "vscode": {
     "languageId": "r"
    }
   },
   "outputs": [],
   "source": [
    "gf_point(%% ~ @@, data = penguins, size = 4) %>%\n",
    "  gf_smooth(method = 'lm', size = 2) %>%\n",
    "  gf_labs(x = \"^^\",\n",
    "          y = \"^^\")"
   ]
  },
  {
   "attachments": {},
   "cell_type": "markdown",
   "metadata": {},
   "source": [
    "## Question 2\n",
    "Using the same attributes from #1, fit a linear model to explore the relationship between the two attributes.\n",
    "Replace \"%%\" with the outcome of interest here and \"@@\" with the primary attribute to predict the outcome of interest.\n",
    "\n",
    "*The question of interest is: Does flipper length help to explain variation (understand differences) in the body mass of the penguin.*"
   ]
  },
  {
   "cell_type": "code",
   "execution_count": null,
   "metadata": {
    "vscode": {
     "languageId": "r"
    }
   },
   "outputs": [],
   "source": [
    "penguin_reg <- lm(%% ~ @@, data = penguins)\n",
    "coef(penguin_reg)"
   ]
  },
  {
   "attachments": {},
   "cell_type": "markdown",
   "metadata": {},
   "source": [
    "## Question 3\n",
    "Explore the distributions of penguin **bill length** by the **species of the penguin** using violin plots.\n",
    "\n",
    "Replace \"%%\" with the outcome of interest here and \"@@\" with the primary attribute to predict the outcome of interest. Finally, replace \"^^\" to provide descriptive axis labels for the data attributes.\n",
    "\n",
    "*Note:* The 10th, 50th, and 90th percentiles are shown as vertical lines in the violin plots. "
   ]
  },
  {
   "cell_type": "code",
   "execution_count": null,
   "metadata": {
    "vscode": {
     "languageId": "r"
    }
   },
   "outputs": [],
   "source": [
    "gf_violin(%% ~ @@, data = penguins, fill = 'gray85', draw_quantiles = c(0.1, 0.5, 0.9)) %>%\n",
    "  gf_refine(coord_flip()) %>%\n",
    "  gf_labs(x = \"^^\",\n",
    "          y = \"^^\")"
   ]
  },
  {
   "attachments": {},
   "cell_type": "markdown",
   "metadata": {},
   "source": [
    "## Question 4\n",
    "Using the same attributes from #3, fit a linear model to explore the relationship between the two attributes.\n",
    "Replace \"%%\" with the outcome of interest here and \"@@\" with the primary attribute to predict the outcome of interest.\n",
    "\n",
    "*The question of interest is: Does the penguin species help to explain variation (understand differences) in the bill length of the penguin.*"
   ]
  },
  {
   "cell_type": "code",
   "execution_count": null,
   "metadata": {
    "vscode": {
     "languageId": "r"
    }
   },
   "outputs": [],
   "source": [
    "penguin_reg_species <- lm(%% ~ @@, data = penguins)\n",
    "coef(penguin_reg_species)"
   ]
  },
  {
   "cell_type": "markdown",
   "metadata": {},
   "source": [
    "## Question 5\n",
    "The following code will perform a bootstrap for based on the attributes from question #4. The bootstrap/resampling is replicated 10,000 times.\n",
    "\n",
    "Note, this code will take some time to run. It could take up to 5 minutes depending on server load. The figure is plotting a density curve of the estimates that were initially explored in the model from question 4 above."
   ]
  },
  {
   "cell_type": "code",
   "execution_count": null,
   "metadata": {
    "vscode": {
     "languageId": "r"
    }
   },
   "outputs": [],
   "source": [
    "resample_penguin <- function(...) {\n",
    "  penguin_resample <- penguins %>%\n",
    "    sample_n(nrow(penguins), replace = TRUE)\n",
    "\n",
    " penguin_resample %>%\n",
    "    lm(bill_length_mm ~ species, data = .) %>%\n",
    "    tidy(.) %>%\n",
    "    select(term, estimate)\n",
    "}\n",
    "penguin_coef <- map_dfr(1:10000, resample_penguin)\n",
    "\n",
    " penguin_coef %>%\n",
    "    gf_density(~ estimate) %>%\n",
    "    gf_facet_wrap(~ term, scale = 'free_x')"
   ]
  }
 ],
 "metadata": {
  "file_extension": ".py",
  "kernelspec": {
   "display_name": "R",
   "language": "R",
   "name": "ir"
  },
  "language_info": {
   "codemirror_mode": "r",
   "file_extension": ".r",
   "mimetype": "text/x-r-source",
   "name": "R",
   "pygments_lexer": "r",
   "version": "4.1.2"
  },
  "mimetype": "text/x-python",
  "name": "python",
  "npconvert_exporter": "python",
  "orig_nbformat": 2,
  "pygments_lexer": "ipython3",
  "version": 3
 },
 "nbformat": 4,
 "nbformat_minor": 2
}
