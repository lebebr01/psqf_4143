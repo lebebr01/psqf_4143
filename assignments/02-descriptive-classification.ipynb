{
 "cells": [
  {
   "cell_type": "markdown",
   "metadata": {},
   "source": [
    " ## Assignment 2\n",
    "\n",
    " This assignment is aimed to give you some practice using Jupyter Notebooks, R, and interpretting statistical output using real-world data. The notebook below will be used to generate the statistical output and you will also write up answers to specific questions related to the statistical output. The assignment will be guided and much of the R code will be provided for you, but specific aspects of the R code you will be asked to interact with and ultimately make a decision about appropriate values to include. The notebook should be run from the first code cell in sequential order, this means that you must run the beginning cells in order to be able to have access to the R packages needed for the assignment and that the data are read in appropriately.\n",
    "\n",
    " You may work in groups of up to 3 to complete the assignment. In these situations, please turn in one assignment in ICON with all group members names on the submission.\n",
    "\n",
    " *Assignment 2 Due*: **Monday, October 14, by 11:59 pm**"
   ]
  },
  {
   "cell_type": "markdown",
   "metadata": {},
   "source": [
    " ## Description of the Data\n",
    "\n",
    " These data are housing data from Ames, Iowa for the years 2006, 2007, 2008, 2009, and through July 2010. The data come from an R package names, `AmesHousing`, and contains a variety of variables about the houses that were sold during these years. The data have been simplified for this assignment by focusing on single family houses (i.e. omitting condos, multifamily homes, apartments, etc) and a subset of the attributes (i.e. variables) from the full data were retained. These are described in some detail below.\n",
    "\n",
    " + **SalePrice**: The home sale price is US dollars.\n",
    " + **price_above_60**: Whether the home sold above the 60th percentile, TRUE = above 60th percentile, FALSE = below 60th percentile\n",
    " + **Yr_Sold**: Year the home was sold\n",
    " + **Mo_Sold**: Month the home was sold, represented as number, e.g. 1 = January\n",
    " + **Neighborhood**: Name of the neighborhood in Ames\n",
    " + **Lot_Config**: The configuration of the lot, whether it is a corner lot, on a cul-de-sac, inside lot, etc.\n",
    " + **Lot_Area**: Square footage of the lot the house resides on.\n",
    " + **Overall_Qual**: The overall quality of the home with respect to material and finish: 0 = worst quality, 10 = best quality\n",
    " + **Overall_Cond**: The overall condition of the home: 0 = worst condition, 10 = best condition.\n",
    " + **Year_Built**: The year the home was built.\n",
    " + **Gr_Liv_Area**: Total square feet of home that is above ground, does not include basement square footage.\n",
    " + **Bedroom_AbvGr**: Number of bedrooms above ground, does not include any bedrooms in the basement.\n",
    " + **num_baths**: Number of bathrooms.\n",
    " + **Fireplaces**: Number of fireplaces\n",
    " + **Garage_Cars**: Number of cars the garage can hold\n",
    "\n",
    " Please don't hesitate to reach out with any data questions about the structure and intepretation of the variables in the data."
   ]
  },
  {
   "cell_type": "markdown",
   "metadata": {},
   "source": [
    " ## Assignment Setup\n",
    " **Run this cell first, upon opening the notebook. This cell need only be ran once**"
   ]
  },
  {
   "cell_type": "code",
   "execution_count": 0,
   "metadata": {},
   "outputs": [],
   "source": [
    ".libPaths('../RPackages')\n",
    "\n",
    "install.packages(\"AmesHousing\")\n"
   ]
  },
  {
   "cell_type": "markdown",
   "metadata": {},
   "source": [
    " **Run this cell first upon opening the notebook everytime** This cell loads the R packages and prepares the data for you."
   ]
  },
  {
   "cell_type": "code",
   "execution_count": 0,
   "metadata": {},
   "outputs": [],
   "source": [
    ".libPaths('../RPackages')\n",
    "\n",
    "library(tidyverse)\n",
    "library(ggformula)\n",
    "library(mosaic)\n",
    "library(rpart)\n",
    "library(rpart.plot)\n",
    "library(AmesHousing)\n",
    "library(rsample)\n",
    "\n",
    "theme_set(theme_bw(base_size = 14))\n",
    "\n",
    "ames <- ames_raw\n",
    "names(ames) <- gsub(\"\\\\s\", \"_\", names(ames))\n",
    "\n",
    "ames <- ames %>% \n",
    "  filter(Bldg_Type == '1Fam') %>%\n",
    "  mutate(num_baths = Full_Bath + .5 * Half_Bath,\n",
    "         price_above_60 = SalePrice > quantile(SalePrice, .6)) %>%\n",
    "  select(SalePrice, price_above_60, Yr_Sold, Mo_Sold, \n",
    "         Neighborhood, Lot_Config, Lot_Area, Overall_Qual, Overall_Cond, \n",
    "         Year_Built, Gr_Liv_Area, Bedroom_AbvGr, num_baths, Fireplaces, Garage_Cars)\n",
    "\n"
   ]
  },
  {
   "cell_type": "markdown",
   "metadata": {},
   "source": [
    " ## Question 1\n",
    " View the first few rows of the data by completing the code chunk below by replacing the \"??\" with the name of the object the data are stored into in the assignment setup step above. **1 pt**"
   ]
  },
  {
   "cell_type": "code",
   "execution_count": 0,
   "metadata": {},
   "outputs": [],
   "source": [
    "head(??)\n"
   ]
  },
  {
   "cell_type": "markdown",
   "metadata": {},
   "source": [
    " ## Question 2\n",
    " Explore the `SalePrice` distribution visually using the code provided below.\n",
    "\n",
    " Complete the code by filling in the appropriate variable where the \"^^\" are and fill in the visualization type you are most comfortable with where \"??\" are located. Finally, replace the \"$$\" with an appropriate plot title and x-axis label that are descriptive. **2 pts**"
   ]
  },
  {
   "cell_type": "code",
   "execution_count": 0,
   "metadata": {},
   "outputs": [],
   "source": [
    "gf_??(~ ^^, data = ames) %>%\n",
    "  gf_labs(title = \"$$\", \n",
    "          x = \"$$\") \n"
   ]
  },
  {
   "cell_type": "markdown",
   "metadata": {},
   "source": [
    " ## Question 3\n",
    " Based on the figure created in question 2 above, estimate the mean and median from the figure. Provide a sentence rationale for why you think the mean and median are approximately what you estimated. Be as specific as you can about features in the figure that you considered when picking values for the mean and median. Note, no need to be exact or compute the statistics yet (this will come later), rather provide your best guess solely from the figure create in question 2. **1 pts**"
   ]
  },
  {
   "cell_type": "markdown",
   "metadata": {},
   "source": [
    " *Write your response in this cell by double clicking on this text. When finished typing your response, hit control + enter to convert the text.*"
   ]
  },
  {
   "cell_type": "markdown",
   "metadata": {},
   "source": [
    " ## Question 4\n",
    " Based on the figure created in question 2 above, estimate the sd and IQR from the figure. Provide a sentence rationale for why you think the mean and median are approximately what you estimated. Be as specific as you can about features in the figure that you considered when picking values for the mean and median. Note, no need to be exact or compute the statistics yet (this will come later), rather provide your best guess solely from the figure create in question 2. **1 pts**"
   ]
  },
  {
   "cell_type": "markdown",
   "metadata": {},
   "source": [
    " *Write your response in this cell by double clicking on this text. When finished typing your response, hit control + enter to convert the text.*"
   ]
  },
  {
   "cell_type": "markdown",
   "metadata": {},
   "source": [
    " ## Question 5\n",
    " Use the following code to compute descriptive statistics that summarize the center and variability for the `SalePrice` variable.\n",
    "\n",
    " Complete the code by filling in the appropriate descriptive functions where the \"&&\" are located in the code below. Functions that may be useful here could include: `mean`, `median`, `sd`, `var`, `IQR`, `min`, `max`, `length`. **1 pt**"
   ]
  },
  {
   "cell_type": "code",
   "execution_count": 0,
   "metadata": {},
   "outputs": [],
   "source": [
    "ames %>%\n",
    "  df_stats(~ SalePrice, &&)\n"
   ]
  },
  {
   "cell_type": "markdown",
   "metadata": {},
   "source": [
    " ## Question 6\n",
    " For each of the statistics you calculated in question 5 above, provide a one or two sentence discussion of what this statistic tells us about the `SalePrice` variable. More specifically, interpret the statistics in the context of this particular data. **2 pts**"
   ]
  },
  {
   "cell_type": "markdown",
   "metadata": {},
   "source": [
    " *Write your response in this cell by double clicking on this text. When finished typing your response, hit control + enter to convert the text.*"
   ]
  },
  {
   "cell_type": "markdown",
   "metadata": {},
   "source": [
    " ## Question 7\n",
    " Hypothesize which variables may help to explain variation in the `SalePrice` variable. Put another way, what are some important variables that may account for differences in the sale price of the home. These may include variables that are in the data or other variables that are not in the data, think big picture here about other things that may the home sale price. **2 pts**"
   ]
  },
  {
   "cell_type": "markdown",
   "metadata": {},
   "source": [
    " *Write your response in this cell by double clicking on this text. When finished typing your response, hit control + enter to convert the text.*"
   ]
  },
  {
   "cell_type": "markdown",
   "metadata": {},
   "source": [
    " ## Question 8\n",
    " Compute conditional multivariate descriptive statistics for the `SalePrice` variable based on a variable you think may help to explain differences in the sale price of the home. This may include variables you discussed in question 7 above.\n",
    "\n",
    " Complete the code by filling in the appropriate outcome variable in place of \"^^\", the variable(s) of interest in place of \"$$\", and the descriptive functions where the \"&&\" are located in the code below. Functions that may be useful here could include: `mean`, `median`, `sd`, `var`, `IQR`, `min`, `max`, `length`. **1 pt**"
   ]
  },
  {
   "cell_type": "code",
   "execution_count": 0,
   "metadata": {},
   "outputs": [],
   "source": [
    "ames %>%\n",
    "  df_stats(^^ ~ $$, &&)\n"
   ]
  },
  {
   "cell_type": "markdown",
   "metadata": {},
   "source": [
    " ## Question 9\n",
    " Based on the descriptive statistics computed in question 8 above, interpret important differences in the descriptive statistics by the variable(s) that you explored in question 8. Be as specific as possible about the differences and interpret the differences in the context of the data. **2 pts**"
   ]
  },
  {
   "cell_type": "markdown",
   "metadata": {},
   "source": [
    " *Write your response in this cell by double clicking on this text. When finished typing your response, hit control + enter to convert the text.*"
   ]
  },
  {
   "cell_type": "markdown",
   "metadata": {},
   "source": [
    " ## Question 10\n",
    " We are now going to explore which data attributes (i.e. house attributes) that are most important in distinguishing between houses that sell above the 60th percentile. A new variable was created named, `price_above_60` which represents if the house sale price was above the 60th percentile. If the house sold above the 60th percentile, the variable is labeled as TRUE, if not, it is labeled as FALSE. To see which attributes are important, we will fit a classification tree to these data using the `rpart()` function.\n",
    " Complete the code within the `rpart()` function below by replacing \"$$\" with variables included in the data that you think would be important in distinguishing between a house that sells above the 60th percentile vs houses that do not sell above the 60th percentile. Note, separate variables with a `+` symbol. **1 pt**"
   ]
  },
  {
   "cell_type": "code",
   "execution_count": 0,
   "metadata": {},
   "outputs": [],
   "source": [
    "set.seed(2019)\n",
    "ames_split <- initial_split(ames, prop = .7)\n",
    "ames_train <- training(ames_split)\n",
    "ames_test <- testing(ames_split)\n",
    "\n",
    "\n",
    "# Fit classification tree\n",
    "ames_class <- rpart(price_above_60 ~ $$, \n",
    "                    method = 'class', data = ames_train)\n",
    "\n",
    "rpart.plot(ames_class, roundint = FALSE, type = 3, branch = .3)\n"
   ]
  },
  {
   "cell_type": "markdown",
   "metadata": {},
   "source": [
    " ## Question 11\n",
    " Based on the classification tree figure created from question 10 above, what are the most important variables that help to differentiate between houses that sell above the 60th percentile? Which variable was the most important? **2 pts**"
   ]
  },
  {
   "cell_type": "markdown",
   "metadata": {},
   "source": [
    " *Write your response in this cell by double clicking on this text. When finished typing your response, hit control + enter to convert the text.*"
   ]
  },
  {
   "cell_type": "markdown",
   "metadata": {},
   "source": [
    " ## Question 12\n",
    " The code below will use the model fitted above and produce predicted values for the withheld test data. A bar chart is created that shows the accuracy of the predictions compared to the actual observed data."
   ]
  },
  {
   "cell_type": "code",
   "execution_count": 0,
   "metadata": {},
   "outputs": [],
   "source": [
    "ames_test <- ames_test %>%\n",
    "  mutate(price_60_predict = predict(prune_ames_class, \n",
    "                                    newdata = ames_test, \n",
    "                                    type = 'class'))\n",
    "ames_test %>%\n",
    "  count(price_above_60, price_60_predict)\n",
    "\n",
    "gf_bar(~ price_above_60, fill = ~price_60_predict, data = ames_test, \n",
    "       position = 'fill')\n"
   ]
  },
  {
   "cell_type": "markdown",
   "metadata": {},
   "source": [
    " Do you feel the classification tree did a good job at accurately predicting which houses were above vs below the 60th percentile? Be as specific as possible citing the bar chart created above. **1 pt**"
   ]
  },
  {
   "cell_type": "markdown",
   "metadata": {},
   "source": [
    " ## Question 13\n",
    " The following code chunk fits two classification models and repeats the . One includes most of the variables in the data including: Yr_Sold, Mo_Sold, Lot_Area, Overall_Qual, Overall_Cond, Year_Built, Gr_Liv_Area, Bedroom_AbvGr, num_baths, Fireplaces, Garage_Cars. The second classification model simplifies the model to only include the following variables: Yr_Sold, Mo_Sold, Lot_Area, Bedroom_AbvGr, Fireplaces, Garage_Cars. Prior to running the code below, hypothesize how much lower the classification accuracy will be for the classification model that includes fewer variables. To evaluate this, it may be worth thinking about how important the variables that are omitted from the second model may be on the classification of the houses. **1 pt**"
   ]
  },
  {
   "cell_type": "markdown",
   "metadata": {},
   "source": [
    " *Write your response in this cell by double clicking on this text. When finished typing your response, hit control + enter to convert the text.*"
   ]
  },
  {
   "cell_type": "markdown",
   "metadata": {},
   "source": [
    " ## Question 14\n",
    " Run the code below to generate a figure that compares model 1 and model 2 based on the description in question 13. Model 1 is the classification model with more variables included and model 2 is the model that simplifies the variables in the model. Note, this command may take up to 20 to 30 seconds to complete."
   ]
  },
  {
   "cell_type": "code",
   "execution_count": 0,
   "metadata": {},
   "outputs": [],
   "source": [
    "set.seed(2019)\n",
    "accuracy_list <- vector(\"list\", 100)\n",
    "\n",
    "for(i in 1:100) {\n",
    "  ames_split <- initial_split(ames, prop = .7)\n",
    "  ames_train <- training(ames_split)\n",
    "  ames_test <- testing(ames_split)\n",
    "  \n",
    "  ames_class <- rpart(price_above_60 ~ Yr_Sold + Mo_Sold + Lot_Area + Overall_Qual + Overall_Cond + Year_Built + Gr_Liv_Area + Bedroom_AbvGr + num_baths + Fireplaces + Garage_Cars, \n",
    "                      method = 'class', data = ames_train)\n",
    "  ames_class_red <- rpart(price_above_60 ~ Yr_Sold + Mo_Sold + Lot_Area + Bedroom_AbvGr + Fireplaces + Garage_Cars, \n",
    "                      method = 'class', data = ames_train)\n",
    "  ames_test <- ames_test %>%\n",
    "    mutate(price_60_predict = predict(ames_class, \n",
    "                                      newdata = ames_test, \n",
    "                                      type = 'class'),\n",
    "           price_60_predict_red = predict(ames_class_red, \n",
    "                                      newdata = ames_test, \n",
    "                                      type = 'class'))\n",
    "  \n",
    "   full_mod <- ames_test %>%\n",
    "    mutate(same_class = ifelse(price_above_60 == price_60_predict, 1, 0)) %>%\n",
    "    df_stats(~ same_class, mean, sum) %>% \n",
    "    mutate(iteration = i,\n",
    "           model = 'Model 1')\n",
    "   red_mod <- ames_test %>%\n",
    "     mutate(same_class = ifelse(price_above_60 == price_60_predict_red, 1, 0)) %>%\n",
    "     df_stats(~ same_class, mean, sum) %>% \n",
    "     mutate(iteration = i, \n",
    "            model = 'Model 2')\n",
    "   accuracy_list[[i]] <- rbind(full_mod, red_mod)\n",
    "}\n",
    "\n",
    "# combine operations\n",
    "eval_accuracy <- bind_rows(accuracy_list)\n",
    "gf_density(~ mean_same_class, data = eval_accuracy) %>%\n",
    "  gf_facet_wrap(~ model)\n"
   ]
  },
  {
   "cell_type": "markdown",
   "metadata": {},
   "source": [
    " Summarise the difference in classification accuracy based on the figure created. Be as specific as possible about notable differences in the classification accuracy based on the two models. Are you surprised by any differences in classification accuracy observed? **2 pts**"
   ]
  },
  {
   "cell_type": "markdown",
   "metadata": {},
   "source": [
    " *Write your response in this cell by double clicking on this text. When finished typing your response, hit control + enter to convert the text.*"
   ]
  }
 ],
 "metadata": {
  "file_extension": ".py",
  "kernelspec": {
   "display_name": "Python 3",
   "language": "python",
   "name": "python3"
  },
  "language_info": {
   "codemirror_mode": {
    "name": "ipython",
    "version": 3
   },
   "file_extension": ".py",
   "mimetype": "text/x-python",
   "name": "python",
   "nbconvert_exporter": "python",
   "pygments_lexer": "ipython3",
   "version": "3.7.3"
  },
  "mimetype": "text/x-python",
  "name": "python",
  "npconvert_exporter": "python",
  "pygments_lexer": "ipython3",
  "version": 3
 },
 "nbformat": 4,
 "nbformat_minor": 2
}
