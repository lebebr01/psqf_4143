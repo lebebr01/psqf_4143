{
 "cells": [
  {
   "cell_type": "markdown",
   "metadata": {},
   "source": [
    " ## Assignment 3\n",
    "\n",
    " This assignment is aimed to give you some practice using Jupyter Notebooks, R, and interpretting statistical output using real-world data. The notebook below will be used to generate the statistical output and you will also write up answers to specific questions related to the statistical output. The assignment will be guided and much of the R code will be provided for you, but specific aspects of the R code you will be asked to interact with and ultimately make a decision about appropriate values to include. The notebook should be run from the first code cell in sequential order, this means that you must run the beginning cells in order to be able to have access to the R packages needed for the assignment and that the data are read in appropriately.\n",
    "\n",
    " You may work in groups of up to 3 to complete the assignment. In these situations, please turn in one assignment in ICON with all group members names on the submission.\n",
    "\n",
    " *Assignment 3 Due*: **Sunday, April 18th, by 11:59 pm**"
   ]
  },
  {
   "cell_type": "markdown",
   "metadata": {},
   "source": [
    " ## Description of the Data\n",
    "\n",
    " These data are housing data from Ames, Iowa for the years 2006, 2007, 2008, 2009, and through July 2010. The data come from an R package names, `AmesHousing`, and contains a variety of variables about the houses that were sold during these years. The data have been simplified for this assignment by focusing on single family houses (i.e. omitting condos, multifamily homes, apartments, etc) and a subset of the attributes (i.e. variables) from the full data were retained. These are described in some detail below.\n",
    "\n",
    " + **SalePrice**: The home sale price is US dollars.\n",
    " + **price_above_60**: Whether the home sold above the 60th percentile, TRUE = above 60th percentile, FALSE = below 60th percentile\n",
    " + **Yr_Sold**: Year the home was sold\n",
    " + **Mo_Sold**: Month the home was sold, represented as number, e.g. 1 = January\n",
    " + **Neighborhood**: Name of the neighborhood in Ames\n",
    " + **Lot_Config**: The configuration of the lot, whether it is a corner lot, on a cul-de-sac, inside lot, etc.\n",
    " + **Lot_Area**: Square footage of the lot the house resides on.\n",
    " + **Overall_Qual**: The overall quality of the home with respect to material and finish: 0 = worst quality, 10 = best quality\n",
    " + **Overall_Cond**: The overall condition of the home: 0 = worst condition, 10 = best condition.\n",
    " + **Year_Built**: The year the home was built.\n",
    " + **Gr_Liv_Area**: Total square feet of home that is above ground, does not include basement square footage.\n",
    " + **Bedroom_AbvGr**: Number of bedrooms above ground, does not include any bedrooms in the basement.\n",
    " + **num_baths**: Number of bathrooms.\n",
    " + **Fireplaces**: Number of fireplaces\n",
    " + **Garage_Cars**: Number of cars the garage can hold\n",
    "\n",
    " Please don't hesitate to reach out with any data questions about the structure and interpretation of the variables in the data."
   ]
  },
  {
   "cell_type": "markdown",
   "metadata": {},
   "source": [
    " "
   ]
  },
  {
   "cell_type": "markdown",
   "metadata": {},
   "source": [
    "## Assignment Setup\n",
    "\n",
    " **Run this cell first upon opening the notebook everytime** This cell loads the R packages and prepares the data for you."
   ]
  },
  {
   "cell_type": "code",
   "execution_count": 0,
   "metadata": {},
   "outputs": [],
   "source": [
    "library(tidyverse)\n",
    "library(ggformula)\n",
    "library(mosaic)\n",
    "library(rpart)\n",
    "library(rpart.plot)\n",
    "library(AmesHousing)\n",
    "library(rsample)\n",
    "library(corrr)\n",
    "\n",
    "options(scipen = 999)\n",
    "\n",
    "theme_set(theme_bw(base_size = 16))\n",
    "\n",
    "ames <- ames_raw\n",
    "names(ames) <- gsub(\"\\\\s\", \"_\", names(ames))\n",
    "\n",
    "ames <- ames %>% \n",
    "  filter(Bldg_Type == '1Fam') %>%\n",
    "  mutate(num_baths = Full_Bath + .5 * Half_Bath,\n",
    "         price_above_60 = SalePrice > quantile(SalePrice, .6)) %>%\n",
    "  select(SalePrice, price_above_60, Yr_Sold, Mo_Sold, \n",
    "         Neighborhood, Lot_Config, Lot_Area, Overall_Qual, Overall_Cond, \n",
    "         Year_Built, Gr_Liv_Area, Bedroom_AbvGr, num_baths, Fireplaces, Garage_Cars)\n"
   ]
  },
  {
   "cell_type": "markdown",
   "metadata": {},
   "source": [
    " ## Question 1\n",
    " Let's first explore a classification model to predict whether the house sells higher than the 60th percentile of all of the houses in Ames, Iowa.\n",
    " Complete the code within the `rpart()` function below by replacing \"$$\" with variables included in the data that you think would be important in distinguishing between a house that sells above the 60th percentile vs houses that do not sell above the 60th percentile. Note, separate variables with a `+` symbol. **1 pt**"
   ]
  },
  {
   "cell_type": "code",
   "execution_count": 0,
   "metadata": {},
   "outputs": [],
   "source": [
    "set.seed(2021)\n",
    "ames_split <- initial_split(ames, prop = .7)\n",
    "ames_train <- training(ames_split)\n",
    "ames_test <- testing(ames_split)\n",
    "\n",
    "\n",
    "# Fit classification tree\n",
    "ames_class <- rpart(price_above_60 ~ $$, \n",
    "                    method = 'class', data = ames_train)\n",
    "\n",
    "rpart.plot(ames_class, roundint = FALSE, type = 3, branch = .3)\n",
    "\n",
    "ames_test <- ames_test %>%\n",
    "  mutate(price_60_predict = predict(ames_class, \n",
    "                                    newdata = ames_test, \n",
    "                                    type = 'class'))\n",
    "\n",
    "gf_bar(~ price_above_60, fill = ~price_60_predict, data = ames_test, \n",
    "       position = 'fill')\n"
   ]
  },
  {
   "cell_type": "markdown",
   "metadata": {},
   "source": [
    " ## Question 2\n",
    " Summarize the results from the classification tree above. Discuss briefly which variables were important and how well the model did at accurately predicting whether the group the house sold in. **1 pt**"
   ]
  },
  {
   "cell_type": "markdown",
   "metadata": {},
   "source": [
    " *Write your response in this cell by double clicking on this text. When finished typing your response, hit control + enter to convert the text.*"
   ]
  },
  {
   "cell_type": "markdown",
   "metadata": {},
   "source": [
    " ## Question 3\n",
    " For the remainder of the assignment, we'll explore the `SalePrice` attribute, representing how much the house sold for. Pick another **continuous, quantitative** attribute to complete the code to create a scatterplot of the relationship between `SalePrice` and the attribute you pick. Complete the appropriate function in place of \"^^\" and add in the **continuous, quantitative** attribute of your choosing in place of \"$$\" below. Also, add appropriate axis labels in place of \"@@\". **1 pt**"
   ]
  },
  {
   "cell_type": "code",
   "execution_count": 0,
   "metadata": {},
   "outputs": [],
   "source": [
    "gf_^^(SalePrice ~ $$, data = ames_train, size = 3) %>%\n",
    "  gf_smooth(method = 'lm', linetype = 2, size = 1) %>%\n",
    "  gf_labs(x = \"@@\",\n",
    "          y = \"@@\")\n"
   ]
  },
  {
   "cell_type": "markdown",
   "metadata": {},
   "source": [
    " ## Question 4\n",
    " Summarize in a few sentences the relationship depicted in the figure shown from #3. Discuss in this summary the **strength of relationship**, the **shape of the relationship**, and the **direction of the relationship**. Reference the figure in #3 to support your discussion of the relationship. **1 pt**"
   ]
  },
  {
   "cell_type": "markdown",
   "metadata": {},
   "source": [
    " *Write your response in this cell by double clicking on this text. When finished typing your response, hit control + enter to convert the text.*"
   ]
  },
  {
   "cell_type": "markdown",
   "metadata": {},
   "source": [
    " ## Question 5\n",
    " Estimate the correlation (ie. the strength of **linear association**) based on the figure from #3. Support your estimate with evidence from the figure in #3 or your discussion about the relationship from #4 above. **1 pt**"
   ]
  },
  {
   "cell_type": "markdown",
   "metadata": {},
   "source": [
    " *Write your response in this cell by double clicking on this text. When finished typing your response, hit control + enter to convert the text.*"
   ]
  },
  {
   "cell_type": "markdown",
   "metadata": {},
   "source": [
    " ## Question 6\n",
    " From the list of attributes in these data above, pick a data attribute that is numeric but represents categories (i.e ideally less than 5 unique values; number of baths, bedrooms, or garages would be examples of these types of attributes). Complete the code below, using information from the figure you created in #3 above to create a visualization that shows the relationship between the `SalePrice` and the one you picked in #3 and the new variable attribute.\n",
    " Complete the appropriate function in place of \"^^\" and add in the **continuous, quantitative** attribute of your choosing in place of \"$$\" and add appropriate axis labels in place of \"@@\"  (this portion should match #3 above). Finally, add the new **attribute with a few numeric quantities** in place of \"&&\", for example, `Bedroom_AbvGr`, `num_baths`, `Fireplaces`, and `Garage_Cars`. **1 pt**"
   ]
  },
  {
   "cell_type": "code",
   "execution_count": 0,
   "metadata": {},
   "outputs": [],
   "source": [
    "gf_^^(SalePrice ~ $$, data = ames_train, size = 3) %>%\n",
    "  gf_facet_wrap(~ &&) %>%\n",
    "  gf_labs(x = \"@@\",\n",
    "          y = \"@@\")\n"
   ]
  },
  {
   "cell_type": "markdown",
   "metadata": {},
   "source": [
    " ## Question 7\n",
    " Does it appear that the correlation differs (i.e. the **linear relationship**) across the faceted variable (i.e. the different panels of the figure)? Be as specific in your answer about any estimated differences and reference elements of the figure to help support your answer. **1 pt**"
   ]
  },
  {
   "cell_type": "markdown",
   "metadata": {},
   "source": [
    " *Write your response in this cell by double clicking on this text. When finished typing your response, hit control + enter to convert the text.*"
   ]
  },
  {
   "cell_type": "markdown",
   "metadata": {},
   "source": [
    " ## Question 8\n",
    " Complete the code below that computes the correlations between the `SalePrice` attribute and the variables you have chosen above from question 3 and question 6. Complete the two variables that you picked above in #3 and #6 in place of \"$$\" and \"&&\" respectively. **1 pt**\n",
    "\n",
    " **Note:** The table below should estimate a correlation for each unique value of the attribute specified in place of \"&&\" and found within the `group_by()` function. For example, if the attribute `Bedroom_AbvGr` is chosen, then a correlation will be computed for those houses that have 1 bedroom above ground, 2 bedrooms above grouned, and so on. The correlation represents the relationship between `SalePrice` and the attribute specified in place of \"$$\". "
   ]
  },
  {
   "cell_type": "code",
   "execution_count": 0,
   "metadata": {},
   "outputs": [],
   "source": [
    "ames_train %>%\n",
    "  group_by(&&) %>%\n",
    "  summarise(cor = cor(SalePrice ~ $$))\n"
   ]
  },
  {
   "cell_type": "markdown",
   "metadata": {},
   "source": [
    " ## Question 9\n",
    " Interpret the each of correlations here in the context of the data. That is, if the correlation is -0.2, what does this correlation mean about the relationship between the two attributes? What do the correlations speak about the **strength** and **shape** of association? Is there evidence of differential associations across groups? **1 pt**"
   ]
  },
  {
   "cell_type": "markdown",
   "metadata": {},
   "source": [
    " *Write your response in this cell by double clicking on this text. When finished typing your response, hit control + enter to convert the text.*"
   ]
  },
  {
   "cell_type": "markdown",
   "metadata": {},
   "source": [
    " ## Question 10\n",
    " Now fit a regression tree to the ames housing training data to predict the sale price of the house. Complete the code below to add data attributes that you feel will help to predict the sale price of the house in Ames in place of \"$$\". Note, separate variables with a `+` symbol and do not include the `price_above_60` attribute. **1 pt**"
   ]
  },
  {
   "cell_type": "code",
   "execution_count": 0,
   "metadata": {},
   "outputs": [],
   "source": [
    "ames_saleprice <- rpart(SalePrice ~ $$, data = ames_train, method = 'anova')\n",
    "\n",
    "rpart.plot(ames_saleprice, roundint = FALSE, type = 3, branch = .3)\n"
   ]
  },
  {
   "cell_type": "markdown",
   "metadata": {},
   "source": [
    " ## Question 11\n",
    " Which data attribute is the most helpful in predicting the sale price of the house in ames based on the regression tree above? How can you tell from the regression tree above? **1 pt**"
   ]
  },
  {
   "cell_type": "markdown",
   "metadata": {},
   "source": [
    " *Write your response in this cell by double clicking on this text. When finished typing your response, hit control + enter to convert the text.*"
   ]
  },
  {
   "cell_type": "markdown",
   "metadata": {},
   "source": [
    " ## Question 12\n",
    " Complete the following code to generate the prediction accuracy on the withheld test data. Fill in appropriate descriptive functions (i.e. `mean`, `median`, `sd`, `min`, `max`, `IQR`, `length`, etc) in place of \"@@\" to calculate statistics of interest to evaluate how well the model predicted the sale price of the test data. **1 pt**"
   ]
  },
  {
   "cell_type": "code",
   "execution_count": 0,
   "metadata": {},
   "outputs": [],
   "source": [
    "ames_test <- ames_test %>%\n",
    "  mutate(sale_predicted = predict(ames_saleprice, newdata = ames_test),\n",
    "         error = SalePrice - sale_predicted,\n",
    "         absolute_error = abs(error))\n",
    "\n",
    "ames_test %>%\n",
    "  df_stats(~ absolute_error, @@)\n"
   ]
  },
  {
   "cell_type": "markdown",
   "metadata": {},
   "source": [
    " ## Question 13\n",
    " Summarize how well you feel the model did at predicting the overall sale price. Be as specific as possible using the statistics computed above and the model shown in #10 above to support your answer. **1 pt**"
   ]
  },
  {
   "cell_type": "markdown",
   "metadata": {},
   "source": [
    " *Write your response in this cell by double clicking on this text. When finished typing your response, hit control + enter to convert the text.*"
   ]
  },
  {
   "cell_type": "markdown",
   "metadata": {},
   "source": [
    "  ## Question 14\n",
    "The following code generates conditional error for 10 ranges of sale price."
   ]
  },
  {
   "cell_type": "code",
   "execution_count": 0,
   "metadata": {},
   "outputs": [],
   "source": [
    "cond_error <- ames_test %>%\n",
    "  df_stats(absolute_error ~ cut_number(SalePrice, 10), mean, min, max) %>%\n",
    "  rename(saleprice = `cut_number(SalePrice, 10)`)  %>% \n",
    "  mutate(saleprice2 = gsub(\"]\", \"\", str_split_fixed(as.character(saleprice), \",\", n = 2)[,2]))\n",
    "\n",
    "gf_pointrangeh(saleprice2 ~ mean + min + max, data = cond_error) %>%\n",
    "  gf_labs(y = \"Sale Price\", \n",
    "                 x = \"Absolute Error\")\n"
   ]
  },
  {
   "cell_type": "markdown",
   "metadata": {},
   "source": [
    "Does the model performance appear different than the overall error that was computed in question 12? Be as specific as possible if your discussion for why you think the model performance is better, worse, or similar than question 12. **1 pt**"
   ]
  },
  {
   "cell_type": "markdown",
   "metadata": {},
   "source": [
    " *Write your response in this cell by double clicking on this text. When finished typing your response, hit control + enter to convert the text.*"
   ]
  }
 ],
 "metadata": {
  "language_info": {
   "codemirror_mode": "r",
   "file_extension": ".r",
   "mimetype": "text/x-r-source",
   "name": "R",
   "pygments_lexer": "r",
   "version": "4.0.2"
  },
  "orig_nbformat": 2,
  "file_extension": ".py",
  "kernelspec": {
   "display_name": "R",
   "language": "R",
   "name": "ir"
  },
  "mimetype": "text/x-python",
  "name": "python",
  "npconvert_exporter": "python",
  "pygments_lexer": "ipython3",
  "version": 3
 },
 "nbformat": 4,
 "nbformat_minor": 2
}