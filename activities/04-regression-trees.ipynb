{
 "cells": [
  {
   "attachments": {},
   "cell_type": "markdown",
   "metadata": {},
   "source": [
    "## Activity 4 - Regression Trees\n",
    "\n",
    "**Due** on *Monday, October 30th* by 11:59 pm\n",
    "\n",
    "You will be asked to complete a short survey on ICON that asks questions about the output generated below. Furthermore, there are additional questions to consider sprinkled throughout the notebook below, these do not need to be explicitly answered, but can provide a bit of a guide to thinking and interpreting the following statistical output. \n",
    "\n",
    "## Setup\n",
    "\n",
    "This first code cell needs to be executed (\"Run\") everytime this notebook is opened. For example, if you stop working on this activity and come back to the activity, this first code cell will need to be executed again to load the data, even though output may still show up from the prior time you worked on the activity. \n",
    "\n",
    "The data are specific details about Starbucks drinks. Here are some more specific details about the data: \n",
    "\n",
    "|variable        |class     |description |\n",
    "|:---------------|:---------|:-----------|\n",
    "|product_Name    |character | Product Name |\n",
    "|size            |character | Size of drink (short, tall, grande, venti) |\n",
    "|milk            |double    | Milk Type type of milk used\n",
    "|                |          |  - `0` = none\n",
    "|                |          |  - `1` = nonfat\n",
    "|                |          |  - `2` = 2%\n",
    "|                |          |  - `3` = soy\n",
    "|                |          |  - `4` = coconut\n",
    "|                |          |  - `5` = whole |\n",
    "|whip            |double    | Whip added or not (binary, 0 = no; 1 = yes) |\n",
    "|serv_size_m_l    |double    | Serving size in ml |\n",
    "|calories        |double    | KCal|\n",
    "|total_fat_g     |double    | Total fat grams |\n",
    "|saturated_fat_g |double    | Saturated fat grams |\n",
    "|trans_fat_g     |character | Trans fat grams |\n",
    "|cholesterol_mg  |double    | Cholesterol mg |\n",
    "|sodium_mg       |double    | Sodium milligrams |\n",
    "|total_carbs_g   |double    | Total Carbs grams |\n",
    "|fiber_g         |character | Fiber grams |\n",
    "|sugar_g         |double    | Sugar grams  |\n",
    "|caffeine_mg     |double    | Caffeine in milligrams |\n",
    "\n",
    "### Guiding question for the activity\n",
    "1. How accurately can a regression tree model predict the number of Calories in the drink using other features of the drink?"
   ]
  },
  {
   "cell_type": "code",
   "execution_count": null,
   "metadata": {
    "vscode": {
     "languageId": "r"
    }
   },
   "outputs": [],
   "source": [
    "library(tidyverse)\n",
    "library(ggformula)\n",
    "library(mosaic)\n",
    "library(rpart)\n",
    "library(rpart.plot)\n",
    "library(rsample)\n",
    "\n",
    "theme_set(theme_bw(base_size = 18))\n",
    "\n",
    "starbucks <- readr::read_csv('https://raw.githubusercontent.com/rfordatascience/tidytuesday/master/data/2021/2021-12-21/starbucks.csv') %>%\n",
    "   filter(size %in% c('grande', 'tall', 'venti'))\n",
    "\n",
    "head(starbucks)"
   ]
  },
  {
   "cell_type": "markdown",
   "metadata": {},
   "source": [
    "## Question 1\n",
    "\n",
    "Explore the number of calories in the Starbucks drink by the size of the drink.\n",
    "\n",
    "Fill in the primary attribute of interest (i.e, `calories`) in place of \"^^\" and the size of the drink (ie., `size`) in place of \"@@\". Also, fill in appropriate attribute names and plot title in place of \"%%\"."
   ]
  },
  {
   "cell_type": "code",
   "execution_count": null,
   "metadata": {
    "vscode": {
     "languageId": "r"
    }
   },
   "outputs": [],
   "source": [
    "gf_violin(^^ ~ @@, data = starbucks, draw_quantiles = c(0.1, .5, 0.9), fill = 'gray85') %>%\n",
    "  gf_refine(coord_flip()) %>%\n",
    "  gf_labs(x = '%%',\n",
    "          y = '%%',\n",
    "          title = '%%')"
   ]
  },
  {
   "cell_type": "markdown",
   "metadata": {},
   "source": [
    "### Questions to think about\n",
    "\n",
    "1. What is the shape, center, and variation for each of the three group sizes? \n",
    "2. Does it appear that the size of the drink is important in differentiating the number of calories for a drink?\n",
    "3. What other attributes may also be helpful to accurately predict the number of calories in a Starbucks drink?"
   ]
  },
  {
   "cell_type": "markdown",
   "metadata": {},
   "source": [
    "## Question 2\n",
    "\n",
    "Interpret the correlations found between calories, caffeine, and sugar of the starbucks drinks. \n",
    "\n",
    "Note, the code below returns a correlation matrix that will have 1's on the diagonal of the matrix (these can be ignored). The correlations are represented on the off diagonal elements by comparing the row to column type. For example, the correlation reported for the row, calories and the column, caffeine_mg, would represent the correlation between calories and caffeine. "
   ]
  },
  {
   "cell_type": "code",
   "execution_count": null,
   "metadata": {
    "vscode": {
     "languageId": "r"
    }
   },
   "outputs": [],
   "source": [
    "starbucks %>%\n",
    "  select(calories, caffeine_mg, sugar_g) %>%\n",
    "  cor()"
   ]
  },
  {
   "cell_type": "markdown",
   "metadata": {},
   "source": [
    "### Questions to consider\n",
    "\n",
    "1. Interpret the 3 unique correlations between calories, caffeine, and sugar. \n",
    "2. Which attribute would help predict the number of calories in a drink given the 3 correlation values? "
   ]
  },
  {
   "cell_type": "markdown",
   "metadata": {},
   "source": [
    "## Question 3\n",
    "\n",
    "Fit a regression tree to predict the number of calories in a starbucks drink from the other data attributes. **Note:** you can use any attribute as a predictor except the name and the calories. \n",
    "\n",
    "Place the outcome (ie., `calories`) in place of the \"^^\" and place any other attributes in place of the \"@@\". Separate more than one attribute with the \"+\" symbol. "
   ]
  },
  {
   "cell_type": "code",
   "execution_count": null,
   "metadata": {
    "vscode": {
     "languageId": "r"
    }
   },
   "outputs": [],
   "source": [
    "set.seed(2022)\n",
    "\n",
    "starbucks_split <- initial_split(starbucks, prop = .75)\n",
    "starbucks_train <- training(starbucks_split)\n",
    "starbucks_test <- testing(starbucks_split)\n",
    "\n",
    "calories_tree <- rpart(calories ~ @@, data = starbucks_train, method = 'anova')\n",
    "\n",
    "rpart.plot(calories_tree, roundint = FALSE, type = 3, branch = .3)"
   ]
  },
  {
   "cell_type": "markdown",
   "metadata": {},
   "source": [
    "### Questions to consider\n",
    "\n",
    "1. What attribute is the strongest predictor of the number of calories in a drink?\n",
    "2. Were all the attributes useful in predicting the number of calories?"
   ]
  },
  {
   "cell_type": "markdown",
   "metadata": {},
   "source": [
    "## Question 4\n",
    "\n",
    "Interpret the accuracy of the model in predicting the number of calories. Note, the following code depends on question #3 being ran successfully. \n",
    "\n",
    "The error below represents the absolute value of the error, that is, the absolute value of the difference between the real calories vs the model predicted calories. "
   ]
  },
  {
   "cell_type": "code",
   "execution_count": null,
   "metadata": {
    "vscode": {
     "languageId": "r"
    }
   },
   "outputs": [],
   "source": [
    "starbucks_test <- starbucks_test %>%\n",
    "    mutate(calorie_pred = predict(calories_tree, newdata = .),\n",
    "            error = calories - calorie_pred,\n",
    "            calorie_group = cut_number(calories, n = 5))\n",
    "\n",
    "df_stats(~ abs(error), data = starbucks_test, mean, median, sd, IQR, min, max)"
   ]
  },
  {
   "cell_type": "markdown",
   "metadata": {},
   "source": [
    "### Questions to consider\n",
    "\n",
    "1. What metric is the error here? More specifically, how is the mean or median value interpreted here? \n",
    "2. Evaluate how well the model is performing. Is the model doing well at predicting calories or is it not doing a good job? \n",
    "3. What additional information is helpful in answering #2 to provide relevant context to evaluate overall model performance? "
   ]
  },
  {
   "cell_type": "markdown",
   "metadata": {},
   "source": [
    "## Conditional Error\n",
    "\n",
    "Evaluate the conditional error within the following table and figure. \n",
    "\n",
    "*Note:* The calories was split into 5 groups of about equal size. The range of the calorie groups are shown in the column, calorie_group.\n",
    "\n",
    "The figure shows the range of error, the left-most part of the range represents the minimum error and the right-most part of the range is the maximum error. The circle represents the mean absolute error. "
   ]
  },
  {
   "cell_type": "code",
   "execution_count": null,
   "metadata": {
    "vscode": {
     "languageId": "r"
    }
   },
   "outputs": [],
   "source": [
    "conditional_error <- starbucks_test %>%\n",
    "   df_stats(abs(error) ~ calorie_group, mean, median, sd, IQR, min, max)\n",
    "\n",
    "conditional_error"
   ]
  },
  {
   "cell_type": "code",
   "execution_count": null,
   "metadata": {
    "vscode": {
     "languageId": "r"
    }
   },
   "outputs": [],
   "source": [
    "gf_pointrangeh(calorie_group ~ mean + min + max, data = conditional_error) %>%\n",
    "  gf_labs(y = 'Calories',\n",
    "          x = 'Absolute Error')"
   ]
  },
  {
   "cell_type": "markdown",
   "metadata": {},
   "source": [
    "### Questions to consider\n",
    "\n",
    "1. How does the conditional error change across the 5 different groups? \n",
    "2. Does there appear to be differences in the absolute error across different calorie groups?"
   ]
  }
 ],
 "metadata": {
  "kernelspec": {
   "display_name": "R",
   "language": "R",
   "name": "ir"
  },
  "language_info": {
   "codemirror_mode": "r",
   "file_extension": ".r",
   "mimetype": "text/x-r-source",
   "name": "R",
   "pygments_lexer": "r",
   "version": "4.2.1"
  },
  "orig_nbformat": 4
 },
 "nbformat": 4,
 "nbformat_minor": 2
}
