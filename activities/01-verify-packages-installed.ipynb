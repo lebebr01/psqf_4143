{
 "cells": [
  {
   "cell_type": "markdown",
   "source": [
    "  # Verify Installation"
   ],
   "metadata": {}
  },
  {
   "cell_type": "markdown",
   "source": [
    "  ## Loading R packages\n",
    "\n",
    "  Once the packages have been installed, they do need to be loaded everytime. This will be done with the `library()` function in R and will also be provided for you in this course. Below is an example of loading the packages we just installed, this is a good step here to ensure that the packages have been installed appropriately on your instance of this server."
   ],
   "metadata": {}
  },
  {
   "source": [
    "library(tidyverse)\n",
    "library(ggformula)\n",
    "library(mosaic)\n",
    "library(remotes)\n",
    "library(broom)\n",
    "library(rpart)\n",
    "library(ISLR)\n",
    "library(rpart.plot)\n",
    "library(rsample)\n",
    "library(lubridate)\n",
    "library(AmesHousing)\n",
    "library(corrr)\n",
    "library(titanic)\n"
   ],
   "cell_type": "code",
   "outputs": [],
   "metadata": {},
   "execution_count": 0
  },
  {
   "cell_type": "markdown",
   "source": [
    "  ## Testing Installation\n",
    "\n",
    " If you get errors when you run the code above, this means that something went wrong in the installation of the packages and I recommend getting in touch with the instructor.\n",
    "\n",
    "  Once the packages have been loaded, let's test the installation by creating a plot with R using data that comes with the packages we already loaded. Below is some code to try to run once the R packages above have been successfully loaded."
   ],
   "metadata": {}
  },
  {
   "source": [
    "gf_density(~ wage, data = CPS85)\n"
   ],
   "cell_type": "code",
   "outputs": [],
   "metadata": {},
   "execution_count": 0
  },
  {
   "cell_type": "markdown",
   "source": [
    "\n",
    "  This should create a density plot (more on this type of figure later) that shows the distribution of the wage variable from the CPS85 data. This data comes with the mosaicData package and is data from the 1985 Current Population Survey."
   ],
   "metadata": {}
  },
  {
   "cell_type": "markdown",
   "metadata": {},
   "source": [
    "## Add Markdown text\n",
    "\n",
    "Use these guides to generate the markdown text indicated below:\n",
    "\n",
    "- [Markdown Cheat Sheet](https://www.markdownguide.org/cheat-sheet/)\n",
    "- [Markdown Basic Syntax](https://www.markdownguide.org/basic-syntax/)\n",
    "\n",
    "In the cell below, add the following four elements.\n",
    "\n",
    "1. Add a header\n",
    "2. Add a short list stating a few reasons why you are taking this course\n",
    "3. Make one word bold face font\n",
    "4. Make one word italic face font"
   ]
  },
  {
   "cell_type": "markdown",
   "metadata": {},
   "source": [
    "*Add the four elements of the markdown text by double clicking on this text.*"
   ]
  }
 ],
 "nbformat": 4,
 "nbformat_minor": 2,
 "metadata": {
  "file_extension": ".py",
  "kernelspec": {
   "display_name": "R",
   "language": "R",
   "name": "ir"
  },
  "language_info": {
   "codemirror_mode": "r",
   "file_extension": ".r",
   "mimetype": "text/x-r-source",
   "name": "R",
   "pygments_lexer": "r",
   "version": "4.0.2"
  },
  "mimetype": "text/x-python",
  "name": "python",
  "npconvert_exporter": "python",
  "pygments_lexer": "ipython3",
  "version": 3
 }
}