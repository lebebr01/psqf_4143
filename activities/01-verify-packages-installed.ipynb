{
 "cells": [
  {
   "cell_type": "markdown",
   "metadata": {},
   "source": [
    "  # Verify Installation"
   ]
  },
  {
   "cell_type": "markdown",
   "metadata": {},
   "source": [
    "## Loading R packages\n",
    "\n",
    "Packages that will be used for the course have already been installed for you, but they do need to be loaded everytime you log into the IDAS system. This will be done with the `library()` function in R and will always be provided for you in this course. Below is an example of loading the packages used for the course. The packages in the course will always be loaded in the very first code cell of a notebook and **should be \"run\" everytime you log into the IDAS**."
   ]
  },
  {
   "cell_type": "code",
   "execution_count": null,
   "metadata": {
    "vscode": {
     "languageId": "r"
    }
   },
   "outputs": [],
   "source": [
    "library(tidyverse)\n",
    "library(ggformula)\n",
    "library(mosaic)\n",
    "library(remotes)\n",
    "library(broom)\n",
    "library(rpart)\n",
    "library(ISLR)\n",
    "library(rpart.plot)\n",
    "library(rsample)\n",
    "library(lubridate)\n",
    "library(AmesHousing)\n",
    "library(corrr)\n",
    "library(titanic)"
   ]
  },
  {
   "cell_type": "markdown",
   "metadata": {},
   "source": [
    "## Testing Installation\n",
    "\n",
    "If you get errors when you run the code above, this means that something went wrong in the installation of the packages and I recommend getting in touch with the instructor. **Note:** *when the packages are loaded, a red background shows up with messages. Although this is red, this is the expected behavior.*\n",
    "\n",
    "Once the packages have been loaded, a figure will be created with R using data that comes with the packages we already loaded. Below is some code to try to run once the R packages above have been successfully loaded."
   ]
  },
  {
   "cell_type": "code",
   "execution_count": null,
   "metadata": {
    "vscode": {
     "languageId": "r"
    }
   },
   "outputs": [],
   "source": [
    "gf_density(~ wage, data = CPS85)"
   ]
  },
  {
   "cell_type": "markdown",
   "metadata": {},
   "source": [
    "\n",
    "  This should create a density plot (more on this type of figure later) that shows the distribution of the wage variable from the CPS85 data. This data comes with the mosaicData package and is data from the 1985 Current Population Survey."
   ]
  },
  {
   "cell_type": "markdown",
   "metadata": {},
   "source": [
    "## Add Markdown text\n",
    "\n",
    "Use these guides to generate the markdown text indicated below:\n",
    "\n",
    "- [Markdown Cheat Sheet](https://www.markdownguide.org/cheat-sheet/)\n",
    "- [Markdown Basic Syntax](https://www.markdownguide.org/basic-syntax/)\n",
    "\n",
    "### Your To Do!\n",
    "\n",
    "In the cell below, add the following four elements.\n",
    "\n",
    "1. Add a header\n",
    "2. Add a short list stating a few reasons why you are taking this course\n",
    "3. Make one word bold face font\n",
    "4. Make one word italic face font"
   ]
  },
  {
   "cell_type": "markdown",
   "metadata": {},
   "source": [
    "*Add the four elements of the markdown text by double clicking on this text.*"
   ]
  }
 ],
 "metadata": {
  "file_extension": ".py",
  "kernelspec": {
   "display_name": "R",
   "language": "R",
   "name": "ir"
  },
  "language_info": {
   "codemirror_mode": "r",
   "file_extension": ".r",
   "mimetype": "text/x-r-source",
   "name": "R",
   "pygments_lexer": "r",
   "version": "4.0.2"
  },
  "mimetype": "text/x-python",
  "name": "python",
  "npconvert_exporter": "python",
  "pygments_lexer": "ipython3",
  "version": 3
 },
 "nbformat": 4,
 "nbformat_minor": 2
}
