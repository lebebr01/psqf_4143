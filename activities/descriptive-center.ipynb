{
 "cells": [
  {
   "cell_type": "markdown",
   "metadata": {},
   "source": [
    " ## In Class Activity"
   ]
  },
  {
   "cell_type": "markdown",
   "metadata": {},
   "source": [
    " ## Setup\n",
    "\n",
    " We are going to use some real data about higher education institutions from the college scorecard (https://collegescorecard.ed.gov/) to explore the types of conclusions we can make from the data. The college scorecard releases data on higher education institutions to help make the institutions more transparent and provide a place for parents, students, educators, etc can get information about specific instituations from a third party (i.e. US Department of Education).\n",
    "\n",
    " ### Loading R packages"
   ]
  },
  {
   "cell_type": "code",
   "execution_count": 0,
   "metadata": {},
   "outputs": [],
   "source": [
    ".libPaths('../RPackages')\n",
    "\n",
    "library(tidyverse)\n",
    "library(ggformula)\n",
    "library(mosaic)\n",
    "\n",
    "theme_set(theme_bw())\n",
    "\n",
    "Births2015 <- Births2015 %>%\n",
    "  mutate(weekend = ifelse(wday %in% c('Sun', 'Sat'), 'Weekend', 'Weekday'))\n"
   ]
  },
  {
   "cell_type": "markdown",
   "metadata": {},
   "source": [
    " ## Births data\n",
    "\n",
    " The births data you first saw during the first quiz has information for every day of the year regarding the number of births in the US. This data is for the year 2015 and our primary variable of interest in the number of births and is labeled `births`. Below are the first few rows of the data."
   ]
  },
  {
   "cell_type": "code",
   "execution_count": 0,
   "metadata": {},
   "outputs": [],
   "source": [
    "head(Births2015, n = 10)\n"
   ]
  },
  {
   "cell_type": "markdown",
   "metadata": {},
   "source": [
    " ### Explore `births` variable descriptively.\n",
    "\n",
    " Using the `df_stats()` function, explore the center of the `births` variable descriptively. Fill in the various statistics in place of ^^ below. More than one statistic can be separated with a comma."
   ]
  },
  {
   "cell_type": "code",
   "execution_count": 0,
   "metadata": {},
   "outputs": [],
   "source": [
    "birth_descrip <- Births2015 %>%\n",
    "  df_stats(~ births, ^^)\n",
    "birth_descrip \n"
   ]
  },
  {
   "cell_type": "markdown",
   "metadata": {},
   "source": [
    " Let's visualize these statistics."
   ]
  },
  {
   "cell_type": "code",
   "execution_count": 0,
   "metadata": {},
   "outputs": [],
   "source": [
    "gf_histogram(~ births, data = Births2015, bins = 30, color = 'black') %>%\n",
    "  gf_vline(color = ~ key, xintercept = ~ value, data = gather(birth_descrip), size = 1)\n"
   ]
  },
  {
   "cell_type": "markdown",
   "metadata": {},
   "source": [
    " ### Questions\n",
    " 1. Are these statistics a very good representation of the distribution of births? Why or why not?\n",
    " 2. What may be a better option?\n",
    " 3. Which statistic is smaller than the other? Why is this occurring (i.e. why is one different than the other)?"
   ]
  },
  {
   "cell_type": "markdown",
   "metadata": {},
   "source": [
    " ## Conditional descriptive statistics\n",
    " As we discussed after the first quiz, the days of the week can be informative in the number of births that happen on that particular day. Let's explore conditional statistics by the days of the week. Fill in the variable representing the days of the week in place of \"%%\" and the statisics in place of \"^^\"."
   ]
  },
  {
   "cell_type": "code",
   "execution_count": 0,
   "metadata": {},
   "outputs": [],
   "source": [
    "births_days <- Births2015 %>%\n",
    "  df_stats(births ~ %%, ^^)\n",
    "births_days\n"
   ]
  },
  {
   "cell_type": "markdown",
   "metadata": {},
   "source": [
    " This can also be visualized to see how these statistics vary across the groups."
   ]
  },
  {
   "cell_type": "code",
   "execution_count": 0,
   "metadata": {},
   "outputs": [],
   "source": [
    "gf_histogram(~ births, data = Births2015, bins = 30, color = 'black') %>%\n",
    "  gf_vline(color = ~ key, xintercept = ~ value, data = gather(births_days, 'key', 'value', 2:3), size = 1) %>%\n",
    "  gf_facet_wrap(~ wday)\n"
   ]
  },
  {
   "cell_type": "markdown",
   "metadata": {},
   "source": [
    " ### Questions\n",
    " 1. Are these conditional statistics a very good representation of the distribution of births? Why or why not?\n",
    " 2. Are there days of the week that have means and medians that are very different from one another?\n",
    "\n",
    " ### Bonus Question\n",
    " 1. Do we need to split the distribution of births by the every day of the week? Would just splitting by weekend vs weekday be sufficient? Using the code structure from above, compute conditional statistics by the variable `weekend` to see if the conditional distributions differ compared to the `wday` variable used above.\n",
    " 2. Which level of complexity is most warranted/justified here?"
   ]
  }
 ],
 "metadata": {
  "file_extension": ".py",
  "kernelspec": {
   "display_name": "Python 3",
   "language": "python",
   "name": "python3"
  },
  "language_info": {
   "codemirror_mode": {
    "name": "ipython",
    "version": 3
   },
   "file_extension": ".py",
   "mimetype": "text/x-python",
   "name": "python",
   "nbconvert_exporter": "python",
   "pygments_lexer": "ipython3",
   "version": "3.7.3"
  },
  "mimetype": "text/x-python",
  "name": "python",
  "npconvert_exporter": "python",
  "pygments_lexer": "ipython3",
  "version": 3
 },
 "nbformat": 4,
 "nbformat_minor": 2
}
