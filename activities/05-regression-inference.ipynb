{
 "cells": [
  {
   "cell_type": "markdown",
   "metadata": {},
   "source": [
    "# Linear Regression Activity\n",
    "\n",
    "## Loading R packages\n",
    "\n",
    "Once the packages have been installed, they do need to be loaded everytime. This will be done with the `library()` function in R and will also be provided for you in this course. Below is an example of loading the packages we just installed, this is a good step here to ensure that the packages have been installed appropriately on your instance of this server.\n",
    "\n",
    "You will be asked to complete a few specific questions via an ICON survey as part of the complete/incomplete portion of the activities. First, please complete the analysis below as you will be asked to upload this document for proof of completion in addition to answering the specific questions on ICON. \n",
    "\n",
    "This activity is due **Monday, December 5th** by 11:59 pm."
   ]
  },
  {
   "cell_type": "markdown",
   "metadata": {},
   "source": [
    "   ## Description of the Data\n",
    "\n",
    "  The data contain 365 observations showing the number of births that happened on every day of 2015. The data have the following 10 variables.\n",
    "\n",
    " + date: Date\n",
    " + births: Number of births on date (integer)\n",
    " + wday: Day of week (ordered factor)\n",
    " + year: Year (integer)\n",
    " + month: Month (integer)\n",
    " + day_of_year: Day of year (integer)\n",
    " + day_of_month: Day of month (integer)\n",
    " + day_of_week: Day of week (integer)\n",
    " + weekend: Dichotomous attribute if the day was a weekend or weekday.\n",
    " + weekend_numeric: Dichotomous attribute; 1 = weekend, 0 = weekday.\n",
    "\n",
    " **Remember:** Every time you come back to work on this Activity, you will need to reload the very first code chunk. If you do not, you will get errors. "
   ]
  },
  {
   "cell_type": "code",
   "execution_count": null,
   "metadata": {
    "vscode": {
     "languageId": "r"
    }
   },
   "outputs": [],
   "source": [
    "library(tidyverse)\n",
    "library(ggformula)\n",
    "library(mosaic)\n",
    "\n",
    "theme_set(theme_bw(base_size = 16))\n",
    "\n",
    "Births2015 <- Births2015 %>% \n",
    "  mutate(weekend = ifelse(wday %in% c('Sun', 'Sat'), \"Weekend\", \"Weekday\"),\n",
    "                 weekend_numeric = ifelse(wday %in% c('Sun', 'Sat'), 1, 0))\n",
    "\n",
    "head(Births2015)\n"
   ]
  },
  {
   "cell_type": "markdown",
   "metadata": {},
   "source": [
    "## Linear Regression\n",
    "\n",
    "1. Explore a linear regression that predicts the number of births with the attribute weekend. Adjust the equation below to add the `births` attribute as the outcome in place of \"!!\" and the `weekend` attribute as the sole predictor in place of \"@@\"."
   ]
  },
  {
   "cell_type": "code",
   "execution_count": null,
   "metadata": {
    "vscode": {
     "languageId": "r"
    }
   },
   "outputs": [],
   "source": [
    "births_reg <- lm(!! ~ @@, data = Births2015)\n",
    "coef(births_reg)\n"
   ]
  },
  {
   "cell_type": "markdown",
   "metadata": {},
   "source": [
    "2. Below we are going to estimate common values for the slope coefficient through resampling/bootstrapping. Inside the `resample_births` function below, fill in the appropriate model for the linear model line of code (make sure this matches from your equation from question 1 above). Adjust the equation below to add the `births` attribute as the outcome in place of \"!!\" and the `weekend` attribute as the sole predictor in place of \"@@\"."
   ]
  },
  {
   "cell_type": "code",
   "execution_count": null,
   "metadata": {
    "vscode": {
     "languageId": "r"
    }
   },
   "outputs": [],
   "source": [
    "resample_births <- function(...) {\n",
    "  births_resample <- Births2015 %>%\n",
    "    sample_n(nrow(Births2015), replace = TRUE)\n",
    "\n",
    "  births_resample %>%\n",
    "    lm(!! ~ @@, data = .) %>%\n",
    "    coef(.) %>%\n",
    "    .[2] %>%\n",
    "    data.frame()\n",
    "}\n",
    "\n",
    "resample_births()\n"
   ]
  },
  {
   "cell_type": "markdown",
   "metadata": {},
   "source": [
    "3. Below is code to run the bootstrap 5,000 times and visualize a density curve of the bootstrapped results. \n",
    "\n",
    "*Note: This could take a few minutes to run*. You should received a density curve when the data is finished. "
   ]
  },
  {
   "cell_type": "code",
   "execution_count": null,
   "metadata": {
    "vscode": {
     "languageId": "r"
    }
   },
   "outputs": [],
   "source": [
    "set.seed(1)\n",
    "\n",
    "births_coef <- map_dfr(1:5000, resample_births)\n",
    "names(births_coef) <- 'slope'\n",
    "\n",
    "gf_density(~ slope, data = births_coef)"
   ]
  },
  {
   "cell_type": "markdown",
   "metadata": {},
   "source": [
    "4. Summary statistics are computed below including the mean, standard deviation, 5th percentile, median (50th percentile), and the 95th percentile. What do these tell about typical values in the distribution and relate to whether the data support the hypothesis articulated above?"
   ]
  },
  {
   "cell_type": "code",
   "execution_count": null,
   "metadata": {
    "vscode": {
     "languageId": "r"
    }
   },
   "outputs": [],
   "source": [
    "births_coef %>%\n",
    "  df_stats(~ slope, mean, sd, quantile(c(0.05, 0.5, 0.95)))\n"
   ]
  }
 ],
 "metadata": {
  "file_extension": ".py",
  "kernelspec": {
   "display_name": "R",
   "language": "R",
   "name": "ir"
  },
  "language_info": {
   "codemirror_mode": "r",
   "file_extension": ".r",
   "mimetype": "text/x-r-source",
   "name": "R",
   "pygments_lexer": "r",
   "version": "4.1.1"
  },
  "mimetype": "text/x-python",
  "name": "python",
  "npconvert_exporter": "python",
  "pygments_lexer": "ipython3",
  "version": 3
 },
 "nbformat": 4,
 "nbformat_minor": 2
}
