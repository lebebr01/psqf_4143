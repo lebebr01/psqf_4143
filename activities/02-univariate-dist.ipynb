{
 "cells": [
  {
   "cell_type": "markdown",
   "source": [
    "  # Activity 2 - Explore Univariate Distributions"
   ],
   "metadata": {}
  },
  {
   "cell_type": "markdown",
   "source": [
    "  ## Loading R packages\n",
    "\n",
    "  Once the packages have been installed, they do need to be loaded everytime. This will be done with the `library()` function in R and will also be provided for you in this course. Below is an example of loading the packages we just installed, this is a good step here to ensure that the packages have been installed appropriately on your instance of this server.\n",
    "\n",
    "  You will be asked to complete a few specific questions via an ICON survey as part of the pass/fail portion of the activities. First, please complete the analysis below as you will be asked to upload this document for proof of completion in addition to answering the specific questions on ICON. \n",
    "\n",
    "  **Remember:** Every time you come back to work on this Activity, you will need to reload the very first code chunk. If you do not, you will get errors. "
   ],
   "metadata": {}
  },
  {
   "cell_type": "code",
   "execution_count": null,
   "source": [
    "library(tidyverse)\n",
    "library(ggformula)\n",
    "\n",
    "theme_set(theme_bw(base_size = 16))\n",
    "\n",
    "life_expectancy <- read_csv(\"https://raw.githubusercontent.com/lebebr01/statthink/master/data-raw/life_expectancy.csv\") %>%\n",
    "   select(Country, Year, Status, Life_expec)\n",
    "   \n",
    "head(life_expectancy)"
   ],
   "outputs": [],
   "metadata": {}
  },
  {
   "cell_type": "markdown",
   "source": [
    "### Table of attribute names with short description\n",
    "\n",
    "| Attribute | Description | \n",
    "|:----------|:------------|\n",
    "| Country   | Name of Country | \n",
    "| Year      | Year observed |\n",
    "| Status    | Either a Developed or Developing Country | \n",
    "| Life_expec | The average life expectancy of the country (in years) |\n"
   ],
   "metadata": {}
  },
  {
   "cell_type": "markdown",
   "source": [
    "  ## Exploring Life Expectancy of Countries\n",
    "\n",
    " The following code will explore the distribution of the life expectancy of a country. *Using the attribute names above when looking at the first few rows of the data, fill in the life expectancy attribute name in place of \"@@\" below and fill in an appropriate text label for the x-axis in place of \"%%\". *"
   ],
   "metadata": {}
  },
  {
   "cell_type": "code",
   "execution_count": null,
   "source": [
    "gf_histogram(~@@, data = life_expectancy, bins = 30, color = 'black') %>%\n",
    "  gf_labs(x = \"%%\")\n"
   ],
   "outputs": [],
   "metadata": {}
  },
  {
   "cell_type": "code",
   "execution_count": null,
   "source": [
    "gf_density(~@@, data = life_expectancy, color = 'black') %>%\n",
    "  gf_labs(x = \"%%\")\n"
   ],
   "outputs": [],
   "metadata": {}
  },
  {
   "cell_type": "markdown",
   "source": [
    "\n",
    " **Question 1**\n",
    "\n",
    " Given the histrogram and density figures above, what are the key features of the distribution? More specifically, what can be said about the center, variability, shape, or extreme values in the distribution depicted above? Think about these questions here, you will be asked specific questions about this via the ICON survey. "
   ],
   "metadata": {}
  },
  {
   "cell_type": "markdown",
   "source": [
    " ## Impact of bins\n",
    "\n",
    " **Question 2**\n",
    " The following code sets the binwidth to 1. *Using the attribute names above when looking at the first few rows of the data, fill in the life expectancy attribute name in place of \"@@\" below and fill in an appropriate text label for the x-axis in place of \"%%\".*"
   ],
   "metadata": {}
  },
  {
   "cell_type": "code",
   "execution_count": null,
   "source": [
    "gf_histogram(~@@, data = life_expectancy, binwidth = 1, color = 'black') %>%\n",
    "  gf_labs(x = \"%%\")\n"
   ],
   "outputs": [],
   "metadata": {}
  },
  {
   "cell_type": "markdown",
   "source": [
    " **Q 2.a**\n",
    " What is the specific interpretation of the binwidth in this example? That is, what does the binwidth of 1 mean with respect to the life expectancy attribute?"
   ],
   "metadata": {}
  },
  {
   "cell_type": "markdown",
   "source": [
    "\n",
    " **Question 3**\n",
    "\n",
    " The following density figure depicts the life expectancy by the countries status (developing country vs developed country) rather than as a single distribution.\n",
    "\n",
    "*Using the attribute names above when looking at the first few rows of the data, fill in the life expectancy attribute name in place of \"@@\" below and fill in an appropriate text label for the x-axis in place of \"%%\".*\n",
    "\n",
    " In a few sentences, summarise key differences between developing and developed countries.\n",
    "\n",
    " *Note, we have not explicitly covered this idea of multivariate distributions, but this is coming very soon. This question is exploring your intuition, please do your best to spot differences in the distribution. *"
   ],
   "metadata": {}
  },
  {
   "cell_type": "code",
   "execution_count": null,
   "source": [
    "gf_density(~@@, data = life_expectancy, \n",
    "                         color = ~factor(Status), fill = ~factor(Status)) %>%\n",
    "   gf_labs(x = \"%%\", color = 'Status', fill = 'Status')\n"
   ],
   "outputs": [],
   "metadata": {}
  }
 ],
 "nbformat": 4,
 "nbformat_minor": 2,
 "metadata": {
  "file_extension": ".py",
  "kernelspec": {
   "display_name": "R",
   "language": "R",
   "name": "ir"
  },
  "language_info": {
   "name": "R",
   "codemirror_mode": "r",
   "pygments_lexer": "r",
   "mimetype": "text/x-r-source",
   "file_extension": ".r",
   "version": "4.1.0"
  },
  "mimetype": "text/x-python",
  "name": "python",
  "npconvert_exporter": "python",
  "pygments_lexer": "ipython3",
  "version": 3
 }
}