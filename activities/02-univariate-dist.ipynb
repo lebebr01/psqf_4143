{
 "cells": [
  {
   "cell_type": "markdown",
   "metadata": {},
   "source": [
    "  # Activity 2 - Explore Univariate Distributions"
   ]
  },
  {
   "cell_type": "markdown",
   "metadata": {},
   "source": [
    "  ## Loading R packages\n",
    "\n",
    "  Once the packages have been installed, they do need to be loaded everytime. This will be done with the `library()` function in R and will also be provided for you in this course. Below is an example of loading the packages we just installed, this is a good step here to ensure that the packages have been installed appropriately on your instance of this server."
   ]
  },
  {
   "cell_type": "code",
   "execution_count": null,
   "metadata": {},
   "outputs": [],
   "source": [
    "library(tidyverse)\n",
    "library(ggformula)\n",
    "\n",
    "theme_set(theme_bw(base_size = 16))\n",
    "\n",
    "life_expectancy <- read_csv(\"https://raw.githubusercontent.com/lebebr01/statthink/master/data-raw/life_expectancy.csv\")\n",
    "head(life_expectancy)\n"
   ]
  },
  {
   "cell_type": "markdown",
   "metadata": {},
   "source": [
    "  ## Exploring Life Expectancy of Countries\n",
    "\n",
    " The following code will explore the distribution of the life expectancy of a country. *Using the attribute names above when looking at the first few rows of the data, fill in the life expectancy attribute name in place of \"@@\" below and fill in an appropriate text label for the x-axis in place of \"%%\". *"
   ]
  },
  {
   "cell_type": "code",
   "execution_count": null,
   "metadata": {},
   "outputs": [],
   "source": [
    "gf_histogram(~@@, data = life_expectancy, bins = 30, color = 'black') %>%\n",
    "  gf_labs(x = \"%%\")\n"
   ]
  },
  {
   "cell_type": "markdown",
   "metadata": {},
   "source": [
    "\n",
    " **Question 1**\n",
    "\n",
    " Given the figure above, what are the key features of the distribution? More specifically, what can be said about the center, variability, shape, or extreme values in the distribution depicted above?"
   ]
  },
  {
   "cell_type": "markdown",
   "metadata": {},
   "source": [
    " *Double click this cell to add your text to answer Question 1*"
   ]
  },
  {
   "cell_type": "markdown",
   "metadata": {},
   "source": [
    " ## Impact of bins\n",
    "\n",
    " **Question 2**\n",
    " The following code sets the binwidth to 1. *Using the attribute names above when looking at the first few rows of the data, fill in the life expectancy attribute name in place of \"@@\" below and fill in an appropriate text label for the x-axis in place of \"%%\".*"
   ]
  },
  {
   "cell_type": "code",
   "execution_count": null,
   "metadata": {},
   "outputs": [],
   "source": [
    "gf_histogram(~@@, data = life_expectancy, binwidth = 1, color = 'black') %>%\n",
    "  gf_labs(x = \"%%\")\n"
   ]
  },
  {
   "cell_type": "markdown",
   "metadata": {},
   "source": [
    " **Q 2.a**\n",
    " What is the specific interpretation of the binwidth in this example? That is, what does the binwidth of 1 mean with respect to the life expectancy attribute?"
   ]
  },
  {
   "cell_type": "markdown",
   "metadata": {},
   "source": [
    " *Double click this cell to add your text to answer Question 2a*"
   ]
  },
  {
   "cell_type": "markdown",
   "metadata": {},
   "source": [
    " **Q 2.b**\n",
    " Change the bins or binwidth arguments in the code chunks below. What number of bins or size of binwidth do you feel results in the best representation of the distribution of life expectancy? Why do you feel this is the best, be as specific in your defense as possible, noting specific features of the distribution that seem to be most notable or informative.\n",
    "\n",
    " *Using the attribute names above when looking at the first few rows of the data, fill in the life expectancy attribute name in place of \"@@\" below and fill in an appropriate text label for the x-axis in place of \"%%\". Also, fill in a number for the number of bins or binwidth size in place of \"$$\".*\n",
    "\n",
    " Note, in your final submission, please include the final figure that coincides with your answer. That is, include the figure that coincides with what you think are optimal number of bins or binwidth. You can choose whether the selection of bins or binwidth is most appropriate for this problem.\n"
   ]
  },
  {
   "cell_type": "code",
   "execution_count": null,
   "metadata": {},
   "outputs": [],
   "source": [
    "gf_histogram(~@@, data = life_expectancy, bins = $$, color = 'black') %>%\n",
    "  gf_labs(x = \"%%\")\n"
   ]
  },
  {
   "cell_type": "code",
   "execution_count": null,
   "metadata": {},
   "outputs": [],
   "source": [
    "gf_histogram(~@@, data = life_expectancy, binwidth = $$, color = 'black') %>%\n",
    "  gf_labs(x = \"%%\")"
   ]
  },
  {
   "cell_type": "markdown",
   "metadata": {},
   "source": [
    " *Double click this cell to add your text to answer Question 2b*"
   ]
  },
  {
   "cell_type": "markdown",
   "metadata": {},
   "source": [
    "\n",
    " **Question 3**\n",
    " The following is a density curve for the life expectancy distribution. Does this visualization offer any different perspectives or insights compared to the histogram?\n",
    "\n",
    " *Using the attribute names above when looking at the first few rows of the data, fill in the life expectancy attribute name in place of \"@@\" below and fill in an appropriate text label for the x-axis in place of \"%%\".*"
   ]
  },
  {
   "cell_type": "code",
   "execution_count": null,
   "metadata": {},
   "outputs": [],
   "source": [
    "gf_density(~@@, data = life_expectancy, color = 'black') %>%\n",
    "  gf_labs(x = \"%%\")\n"
   ]
  },
  {
   "cell_type": "markdown",
   "metadata": {},
   "source": [
    " *Double click this cell to add your text to answer Question 3*"
   ]
  },
  {
   "cell_type": "markdown",
   "metadata": {},
   "source": [
    "\n",
    " **Question 4**\n",
    "\n",
    " The following density figure depicts the life expectancy by the countries status (developing country vs developed country) rather than as a single distribution.\n",
    "\n",
    "*Using the attribute names above when looking at the first few rows of the data, fill in the life expectancy attribute name in place of \"@@\" below and fill in an appropriate text label for the x-axis in place of \"%%\".*\n",
    "\n",
    " In a few sentences, summarise key differences between developing and developed countries.\n",
    "\n",
    " *Note, we have not explicitly covered this idea of multivariate distributions, but this is coming very soon. This question is exploring your intuition, please do your best to spot differences in the distribution. *"
   ]
  },
  {
   "cell_type": "code",
   "execution_count": null,
   "metadata": {},
   "outputs": [],
   "source": [
    "gf_density(~@@, data = life_expectancy, \n",
    "                         color = ~factor(Status), fill = ~factor(Status)) %>%\n",
    "   gf_labs(x = \"%%\", color = 'Status', fill = 'Status')\n"
   ]
  },
  {
   "cell_type": "markdown",
   "metadata": {},
   "source": [
    " *Double click this cell to add your text to answer Question 4*"
   ]
  }
 ],
 "nbformat": 4,
 "nbformat_minor": 2,
 "metadata": {
  "file_extension": ".py",
  "kernelspec": {
   "display_name": "R",
   "language": "R",
   "name": "ir"
  },
  "language_info": {
   "codemirror_mode": "r",
   "file_extension": ".r",
   "mimetype": "text/x-r-source",
   "name": "R",
   "pygments_lexer": "r",
   "version": "4.0.2"
  },
  "mimetype": "text/x-python",
  "name": "python",
  "npconvert_exporter": "python",
  "pygments_lexer": "ipython3",
  "version": 3
 }
}