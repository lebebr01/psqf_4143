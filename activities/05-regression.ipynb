{
 "cells": [
  {
   "attachments": {},
   "cell_type": "markdown",
   "metadata": {},
   "source": [
    "## Activity 5 - Linear Regression\n",
    "\n",
    "**Due** on *Monday, November 13th* by 11:59 pm\n",
    "\n",
    "You will be asked to complete a short survey on ICON that asks questions about the output generated below. Furthermore, there are additional questions to consider sprinkled throughout the notebook below, these do not need to be explicitly answered, but can provide a bit of a guide to thinking and interpreting the following statistical output. \n",
    "\n",
    "## Setup\n",
    "\n",
    "This first code cell needs to be executed (\"Run\") everytime this notebook is opened. For example, if you stop working on this activity and come back to the activity, this first code cell will need to be executed again to load the data, even though output may still show up from the prior time you worked on the activity. \n",
    "\n",
    "The data for this activity comes from the [Tidy Tuesday](https://github.com/rfordatascience/tidytuesday) project. The data contain 19,405 rows and 28 columns about tornados from around the United States between 2007 and 2022. A data description for each column in the data is shown below ([see the Tidy Tuesday page for more information](https://github.com/rfordatascience/tidytuesday/tree/master/data/2022/2022-08-09))\n",
    "\n",
    "|variable     |class     |description  |\n",
    "|:------------|:---------|:------------|\n",
    "|om           |integer   |Tornado number. Effectively an ID for this tornado in this year.|\n",
    "|yr           |integer   |Year, 1950-2022. |\n",
    "|mo           |integer   |Month, 1-12.|\n",
    "|dy           |integer   |Day of the month, 1-31. |\n",
    "|date         |date      |Date. |\n",
    "|time         |time      |Time. |\n",
    "|tz           |character |[Canonical tz database timezone](https://en.wikipedia.org/wiki/List_of_tz_database_time_zones).|\n",
    "|datetime_utc |datetime  |Date and time normalized to UTC. |\n",
    "|st           |character |Two-letter postal abbreviation for the state (DC = Washington, DC; PR = Puerto Rico; VI = Virgin Islands). |\n",
    "|stf          |integer   |State FIPS (Federal Information Processing Standards) number. |\n",
    "|mag          |integer   |Magnitude on the F scale (EF beginning in 2007). Some of these values are estimated (see fc). |\n",
    "|inj          |integer   |Number of injuries. When summing for state totals, use sn == 1 (see below). |\n",
    "|fat          |integer   |Number of fatalities. When summing for state totals, use sn == 1 (see below). |\n",
    "|loss         |double    |Estimated property loss information in dollars. Prior to 1996, values were grouped into ranges. The reported number for such years is the maximum of its range. |\n",
    "|slat         |double    |Starting latitude in decimal degrees. |\n",
    "|slon         |double    |Starting longitude in decimal degrees. |\n",
    "|elat         |double    |Ending latitude in decimal degrees. |\n",
    "|elon         |double    |Ending longitude in decimal degrees. |\n",
    "|len          |double    |Length in miles. |\n",
    "|wid          |double    |Width in yards. |\n",
    "|ns           |integer   |Number of states affected by this tornado. 1, 2, or 3. |\n",
    "|sn           |integer   |State number for this row. 1 means the row contains the entire track information for this state, 0 means there is at least one more entry for this state for this tornado (om + yr). |\n",
    "|f1           |integer   |FIPS code for the 1st county. |\n",
    "|f2           |integer   |FIPS code for the 2nd county. |\n",
    "|f3           |integer   |FIPS code for the 3rd county. |\n",
    "|f4           |integer   |FIPS code for the 4th county. |\n",
    "|fc           |logical   |Was the mag column estimated? |\n",
    "|log_loss.    |double.   |The log of the loss attribute |\n",
    "\n",
    "### Guiding question for the activity\n",
    "1. How accurately can a regression tree model predict the number of Calories in the drink using other features of the drink?"
   ]
  },
  {
   "cell_type": "code",
   "execution_count": null,
   "metadata": {
    "vscode": {
     "languageId": "r"
    }
   },
   "outputs": [],
   "source": [
    "library(tidyverse)\n",
    "library(ggformula)\n",
    "library(mosaic)\n",
    "library(rpart)\n",
    "library(rpart.plot)\n",
    "library(rsample)\n",
    "\n",
    "theme_set(theme_bw(base_size = 18))\n",
    "\n",
    "tornado <- readr::read_csv('https://raw.githubusercontent.com/lebebr01/psqf_6243/main/data/tornados.csv')\n",
    "\n",
    "head(tornado)"
   ]
  },
  {
   "cell_type": "markdown",
   "metadata": {},
   "source": [
    "## Question 1\n",
    "\n",
    "Explore the log loss (i.e., `log_loss`) in the tornado data.\n",
    "\n",
    "Fill in the primary attribute of interest (i.e, `log_loss`) in place of \"^^\". Also, fill in appropriate attribute names and plot title in place of \"%%\"."
   ]
  },
  {
   "cell_type": "code",
   "execution_count": null,
   "metadata": {
    "vscode": {
     "languageId": "r"
    }
   },
   "outputs": [],
   "source": [
    "gf_density(~ ^^, data = tornado) |>\n",
    "  gf_labs(x = '%%',\n",
    "          y = '%%',\n",
    "          title = '%%')"
   ]
  },
  {
   "cell_type": "markdown",
   "metadata": {},
   "source": [
    "Also explore the distribution of the loss attribute (i.e., `loss`) in the tornado data.\n",
    "\n",
    "Fill in the primary attribute of interest (i.e, `loss`) in place of \"^^\". Also, fill in appropriate attribute names and plot title in place of \"%%\"."
   ]
  },
  {
   "cell_type": "code",
   "execution_count": null,
   "metadata": {
    "vscode": {
     "languageId": "r"
    }
   },
   "outputs": [],
   "source": [
    "gf_density(~ ^^, data = tornado) |>\n",
    "  gf_labs(x = '%%',\n",
    "          y = '%%',\n",
    "          title = '%%')"
   ]
  },
  {
   "cell_type": "markdown",
   "metadata": {},
   "source": [
    "### Questions to think about\n",
    "\n",
    "1. What is the shape, center, and variation for each figure? \n",
    "2. Identify some key differences when comparing the log loss attribute to the loss attribute."
   ]
  },
  {
   "cell_type": "markdown",
   "metadata": {},
   "source": [
    "## Question 2\n",
    "\n",
    "Interpret the correlations found between log loss, length, and width of the tornados. \n",
    "\n",
    "Note, the code below returns a correlation matrix that will have 1's on the diagonal of the matrix (these can be ignored). The correlations are represented on the off diagonal elements by comparing the row to column type. For example, the correlation reported for the row, log_loss and the column, width, would represent the correlation between log loss and width. "
   ]
  },
  {
   "cell_type": "code",
   "execution_count": null,
   "metadata": {
    "vscode": {
     "languageId": "r"
    }
   },
   "outputs": [],
   "source": [
    "tornado |>\n",
    "  select(log_loss, len, wid) |>\n",
    "  cor(use = 'pairwise.complete.obs') |> \n",
    "  round(3)"
   ]
  },
  {
   "cell_type": "markdown",
   "metadata": {},
   "source": [
    "### Questions to consider\n",
    "\n",
    "1. Interpret the 3 unique correlations between log loss, length, and width. \n",
    "2. Which attribute would help predict the log loss of a tornado given the correlation values? "
   ]
  },
  {
   "cell_type": "markdown",
   "metadata": {},
   "source": [
    "## Question 3\n",
    "\n",
    "Fit a regression tree to predict the log loss of a tornado using the length of the tornado (i.e., `len`). **Note:** you can use any attribute as a predictor except the name and the calories. \n",
    "\n",
    "Place the outcome (ie., `log_loss`) in place of the \"^^\" and place the length of the tornado (`len`) in place of \"@@\"."
   ]
  },
  {
   "cell_type": "code",
   "execution_count": null,
   "metadata": {
    "vscode": {
     "languageId": "r"
    }
   },
   "outputs": [],
   "source": [
    "tornado_mod <- lm(^^ ~ @@, data = tornado)\n",
    "\n",
    "coef(tornado_mod) |> round(3)"
   ]
  },
  {
   "cell_type": "markdown",
   "metadata": {},
   "source": [
    "### Questions to consider\n",
    "\n",
    "1. What is the best interpretation for the term \"Intercept\"?\n",
    "2. What is the best interpretation for the slope term, \"len\"?"
   ]
  }
 ],
 "metadata": {
  "kernelspec": {
   "display_name": "R",
   "language": "R",
   "name": "ir"
  },
  "language_info": {
   "codemirror_mode": "r",
   "file_extension": ".r",
   "mimetype": "text/x-r-source",
   "name": "R",
   "pygments_lexer": "r",
   "version": "4.3.0"
  },
  "orig_nbformat": 4
 },
 "nbformat": 4,
 "nbformat_minor": 2
}
