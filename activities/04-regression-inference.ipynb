{
 "cells": [
  {
   "cell_type": "markdown",
   "metadata": {},
   "source": [
    "   ## Linear Regression - In Class Activity\n"
   ]
  },
  {
   "cell_type": "markdown",
   "metadata": {},
   "source": [
    "   ## Description of the Data\n",
    "\n",
    "  The data contain 365 observations showing the number of births that happened on every day of 2015. The data have the following 10 variables.\n",
    "\n",
    " + date: Date\n",
    " + births: Number of births on date (integer)\n",
    " + wday: Day of week (ordered factor)\n",
    " + year: Year (integer)\n",
    " + month: Month (integer)\n",
    " + day_of_year: Day of year (integer)\n",
    " + day_of_month: Day of month (integer)\n",
    " + day_of_week: Day of week (integer)\n",
    " + weekend: Dichotomous attribute if the day was a weekend or weekday.\n",
    " + weekend_numeric: Dichotomous attribute; 1 = weekend, 0 = weekday."
   ]
  },
  {
   "cell_type": "code",
   "execution_count": null,
   "metadata": {},
   "outputs": [],
   "source": [
    "library(tidyverse)\n",
    "library(ggformula)\n",
    "library(mosaic)\n",
    "\n",
    "theme_set(theme_bw(base_size = 16))\n",
    "\n",
    "Births2015 <- Births2015 %>% \n",
    "  mutate(weekend = ifelse(wday %in% c('Sun', 'Sat'), \"Weekend\", \"Weekday\"),\n",
    "                 weekend_numeric = ifelse(wday %in% c('Sun', 'Sat'), 1, 0))\n",
    "\n",
    "head(Births2015)\n"
   ]
  },
  {
   "cell_type": "markdown",
   "metadata": {},
   "source": [
    "  ## Linear Regression\n",
    "  1. In a similar idea as #1, hypothesize if there may be a difference in the number of births when comparing weekdays vs weekends."
   ]
  },
  {
   "cell_type": "markdown",
   "metadata": {},
   "source": [
    "   *Double click this cell to add your text to answer the questions above*"
   ]
  },
  {
   "cell_type": "markdown",
   "metadata": {},
   "source": [
    "  2. Explore a linear regression that predicts the number of births with the attribute weekend. Adjust the equation below to add the `births` attribute as the outcome in place of \"!!\" and the `weekend` attribute as the sole predictor in place of \"@@\"."
   ]
  },
  {
   "cell_type": "code",
   "execution_count": null,
   "metadata": {},
   "outputs": [],
   "source": [
    "births_reg <- lm(!! ~ @@, data = Births2015)\n",
    "coef(births_reg)\n"
   ]
  },
  {
   "cell_type": "markdown",
   "metadata": {},
   "source": [
    "  3. Spend a minute to interpret the estimated coefficients (i.e. what does the intercept and slope mean?)."
   ]
  },
  {
   "cell_type": "markdown",
   "metadata": {},
   "source": [
    "   *Double click this cell to add your text to answer the questions above*"
   ]
  },
  {
   "cell_type": "markdown",
   "metadata": {},
   "source": [
    "  4. Based on your thoughts to 1 and 2 above, does the model/slope estimate support your prior thoughts about if the number of births helps differs by different days of the week?\n",
    "  5. Below we are going to estimate common values for the slope coefficient through resampling/bootstrapping. Inside the `resample_births` function below, fill in the appropriate model for the linear model line of code (make sure this matches from your equation from question 3 above). Is the slope estimate from running the resample code below once the same as the estimate above? Why is the linear slope estimate the same or different?"
   ]
  },
  {
   "cell_type": "code",
   "execution_count": null,
   "metadata": {},
   "outputs": [],
   "source": [
    "resample_births <- function(...) {\n",
    "  births_resample <- Births2015 %>%\n",
    "    sample_n(nrow(Births2015), replace = TRUE)\n",
    "\n",
    "  births_resample %>%\n",
    "    lm(!! ~ @@, data = .) %>%\n",
    "    coef(.) %>%\n",
    "    .[2] %>%\n",
    "    data.frame()\n",
    "}\n",
    "\n",
    "resample_births()\n"
   ]
  },
  {
   "cell_type": "markdown",
   "metadata": {},
   "source": [
    "   *Double click this cell to add your text to answer the questions above*"
   ]
  },
  {
   "cell_type": "markdown",
   "metadata": {},
   "source": [
    "  6. Below is code to run the bootstrap 5,000 times and visualize a density curve of the bootstrapped results. Summarize the distribution of slopes in a few sentences noting key features of the distribution."
   ]
  },
  {
   "cell_type": "code",
   "execution_count": null,
   "metadata": {},
   "outputs": [],
   "source": [
    "births_coef <- map_dfr(1:5000, resample_births)\n",
    "names(births_coef) <- 'slope'\n",
    "\n",
    "gf_density(~ slope, data = births_coef)"
   ]
  },
  {
   "cell_type": "markdown",
   "metadata": {},
   "source": [
    "   *Double click this cell to add your text to answer the questions above*"
   ]
  },
  {
   "cell_type": "markdown",
   "metadata": {},
   "source": [
    "  7. Based on the figure above, does this support your hypothesis from question 2 above? More specifically, what appears to be values for the slope that occur frequently? Do these values include your hypothesized value or support your hypothesized direction?\n",
    "  8. Summary statistics are computed below including the mean, standard deviation, 5th percentile, median (50th percentile), and the 95th percentile. What do these tell about typical values in the distribution and relate to whether the data support the hypothesis articulated above?"
   ]
  },
  {
   "cell_type": "code",
   "execution_count": null,
   "metadata": {},
   "outputs": [],
   "source": [
    "births_coef %>%\n",
    "  df_stats(~ slope, mean, sd, quantile(c(0.05, 0.5, 0.95)))\n"
   ]
  },
  {
   "cell_type": "markdown",
   "metadata": {},
   "source": [
    "   *Double click this cell to add your text to answer the questions above*"
   ]
  }
 ],
 "nbformat": 4,
 "nbformat_minor": 2,
 "metadata": {
  "file_extension": ".py",
  "kernelspec": {
   "display_name": "R",
   "language": "R",
   "name": "ir"
  },
  "language_info": {
   "codemirror_mode": "r",
   "file_extension": ".r",
   "mimetype": "text/x-r-source",
   "name": "R",
   "pygments_lexer": "r",
   "version": "4.0.2"
  },
  "mimetype": "text/x-python",
  "name": "python",
  "npconvert_exporter": "python",
  "pygments_lexer": "ipython3",
  "version": 3
 }
}