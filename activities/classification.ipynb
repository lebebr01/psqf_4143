{
 "cells": [
  {
   "cell_type": "markdown",
   "metadata": {},
   "source": [
    " ## In Class Activity - classification"
   ]
  },
  {
   "cell_type": "markdown",
   "metadata": {},
   "source": [
    " ## Setup"
   ]
  },
  {
   "cell_type": "code",
   "execution_count": 0,
   "metadata": {},
   "outputs": [],
   "source": [
    ".libPaths('../RPackages')\n",
    "\n",
    "library(tidyverse)\n",
    "library(ggformula)\n",
    "library(mosaic)\n",
    "library(titanic)\n",
    "library(rpart)\n",
    "library(rsample)\n",
    "library(rpart.plot)\n",
    "\n",
    "theme_set(theme_bw(base_size = 14))\n",
    "\n",
    "gss_cat_mod <- gss_cat %>%\n",
    "  drop_na() %>% \n",
    "  mutate(tv_cat = ifelse(tvhours <= 2, 'Less than 2', 'More than 2'),\n",
    "         tv_cat = fct_relevel(tv_cat, 'Less than 2', 'More than 2'),\n",
    "         partyid2 = fct_collapse(partyid,\n",
    "                                 other = c(\"No answer\", \"Don't know\", \"Other party\"),\n",
    "                                 republican = c(\"Strong republican\", \"Not str republican\"),\n",
    "                                 independent = c(\"Ind,near rep\", \"Independent\", \"Ind,near dem\"),\n",
    "                                 democrat = c(\"Not str democrat\", \"Strong democrat\")),\n",
    "         relig2 = fct_lump(relig, n = 6),\n",
    "         rincome2 = fct_collapse(rincome,\n",
    "                                 other = c('No answer', \"Don't know\", \"Refused\", \"Not applicable\")),\n",
    "         rincome2 = fct_lump(rincome2, n = 2)\n",
    "           ) %>%\n",
    "  filter(partyid2 != 'other', marital != 'No answer') %>%\n",
    "  select(-partyid, -relig, -denom, -rincome)\n"
   ]
  },
  {
   "cell_type": "markdown",
   "metadata": {},
   "source": [
    " ## gss_cat data\n",
    "\n",
    " Some data that already come with R that came originally from the (General Social Survey)[https://gssdataexplorer.norc.org/]. Some data processing has been done on this data, primarily to simplify categories of some of the data. The attributes of the data are described in some detail below.\n",
    "\n",
    " - **year**: year of data collection, data collected every other year\n",
    " - **marital**: Marital status; Never Married, Separated, Divorced, Widowed, Married\n",
    " - **age**: Age of the individual\n",
    " - **race**: Race; Black, White, Other\n",
    " - **tvhours**: Number of hours spent watching tv daily\n",
    " - **tv_cat**: The tvhours variable dichotomized into less or equal to 2 hours daily vs more than 2 hours\n",
    " - **partyid2**: Political Affiliation; Republican, Independent, Democrat\n",
    " - **relig2**: Religion; Christian, Jewish, Catholic, Protestant, Other, None\n",
    " - **rincome2**: Dichotomous income variable; $25000 or more vs less than $25000"
   ]
  },
  {
   "cell_type": "code",
   "execution_count": 0,
   "metadata": {},
   "outputs": [],
   "source": [
    "head(gss_cat_mod, n = 10)\n"
   ]
  },
  {
   "cell_type": "code",
   "execution_count": 0,
   "metadata": {},
   "outputs": [],
   "source": [
    "# split into training/test data\n",
    "set.seed(123)\n",
    "gss_cat_split <- initial_split(gss_cat_mod, prop = .8)\n",
    "gss_cat_train <- training(gss_cat_split)\n",
    "gss_cat_test <- testing(gss_cat_split)\n",
    "\n",
    "# explore variable initially\n",
    "gf_bar(~ tv_cat, data = gss_cat_train)\n"
   ]
  },
  {
   "cell_type": "markdown",
   "metadata": {},
   "source": [
    " ### Classification Model\n",
    "\n",
    " Using the `rpart()` function, fit a classification model to the data to predict whether an individual watches 2 or more hours of tv a day. Hypothesize and include the predictors you think would be most relevant in predicting the dichotomous tv variable. Insert the attribute of interest in place of \"$$\" in the `rpart()` function below and fill in the important attributes to predict the dichotomous tv watched variable in place of \"^^\" below."
   ]
  },
  {
   "cell_type": "code",
   "execution_count": 0,
   "metadata": {},
   "outputs": [],
   "source": [
    "tv_class <- rpart($$ ~ ^^, \n",
    "                  method = 'class', data = gss_cat_train)\n",
    "\n",
    "rpart.plot(tv_class, roundint = FALSE, type = 3, branch = .3)\n"
   ]
  },
  {
   "cell_type": "markdown",
   "metadata": {},
   "source": [
    " **Questions:**\n",
    " 1. Which attribute is most important in the classification model?\n",
    " 2. Exploring the probabilities in the classification tree figure (i.e. middle number in the leaves at the bottom of the classification tree), how confident is the model in predicting the class membership?\n",
    " 3. Based on the probabilities and your thoughts on #2, make a prediction for the classification accuracy.\n",
    " 4. Can you think of attributes not in the current data that may help in the prediction?"
   ]
  },
  {
   "cell_type": "markdown",
   "metadata": {},
   "source": [
    " Let's now compute the classification accuracy."
   ]
  },
  {
   "cell_type": "code",
   "execution_count": 0,
   "metadata": {},
   "outputs": [],
   "source": [
    "# Test accuracy\n",
    "gss_cat_test <- gss_cat_test %>%\n",
    "  mutate(model_predicted = predict(tv_class, newdata = gss_cat_test, type = 'class'))\n",
    "\n",
    "gss_cat_test %>%\n",
    "  mutate(same_class = ifelse(tv_cat == model_predicted, 1, 0)) %>%\n",
    "  df_stats(~ same_class, mean, sum, length)\n"
   ]
  },
  {
   "cell_type": "markdown",
   "metadata": {},
   "source": [
    " **Questions:**\n",
    " 1. How strong is this classification? (i.e. interpret the prediction accuracy above).\n",
    " 2. Would you be satisfied in using this model to predict whether an individual watches more than 2 hours of tv in a day?\n",
    " 3. In the output above, what do the columns named \"sum_same_class\" and \"length_same_class\" represent?"
   ]
  },
  {
   "cell_type": "markdown",
   "metadata": {},
   "source": [
    " ### Visually show accuracy\n",
    " Let's visually explore and interpret the accuracy."
   ]
  },
  {
   "cell_type": "code",
   "execution_count": 0,
   "metadata": {},
   "outputs": [],
   "source": [
    "\n",
    "gf_bar(~ tv_cat, fill = ~ model_predicted, data = gss_cat_test, position = 'fill') %>%\n",
    "  gf_labs(y = \"Proportion\", x = \"Observed TV Category\", fill = \"Model Predicted Class\") %>%\n",
    "  gf_refine(scale_y_continuous(breaks = seq(0, 1, .1)))\n"
   ]
  },
  {
   "cell_type": "markdown",
   "metadata": {},
   "source": [
    " ## Impact of training/test split\n",
    " In this section, we will explore with an experiment how the amount of training/test data may influence the prediction accuracy. In the following cell in place of \"^^\", place various proportions that you wish to explore. These proportions would represent the amount of data that would go into the training data. Separate different values by a comma, for example, the code may look like: `proportions <- c(0.1, 0.3, 0.5, 0.7, 0.9)`"
   ]
  },
  {
   "cell_type": "code",
   "execution_count": 0,
   "metadata": {},
   "outputs": [],
   "source": [
    "proportions <- c(^^)\n"
   ]
  },
  {
   "cell_type": "markdown",
   "metadata": {},
   "source": [
    " The cell below will take a little bit of time to run, and will depend on how many values you picked for the `proportions` above. The below code will create 500 different splits of the data, fit the classification model, and then return the predicted classification accuracy. Finally, a violin plot will be created that summarizes the results.\n",
    "\n",
    " *Run the following cell, then hypothesize the results while it is running*\n",
    "\n",
    " 1. **Which proportion of training/test split do you think will result in the best prediction accuracy?**\n",
    " 2. **Do you think one of the training/test splits will result in more precise prediction accuracy estimates?**"
   ]
  },
  {
   "cell_type": "code",
   "execution_count": 0,
   "metadata": {},
   "outputs": [],
   "source": [
    "calc_predict_acc_split <- function(proportion) {\n",
    "  gss_cat_split <- initial_split(gss_cat_mod, prop = proportion)\n",
    "  gss_cat_train <- training(gss_cat_split)\n",
    "  gss_cat_test <- testing(gss_cat_split)\n",
    "  \n",
    "  tv_class <- rpart(tv_cat ~ year + marital + age + race + rincome2 + partyid2 + relig2, \n",
    "                    method = 'class', data = gss_cat_train)\n",
    "  \n",
    "  gss_cat_test <- gss_cat_test %>%\n",
    "    mutate(model_predicted = predict(tv_class, newdata = gss_cat_test, type = 'class'))\n",
    "  gss_cat_test %>%\n",
    "    mutate(same_class = ifelse(tv_cat == model_predicted, 1, 0)) %>%\n",
    "    df_stats(~ same_class, mean, sum)\n",
    "  \n",
    "}\n",
    "\n",
    "predict_accuracy <- vector(\"list\", length(proportions))\n",
    "\n",
    "for(i in seq_along(proportions)) {\n",
    "  predict_accuracy[[i]] <- map(1:500, function(x) calc_predict_acc_split(proportion = proportions[i])) %>%\n",
    "    bind_rows() %>%\n",
    "    mutate(condition = proportions[i])\n",
    "}\n",
    "predict_accuracy <- bind_rows(predict_accuracy)\n",
    "\n",
    "gf_violin(mean_same_class ~ factor(condition), data = predict_accuracy, fill = 'gray80',\n",
    "          draw_quantiles = c(0.1, 0.5, 0.9)) %>% \n",
    "  gf_refine(coord_flip()) %>%\n",
    "  gf_labs(x = \"Proportion in Training Data\",\n",
    "          y = \"Prediction Accuracy\") "
   ]
  },
  {
   "cell_type": "markdown",
   "metadata": {},
   "source": [
    " **Questions:**\n",
    " 1. What seems to be the overall impact that the proportion of data in the training data? More specifically, what are key differences you see in the violin plot?\n",
    " 2. Based on this small experiment, does there appear to be an optimal strategy for splitting the data into training/test data for the classification model?\n",
    " 3. Is there additional information you would want to explore to better understand how well the classification accuracy is?\n",
    " 4. Are you surprised by the results shown in the violin plot above? Why or why not?"
   ]
  }
 ],
 "metadata": {
  "file_extension": ".py",
  "kernelspec": {
   "display_name": "R",
   "language": "R",
   "name": "ir"
  },
  "language_info": {
   "codemirror_mode": "r",
   "file_extension": ".r",
   "mimetype": "text/x-r-source",
   "name": "R",
   "pygments_lexer": "r",
   "version": "3.6.1"
  },
  "mimetype": "text/x-python",
  "name": "python",
  "npconvert_exporter": "python",
  "pygments_lexer": "ipython3",
  "version": 3
 },
 "nbformat": 4,
 "nbformat_minor": 2
}
