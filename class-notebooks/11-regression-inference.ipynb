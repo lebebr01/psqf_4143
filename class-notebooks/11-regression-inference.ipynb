{"cells":[{"cell_type":"markdown","source":["  ## Linear Regression - Inference\n",""],"metadata":{}},{"cell_type":"markdown","source":["  ## Description of the Data\n","  These data contain information on mother's and baby's health for 1,174 pregnant women."],"metadata":{}},{"source":[".libPaths('../RPackages')\n","\n","library(tidyverse)\n","library(ggformula)\n","library(mosaic)\n","\n","theme_set(theme_bw())\n","\n","baby <- read_csv(\"https://raw.githubusercontent.com/lebebr01/statthink/master/data-raw/baby.csv\")\n","head(baby)\n",""],"cell_type":"code","outputs":[],"metadata":{},"execution_count":0},{"cell_type":"markdown","source":[" ## Linear Regression Again\n"," Below is the linear regression model we fitted with a single variable, `gestational_days` predicting `birth_weight`. As you can see from the coefficients, the estimate for the slope was 0.47. However, this is an estimate of the true effect and we would like to understand what this effect is for the population. Since the sample only have 1,174 women and the birth weight of their babies, the sample value likely will not equal exactly the population value, there will be some error involved."],"metadata":{}},{"source":["baby_reg <- lm(birth_weight ~ gestational_days, data = baby)\n","coef(baby_reg)\n",""],"cell_type":"code","outputs":[],"metadata":{},"execution_count":0},{"cell_type":"markdown","source":[" ## Estimating Error\n"," In order to get some sense of the amount of error in the estimate of the linear slope here, a bootstrap can be done to provide some evidence of the likely range of slope values. The bootstrap will take the following general steps:\n"," 1. Resample the observed data available, with replacement\n"," 2. Fit the same linear regression model as above.\n"," 3. Save the slope coefficient representing the relationship between birth weight and gestational days\n"," 4. Repeat steps 1 - 3 many times\n"," 5. Explore the distribution of slope estimates from the many resampled data sets.\n","\n"," When this was done with the classification tree, a function was used to do these steps once, then these were repeated many times. Below is a function that does the steps 1 - 3 above a single time."],"metadata":{}},{"source":["resample_baby <- function(...) {\n","  baby_resample <- baby %>%\n","    sample_n(nrow(baby), replace = TRUE)\n","\n","  baby_resample %>%\n","    lm(birth_weight ~ gestational_days, data = .) %>%\n","    coef(.) %>%\n","    .[2] %>%\n","    data.frame()\n","}\n","\n","resample_baby()\n",""],"cell_type":"code","outputs":[],"metadata":{},"execution_count":0},{"cell_type":"markdown","source":[" Now that there is a function that does steps 1 - 3, these processes can now be repeated many times."],"metadata":{}},{"source":["baby_coef <- map(1:5000, resample_baby) %>%\n","  bind_rows()\n","names(baby_coef) <- 'slope'\n","\n","gf_density(~ slope, data = baby_coef)\n",""],"cell_type":"code","outputs":[],"metadata":{},"execution_count":0},{"source":["baby_coef %>%\n","  df_stats(~ slope, quantile(c(0.05, 0.5, 0.95)))\n",""],"cell_type":"code","outputs":[],"metadata":{},"execution_count":0}],"nbformat":4,"nbformat_minor":2,"metadata": {
  "file_extension": ".py",
  "kernelspec": {
   "display_name": "R",
   "language": "R",
   "name": "ir"
  },
  "language_info": {
   "codemirror_mode": "r",
   "file_extension": ".r",
   "mimetype": "text/x-r-source",
   "name": "R",
   "pygments_lexer": "r",
   "version": "3.6.1"
  },
  "mimetype": "text/x-python",
  "name": "python",
  "npconvert_exporter": "python",
  "pygments_lexer": "ipython3",
  "version": 3
 }}