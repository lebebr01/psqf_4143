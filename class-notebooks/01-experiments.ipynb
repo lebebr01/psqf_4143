{
 "cells": [
  {
   "cell_type": "markdown",
   "metadata": {},
   "source": [
    "\n",
    " ## Exploring Data Sources\n",
    "\n",
    " Data sources are incredibly important to the types of conclusions that can be made from the data we have.\n",
    "\n",
    " ## Motivating Examples\n",
    "\n",
    " There have been numerous examples of experiments conducted throughout history. We will explore a few prior to interacting with real world data to think about concerns to keep in mind with regard to drawing conclusions in a specific example.\n",
    "\n",
    " ### Smoking Ban\n",
    "\n",
    " For 6 months between June 2002 and December 2002, Helena Montana implemented a public smoking ban. The ban removed the ability for individuals to smoke in public buildings including bars and restaurants. Helena is a small town that is relatively isolated from other locations and only contains a single hospital, so any health effects are routed to the single hospital in the city. Below is a map showing where Helena is located in Montana. After these 6 months, those opposed to the public smoking ban were able to get the ban removed.\n",
    " ![](images/helena-location.png)\n",
    "\n",
    " Researchers compared the average number of people admitted for heart attacks prior to the public smoking ban, during the public smoking ban, and after the public smoking ban. Researchers found that during the public smoking ban that the average number of patients admitted for heart attacks decreased by 60%. This effect went away after the smoking ban was removed.\n",
    " 1. What is unique about this setup?\n",
    " 2. What factors, if any, may influence the results found here?\n",
    " 3. Can you think of other possible interpretations for this effect?"
   ]
  },
  {
   "cell_type": "markdown",
   "metadata": {},
   "source": [
    " More information about this can be found here: https://www.webmd.com/smoking-cessation/news/20030401/smoking-ban-saves-lives-in-montana-town#1"
   ]
  },
  {
   "cell_type": "markdown",
   "metadata": {},
   "source": [
    " ### Vietnam War Draft\n",
    "\n",
    " A researcher in 1990, Angrist, evaluated the impact of military service on lifetime earnings. Angrist studied the era associated with the vietnam war. In the vietnam war, a draft was used to select individuals for military service, similar to one conducted during World War II. The draft consisted of a two stage process, first 365 days of the year were entered into a lottery where each day represented a birthday and selected one at a time. The first one drawn was 258, which reflected a birthday of September 14. After these were all selected, a second lottery occured with all 26 letters of the alphabet which represents the first initial of men's name. These were also drawn randomly. More information about the lottery can be found here: https://en.wikipedia.org/wiki/Draft_lottery_(1969). Note, there is a lot of controversy regarding this lottery and whether it was truly random or not. It was later discovered that the paper slips that contained the 365 days of the year were entered into the glass jar in order of month and were not mixed suitably therefore those with November and December birthdays were more likely to be drafted.\n",
    "\n",
    " Angrist used this random process of lottery selection to explore how military service effects lifetime earnings and found that on average those that served during the vietnam war earned 15% less.\n",
    "\n",
    " ### Compare the Two Situations\n",
    "\n",
    " 1. What is similar about the two situations in how the data were collected?\n",
    " 2. What differed?"
   ]
  },
  {
   "cell_type": "markdown",
   "metadata": {},
   "source": [
    " ## Random Assignment\n",
    "\n",
    " The key between these two situations is **random assignment** (although those depicted above are natural experiments in which these studies are observational). Random assignment, if done appropriately, helps to equalize other characteristics for the two (or more) groups to provide a more direct comparison of the treatment effect. These are very popular in medicine, but are also found in the social sciences to help establish causal arguments. Without random assignment, or other statisical techniques to equalize groups, the statements about causality can not be made. If random assignment into groups is feasible, then this type of study is often referred to as a *randomized control trial*.\n",
    "\n",
    " 1. Is random assignment possible in all situations?\n",
    "     - Can you identify a situation where it is possible?\n",
    "     - What about a situation where it is not possible?\n",
    "\n",
    " If the groups are not equal, then we say there are **confounding factors** present that impact the conclusions that can be drawn from the results of the data analysis."
   ]
  },
  {
   "cell_type": "markdown",
   "metadata": {},
   "source": [
    " ## Real Data Example\n",
    "\n",
    " We are going to use some real data about higher education institutions from the college scorecard (https://collegescorecard.ed.gov/) to explore the types of conclusions we can make from the data. The college scorecard releases data on higher education institutions to help make the institutions more transparent and provide a place for parents, students, educators, etc can get information about specific instituations from a third party (i.e. US Department of Education).\n",
    "\n",
    " ### Loading R packages"
   ]
  },
  {
   "cell_type": "code",
   "execution_count": 0,
   "metadata": {},
   "outputs": [],
   "source": [
    "library(tidyverse)\n",
    "library(ggformula)\n",
    "library(mosaic)\n",
    "library(remotes)\n"
   ]
  },
  {
   "cell_type": "markdown",
   "metadata": {},
   "source": [
    " ### Read in Data\n",
    "\n",
    " The below code will read in the data for us to use in the future. The R function to read in the data is `read_csv()`. Function arguments are passed within the parentheses and for the `read_csv()` function the first argument is the path to the data. The data for this example are posted on GitHub in a comma separated file. This means the data is stored in a text format and each variable (i.e. column in the data) is separated by a comma. This is a common format data is stored.\n",
    "\n",
    " The data is stored to an object named `college_score`. In R (and other statistical programming languages), it is common to use objects to store results to use later. In this instance, we would like to read in the data and store it to use it later. For example, we will likely want to explore the data visually to see if we can extract some trends from the data. The assignment to an object in R is done with the `<-` assignment operator. Finally, there is one additional argument, `guess_max` which helps to ensure that the data are read in appropriately. More on this later."
   ]
  },
  {
   "cell_type": "code",
   "execution_count": 0,
   "metadata": {},
   "outputs": [],
   "source": [
    "college_score <- read_csv(\"https://raw.githubusercontent.com/lebebr01/statthink/master/data-raw/College-scorecard-4143.csv\", guess_max = 10000))\n"
   ]
  },
  {
   "cell_type": "markdown",
   "metadata": {},
   "source": [
    " ### View the Data\n",
    "\n",
    " The `head()` function is R is useful to get a quick snapshot of the data to ensure that is has been read in appropriately."
   ]
  },
  {
   "cell_type": "code",
   "execution_count": 0,
   "metadata": {},
   "outputs": [],
   "source": [
    "head(college_score)\n"
   ]
  },
  {
   "cell_type": "markdown",
   "metadata": {},
   "source": [
    "\n",
    " As you are a budding statistician, suppose we are interested in exploring the average debt of those that graduate from the institutions as we make decisions about which college or university to attend. This data is stored in the column/variable `debt_mdn`. Let's first create a figure to explore this variable."
   ]
  },
  {
   "cell_type": "code",
   "execution_count": 0,
   "metadata": {},
   "outputs": [],
   "source": [
    "gf_histogram(~ debt_mdn, data = college_score)\n"
   ]
  },
  {
   "cell_type": "markdown",
   "metadata": {},
   "source": [
    "\n",
    " 1. What can you say about this variable?\n",
    " 2. Are there unique features of this variable that are worth noting?\n",
    " 3. What may be some other factors that would be important to consider? Or stated another way, are there college or university characteristics that may impact the amount of debt the institution has for their students on average?\n",
    " 4. Are there limitations to this data?"
   ]
  },
  {
   "cell_type": "markdown",
   "metadata": {},
   "source": [
    " ### College Scorecard Plains Data\n",
    "\n",
    " Suppose we only had data for the colleges and universities found in the plains.\n",
    " 1. When would this information be useful for helping us make a decision about average debt and which institution to attend?\n",
    " 2. When might this data not be appropriate (i.e. are there limitations to be concerned about?)?\n",
    "\n",
    " #### Read in and View Plains College Data"
   ]
  },
  {
   "cell_type": "code",
   "execution_count": 0,
   "metadata": {},
   "outputs": [],
   "source": [
    "college_score_plains <- read_csv(\"https://raw.githubusercontent.com/lebebr01/statthink/master/data-raw/College-scorecard-4143-plains.csv\", guess_max = 1000)\n",
    "head(college_score_plains)\n"
   ]
  },
  {
   "cell_type": "markdown",
   "metadata": {},
   "source": [
    " #### Explore `debt_mdn` Variable"
   ]
  },
  {
   "cell_type": "code",
   "execution_count": 0,
   "metadata": {},
   "outputs": [],
   "source": [
    "gf_histogram(~ debt_mdn, data = college_score_plains)\n"
   ]
  },
  {
   "cell_type": "markdown",
   "metadata": {},
   "source": [
    " 1. Are there differences in the debt for the plains colleges compared to the entire data?\n",
    " 2. Would there be different factors that may impact debt for the plains states compared to the entire data?\n",
    " 3. Are either of these data coming from experiments?\n",
    "    - How does this impact the decisions we can make from the data?"
   ]
  }
 ],
 "metadata": {
  "file_extension": ".py",
  "kernelspec": {
   "display_name": "R",
   "language": "R",
   "name": "ir"
  },
  "language_info": {
   "codemirror_mode": "r",
   "file_extension": ".r",
   "mimetype": "text/x-r-source",
   "name": "R",
   "pygments_lexer": "r",
   "version": "3.6.1"
  },
  "mimetype": "text/x-python",
  "name": "python",
  "npconvert_exporter": "python",
  "pygments_lexer": "ipython3",
  "version": 3
 },
 "nbformat": 4,
 "nbformat_minor": 2
}
