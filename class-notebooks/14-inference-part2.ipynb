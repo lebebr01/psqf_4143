{
 "cells": [
  {
   "cell_type": "markdown",
   "metadata": {},
   "source": [
    " ## Skewed Data - Inference\n",
    " In one example, a skewed distribution was transformed prior to conducting the analysis with a regression tree. Another approach could be to use a more robust statistic such as the median. One limitation of the median, is that a linear regression model as we have covered so far, does not allow you to fit the model while using the median."
   ]
  },
  {
   "cell_type": "code",
   "execution_count": null,
   "metadata": {
    "vscode": {
     "languageId": "r"
    }
   },
   "outputs": [],
   "source": [
    "library(tidyverse)\n",
    "library(ggformula)\n",
    "library(mosaic)\n",
    "library(broom)\n",
    "\n",
    "theme_set(theme_bw(base_size = 18))\n",
    "\n",
    "college_score <- read_csv(\"https://raw.githubusercontent.com/lebebr01/statthink/master/data-raw/College-scorecard-4143.csv\", guess_max = 10000)\n",
    "head(college_score)\n",
    "\n",
    "adm_model <- lm(adm_rate ~ preddeg, data = college_score)\n",
    "coef(adm_model)"
   ]
  },
  {
   "cell_type": "markdown",
   "metadata": {},
   "source": [
    " Prior to doing the median, we can bootstrap the mean difference from the model above."
   ]
  },
  {
   "cell_type": "code",
   "execution_count": null,
   "metadata": {
    "vscode": {
     "languageId": "r"
    }
   },
   "outputs": [],
   "source": [
    "resample_admrate <- function(...) {\n",
    "  college_resample <- college_score |>\n",
    "    sample_n(nrow(college_score), replace = TRUE)\n",
    "\n",
    "  lm(adm_rate ~ preddeg, data = college_resample) |>\n",
    "    tidy() |>\n",
    "    select(term, estimate)\n",
    "}\n",
    "\n",
    "resample_admrate()"
   ]
  },
  {
   "cell_type": "code",
   "execution_count": null,
   "metadata": {
    "vscode": {
     "languageId": "r"
    }
   },
   "outputs": [],
   "source": [
    "admrate_coef <- map_dfr(1:10000, resample_admrate)\n",
    "\n",
    "admrate_coef |>\n",
    "  gf_density(~ estimate) |> \n",
    "  gf_facet_wrap(~ term, scales = 'free_x')"
   ]
  },
  {
   "cell_type": "markdown",
   "metadata": {},
   "source": [
    " ## Bootstrap Median\n",
    " The bootstrap for the median will take much of a similar process as before, the major difference being that a model will not be fitted. Instead, we will compute statistics for the median of each group, take differences of the median to represent the median difference between the groups and then replicate.\n",
    "\n",
    "  1. Resample the observed data available, with replacement\n",
    "  2. Estimate median for each group.\n",
    "  3. Calculate median difference between the groups\n",
    "  4. Repeat steps 1 - 3 many times\n",
    "  5. Explore the distribution of median differences from the many resampled data sets."
   ]
  },
  {
   "cell_type": "code",
   "execution_count": null,
   "metadata": {
    "vscode": {
     "languageId": "r"
    }
   },
   "outputs": [],
   "source": [
    "resample_admrate_median <- function(...) {\n",
    "  college_resample <- college_score |>\n",
    "    sample_n(nrow(college_score), replace = TRUE)\n",
    "\n",
    "  med_est <- college_resample |>\n",
    "    df_stats(adm_rate ~ preddeg, median) |>\n",
    "    spread(preddeg, median)\n",
    "\n",
    "  names(med_est)[2:4] <- c(\"Associate\", \"Bachelor\", \"Certificate\")\n",
    "  \n",
    "  med_est |> \n",
    "    mutate(bachelor_associate = Bachelor - Associate,\n",
    "           certificate_associate = Certificate - Associate,\n",
    "           bachelor_certificate = Bachelor - Certificate) |>\n",
    "    gather(Associate:bachelor_certificate, \n",
    "                 key = \"Term\", \n",
    "                 value = \"Median_Difference\")\n",
    "}\n",
    "\n",
    "resample_admrate_median()"
   ]
  },
  {
   "cell_type": "code",
   "execution_count": null,
   "metadata": {
    "vscode": {
     "languageId": "r"
    }
   },
   "outputs": [],
   "source": [
    "admrate_median <- map_dfr(1:10000, resample_admrate_median)\n",
    "\n",
    "admrate_median |>\n",
    "    filter(Term %in% c('bachelor_associate', 'certificate_associate', 'bachelor_certificate')) |>\n",
    "    gf_density(~ Median_Difference) |> \n",
    "    gf_facet_wrap(~ Term, scales = 'free_x')"
   ]
  }
 ],
 "metadata": {
  "file_extension": ".py",
  "kernelspec": {
   "display_name": "R",
   "language": "R",
   "name": "ir"
  },
  "language_info": {
   "codemirror_mode": "r",
   "file_extension": ".r",
   "mimetype": "text/x-r-source",
   "name": "R",
   "pygments_lexer": "r",
   "version": "4.0.2"
  },
  "mimetype": "text/x-python",
  "name": "python",
  "npconvert_exporter": "python",
  "orig_nbformat": 2,
  "pygments_lexer": "ipython3",
  "version": 3
 },
 "nbformat": 4,
 "nbformat_minor": 2
}
