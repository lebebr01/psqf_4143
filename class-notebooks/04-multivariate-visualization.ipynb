{
 "cells": [
  {
   "cell_type": "markdown",
   "source": [
    "  ## Multivariate Data Visualization\n",
    "\n",
    "  Data visualization is an incredibly rich tool to explore and understand data. Data visualization is often the first way to see if there are extreme data values, how much variation there is in the data, and where typical values lie in the distribution. In this section of the course, we plan to explore the following related to distributions:  \n",
    "  \n",
    "  1. Univariate distributions\n",
    "      + Shape\n",
    "      + Center\n",
    "      + Spread\n",
    "      + Extreme Values\n",
    "  2. Multivariate distributions\n",
    "      + Shape\n",
    "      + Center\n",
    "      + Spread\n",
    "      + Extreme Values\n",
    "      + Comparing distributions\n"
   ],
   "metadata": {}
  },
  {
   "cell_type": "markdown",
   "source": [
    "   ## Multivariate Distributions\n",
    "\n",
    "   We are going to use some real data about higher education institutions from the college scorecard (https://collegescorecard.ed.gov/) to explore the types of conclusions we can make from the data. The college scorecard releases data on higher education institutions to help make the institutions more transparent and provide a place for parents, students, educators, etc can get information about specific instituations from a third party (i.e. US Department of Education).\n",
    "\n",
    "   ### Loading R packages"
   ],
   "metadata": {}
  },
  {
   "source": [
    ".libPaths('../RPackages')\n",
    "\n",
    "library(tidyverse)\n",
    "library(ggformula)\n",
    "\n",
    "theme_set(theme_bw())\n",
    ""
   ],
   "cell_type": "code",
   "outputs": [],
   "metadata": {},
   "execution_count": 0
  },
  {
   "cell_type": "markdown",
   "source": [
    "   ### Read in Data\n",
    "\n",
    "   The below code will read in the data for us to use in the future. The R function to read in the data is `read_csv()`. Function arguments are passed within the parentheses and for the `read_csv()` function the first argument is the path to the data. The data for this example are posted on GitHub in a comma separated file. This means the data is stored in a text format and each variable (i.e. column in the data) is separated by a comma. This is a common format data is stored.\n",
    "\n",
    "   The data is stored to an object named `college_score`. In R (and other statistical programming languages), it is common to use objects to store results to use later. In this instance, we would like to read in the data and store it to use it later. For example, we will likely want to explore the data visually to see if we can extract some trends from the data. The assignment to an object in R is done with the `<-` assignment operator. Finally, there is one additional argument, `guess_max` which helps to ensure that the data are read in appropriately. More on this later."
   ],
   "metadata": {}
  },
  {
   "source": [
    "college_score <- read_csv(\"https://raw.githubusercontent.com/lebebr01/statthink/master/data-raw/College-scorecard-4143.csv\", guess_max = 10000)\n",
    "head(college_score)\n",
    ""
   ],
   "cell_type": "code",
   "outputs": [],
   "metadata": {},
   "execution_count": 0
  },
  {
   "cell_type": "markdown",
   "source": [
    "   ## Multivariate Distributions\n",
    "\n",
    "   Real world data are never as simple exploring a distribution of a single variable, particularly when trying to understand individual variation. In most cases things interact, move in tandem, and many phenomena help to explain the variable of interest. For example, when thinking about admission rates, what may be some important factors that would explain some of the reasons why higher education institutions differ in their admission rates? Take a few minutes to brainstorm some ideas.\n",
    ""
   ],
   "metadata": {}
  },
  {
   "source": [
    "gf_histogram(~ adm_rate, data = college_score, bins = 30, fill = ~ preddeg) %>%\n",
    "  gf_labs(x = 'Admission Rate (in %)',\n",
    "          title = 'Multivariate distribution of higher education admission rates by degree type',\n",
    "          fill = \"Primary Deg\")\n",
    ""
   ],
   "cell_type": "code",
   "outputs": [],
   "metadata": {},
   "execution_count": 0
  },
  {
   "cell_type": "markdown",
   "source": [
    "   Often density plots are easier to visualize when there are more than one group. To plot more than one density curve, we need to specify the color or fill arguments. Below depicts a few ways to specify these arguments and what the resulting figure looks like. I prefer either color and fill or just color with a light gray background for the density figures (last 2 figures)."
   ],
   "metadata": {}
  },
  {
   "source": [
    "gf_density(~ adm_rate, data = college_score, color = ~ preddeg) %>%\n",
    "  gf_labs(x = 'Admission Rate (in %)',\n",
    "          title = 'Multivariate distribution of higher education admission rates by degree type',\n",
    "          color = \"Primary Deg\")\n",
    "\n",
    ""
   ],
   "cell_type": "code",
   "outputs": [],
   "metadata": {},
   "execution_count": 0
  },
  {
   "source": [
    "gf_density(~ adm_rate, data = college_score, fill = ~ preddeg) %>%\n",
    "  gf_labs(x = 'Admission Rate (in %)',\n",
    "          title = 'Multivariate distribution of higher education admission rates by degree type',\n",
    "          fill = \"Primary Deg\")\n",
    "\n",
    ""
   ],
   "cell_type": "code",
   "outputs": [],
   "metadata": {},
   "execution_count": 0
  },
  {
   "source": [
    "gf_density(~ adm_rate, data = college_score, fill = ~ preddeg, color = ~ preddeg) %>%\n",
    "  gf_labs(x = 'Admission Rate (in %)',\n",
    "          title = 'Multivariate distribution of higher education admission rates by degree type',\n",
    "          color = \"Primary Deg\",\n",
    "          fill = \"Primary Deg\")\n",
    "\n",
    ""
   ],
   "cell_type": "code",
   "outputs": [],
   "metadata": {},
   "execution_count": 0
  },
  {
   "source": [
    "gf_density(~ adm_rate, data = college_score, color = ~ preddeg, fill = 'gray85', size = 1) %>%\n",
    "  gf_labs(x = 'Admission Rate (in %)',\n",
    "          title = 'Multivariate distribution of higher education admission rates by degree type',\n",
    "          color = \"Primary Deg\")\n",
    ""
   ],
   "cell_type": "code",
   "outputs": [],
   "metadata": {},
   "execution_count": 0
  },
  {
   "cell_type": "markdown",
   "source": [
    "\n",
    "   ## Violin Plots\n",
    "\n",
    "   Violin plots are another way to make comparisons of distributions across groups. Violin plots are also easier to show more groups on a single graph. Violin plots are density plots that are mirrored to be fully enclosed. Best to explore with an example."
   ],
   "metadata": {}
  },
  {
   "source": [
    "gf_violin(adm_rate ~ preddeg, data = college_score) %>%\n",
    "  gf_labs(y = 'Admission Rate (in %)',\n",
    "          title = 'Multivariate distribution of higher education admission rates by degree type',\n",
    "          x = \"Primary Deg\")\n",
    ""
   ],
   "cell_type": "code",
   "outputs": [],
   "metadata": {},
   "execution_count": 0
  },
  {
   "cell_type": "markdown",
   "source": [
    "   Aesthetically, these figures are a bit more pleasing to look at if they include a light fill color. This is done similar to the density plots shown above with the `fill = ` argument."
   ],
   "metadata": {}
  },
  {
   "source": [
    "gf_violin(adm_rate ~ preddeg, data = college_score, fill = 'gray85') %>%\n",
    "  gf_labs(y = 'Admission Rate (in %)',\n",
    "          title = 'Multivariate distribution of higher education admission rates by degree type',\n",
    "          x = \"Primary Deg\")\n",
    "          \n",
    ""
   ],
   "cell_type": "code",
   "outputs": [],
   "metadata": {},
   "execution_count": 0
  },
  {
   "cell_type": "markdown",
   "source": [
    "   Adding quantiles are useful to aid in the comparison with the violin plots. These can be added with the `draw_quantiles` argument."
   ],
   "metadata": {}
  },
  {
   "source": [
    "gf_violin(adm_rate ~ preddeg, data = college_score, fill = 'gray85', draw_quantiles = c(.1, .5, .9)) %>%\n",
    "  gf_labs(y = 'Admission Rate (in %)',\n",
    "          title = 'Multivariate distribution of higher education admission rates by degree type',\n",
    "          x = \"Primary Deg\")\n",
    ""
   ],
   "cell_type": "code",
   "outputs": [],
   "metadata": {},
   "execution_count": 0
  },
  {
   "cell_type": "markdown",
   "source": [
    "   ### Violin Plots with many groups\n",
    "\n",
    "   Many groups are more easily shown in the violin plot framework."
   ],
   "metadata": {}
  },
  {
   "cell_type": "markdown",
   "source": [
    "   With many groups, it is often of interest to put the long x-axis labels representing each group on the y-axis so that it reads the correct direction and the labels do not run into each other. This can be done with the `gf_refine()` function with `coord_flip()`. This also fits better with the orientation we have explored with density and histograms where the attribute of interest is depicted on the x-axis. For this course, I will always flip violin plots so that the attribute of interest, in this case admission rates, is on the x-axis. "
   ],
   "metadata": {}
  },
  {
   "source": [
    "gf_violin(adm_rate ~ region, data = college_score, fill = 'gray80', draw_quantiles = c(.1, .5, .9)) %>%\n",
    "  gf_labs(y = 'Admission Rate (in %)',\n",
    "          title = 'Multivariate distribution of higher education admission rates by degree type',\n",
    "          x = \"US Region\") %>%\n",
    "  gf_refine(coord_flip())\n",
    ""
   ],
   "cell_type": "code",
   "outputs": [],
   "metadata": {},
   "execution_count": 0
  },
  {
   "cell_type": "markdown",
   "source": [
    "   ## Facetting\n",
    "\n",
    "   Facetting is another way to explore distributions of two or more variables."
   ],
   "metadata": {}
  },
  {
   "source": [
    "gf_violin(adm_rate ~ region, data = college_score, fill = 'gray80', draw_quantiles = c(.1, .5, .9)) %>%\n",
    "  gf_labs(y = 'Admission Rate (in %)',\n",
    "          title = 'Multivariate distribution of higher education admission rates by degree type',\n",
    "          x = \"US Region\") %>%\n",
    "  gf_refine(coord_flip()) %>%\n",
    "  gf_facet_wrap(~ preddeg)\n",
    "\n",
    "\n",
    "\n",
    "\n",
    ""
   ],
   "cell_type": "code",
   "outputs": [],
   "metadata": {},
   "execution_count": 0
  }
 ],
 "nbformat": 4,
 "nbformat_minor": 2,
 "metadata": {
  "file_extension": ".py",
  "kernelspec": {
   "display_name": "R",
   "language": "R",
   "name": "ir"
  },
  "language_info": {
   "codemirror_mode": "r",
   "file_extension": ".r",
   "mimetype": "text/x-r-source",
   "name": "R",
   "pygments_lexer": "r",
   "version": "4.0.2"
  },
  "mimetype": "text/x-python",
  "name": "python",
  "npconvert_exporter": "python",
  "pygments_lexer": "ipython3",
  "version": 3
 }
}