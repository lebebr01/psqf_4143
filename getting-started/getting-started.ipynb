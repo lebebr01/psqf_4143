{
 "cells": [
  {
   "cell_type": "markdown",
   "metadata": {},
   "source": [
    " ## Getting Started\n",
    "\n",
    " To get started using Jupyter Notebooks, you first need to click on the link from ICON to get access directly to the Jupyter Notebook instance setup for this course. Once in the notebook for this course,"
   ]
  },
  {
   "cell_type": "markdown",
   "metadata": {},
   "source": [
    " ## Installing R packages\n",
    "\n",
    " This step will need to be ran once at the beginning to ensure that we have access to all the relavant packages used in this course. Once a package is installed, you will not need to install that package again. The code for installing packages will be given to you directly, so no need to worry about generating this code, you will simply need to run this code once as written.\n",
    "\n",
    " ### Install first R packages\n",
    " Below is the code to install the first bit of R packages that will be used in this course. There may be subsequent R packages as the course is fully developed and these will be introduced in a just in time framework."
   ]
  },
  {
   "cell_type": "code",
   "execution_count": 0,
   "metadata": {},
   "outputs": [],
   "source": [
    "install.packages(c(\"tidyverse\", \"ggformula\", \"mosaic\", \"remotes\"), repos=\"http://cran.rstudio.com\")\n"
   ]
  },
  {
   "cell_type": "markdown",
   "metadata": {},
   "source": [
    " ## Loading R packages\n",
    "\n",
    " Once the packages have been installed, they do need to be loaded everytime. This will be done with the `library()` function in R and will also be provided for you in this course. Below is an example of loading the packages we just installed, this is a good step here to ensure that the packages have been installed appropriately on your instance of this server."
   ]
  },
  {
   "cell_type": "code",
   "execution_count": 0,
   "metadata": {},
   "outputs": [],
   "source": [
    "library(tidyverse)\n",
    "library(ggformula)\n",
    "library(mosaic)\n",
    "library(remotes)\n"
   ]
  },
  {
   "cell_type": "markdown",
   "metadata": {},
   "source": [
    " ## Testing Installation\n",
    "\n",
    " Once the packages have been loaded, let's test the installation by creating a plot with R using data that comes with the packages we already loaded. Below is some code to try to run once the R packages above have been successfully loaded."
   ]
  },
  {
   "cell_type": "code",
   "execution_count": 0,
   "metadata": {},
   "outputs": [],
   "source": [
    "gf_histogram(~ wage, data = CPS85)\n"
   ]
  },
  {
   "cell_type": "markdown",
   "metadata": {},
   "source": [
    "\n",
    " This should create a histogram (more on this type of figure later) that shows the distribution of the wage variable from the CPS85 data. This data comes with the mosaicData package and is data from the 1985 Current Population Survey."
   ]
  }
 ],
 "metadata": {
  "file_extension": ".py",
  "kernelspec": {
   "display_name": "Python 3",
   "language": "python",
   "name": "python3"
  },
  "language_info": {
   "codemirror_mode": {
    "name": "ipython",
    "version": 3
   },
   "file_extension": ".py",
   "mimetype": "text/x-python",
   "name": "python",
   "nbconvert_exporter": "python",
   "pygments_lexer": "ipython3",
   "version": "3.7.3"
  },
  "mimetype": "text/x-python",
  "name": "python",
  "npconvert_exporter": "python",
  "pygments_lexer": "ipython3",
  "version": 3
 },
 "nbformat": 4,
 "nbformat_minor": 2
}
