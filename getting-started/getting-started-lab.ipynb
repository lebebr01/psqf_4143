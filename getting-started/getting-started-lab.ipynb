{
 "cells": [
  {
   "cell_type": "markdown",
   "metadata": {},
   "source": [
    " ## Getting Started - Lab Section\n",
    "\n",
    " To get started using Jupyter Notebooks, you first need to click on the link from ICON to get access directly to the Jupyter Notebook instance setup for this course. Once in the notebook for this course, we can then run R commands and also generate text for the document."
   ]
  },
  {
   "cell_type": "markdown",
   "metadata": {},
   "source": [
    " ## Installing R packages\n",
    "\n",
    " This step will need to be ran once at the beginning to ensure that we have access to all the relavant packages used in this course. Once a package is installed, you will not need to install that package again. The code for installing packages will be given to you directly, so no need to worry about generating this code, you will simply need to run this code once as written.\n",
    "\n",
    " ### Install first R packages\n",
    " Below is the code to install the first bit of R packages that will be used in this course. There may be subsequent R packages as the course progresses and these will be introduced in a just in time framework.\n",
    "\n",
    " As this is the newer service, one thing we need to do in this situation is install R packages to a specific folder within the user profile. The following commands do this. Do not worry about these commands, these will be given to you for every Jupyter Notebook we use in the course."
   ]
  },
  {
   "cell_type": "code",
   "execution_count": 0,
   "metadata": {},
   "outputs": [],
   "source": [
    "dir.create('../RPackages')\n"
   ]
  },
  {
   "cell_type": "code",
   "execution_count": 0,
   "metadata": {},
   "outputs": [],
   "source": [
    "HOME <- Sys.getenv(c(\"HOME\"))\n",
    "Packages <- \"/RPackages\"\n",
    "Packages <- c(HOME,Packages)\n",
    ".libPaths(\"../RPackages\")\n",
    "\n",
    "install.packages(c(\"tidyverse\", \"ggformula\", \"mosaic\", \"remotes\"), repos=\"http://cran.rstudio.com\")\n"
   ]
  },
  {
   "cell_type": "markdown",
   "metadata": {},
   "source": [
    " You can confirm that the packages have been installed correctly by inspecting a new folder called \"RPackages\" in the psqf_4143 folder found on the main IDAS page. Below I've included a screenshot of this.\n",
    " ![](../images/folder-location.png)"
   ]
  }
 ],
 "metadata": {
  "file_extension": ".py",
  "kernelspec": {
   "display_name": "R",
   "language": "R",
   "name": "ir"
  },
  "language_info": {
   "codemirror_mode": "r",
   "file_extension": ".r",
   "mimetype": "text/x-r-source",
   "name": "R",
   "pygments_lexer": "r",
   "version": "3.6.1"
  },
  "mimetype": "text/x-python",
  "name": "python",
  "npconvert_exporter": "python",
  "pygments_lexer": "ipython3",
  "version": 3
 },
 "nbformat": 4,
 "nbformat_minor": 2
}
